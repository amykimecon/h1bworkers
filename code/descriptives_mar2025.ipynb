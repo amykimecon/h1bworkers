{
 "cells": [
  {
   "cell_type": "markdown",
   "metadata": {},
   "source": [
    "# Descriptives Notebook: Initial Analysis for H1B Project March 2025"
   ]
  },
  {
   "cell_type": "code",
   "execution_count": 118,
   "metadata": {},
   "outputs": [],
   "source": [
    "# Imports and Paths\n",
    "root = \"/Users/amykim/Princeton Dropbox/Amy Kim/h1bworkers\"\n",
    "code = \"/Users/amykim/Documents/GitHub/h1bworkers/code\"\n",
    "\n",
    "import duckdb as ddb\n",
    "import pandas as pd\n",
    "import numpy as np\n",
    "from scipy import stats\n",
    "import matplotlib.pyplot as plt\n",
    "import seaborn as sns\n",
    "import employer_merge_helpers as emh\n",
    "import analysis_helpers as ah\n",
    "import statsmodels.formula.api as smf\n",
    "\n",
    "con = ddb.connect()\n",
    "\n",
    "# creating sql functions\n",
    "con.create_function(\"get_fiscal_year\", ah.get_fiscal_year_sql, [\"VARCHAR\"], \"VARCHAR\")\n",
    "\n",
    "con.create_function(\"get_fiscal_year_foia\", ah.get_fiscal_year_foia_sql, [\"VARCHAR\"], \"FLOAT\")\n",
    "    \n",
    "con.create_function(\"get_quarter\", ah.get_quarter_sql, [\"VARCHAR\"], \"FLOAT\")\n",
    "\n",
    "con.create_function(\"get_quarter_foia\", ah.get_quarter_foia_sql, [\"VARCHAR\"], \"FLOAT\")\n",
    "\n",
    "# importing data\n",
    "## duplicate rcids (companies that appear more than once in linkedin data)\n",
    "dup_rcids = con.read_csv(f\"{root}/data/int/dup_rcids_mar20.csv\")\n",
    "\n",
    "## matched company data from R\n",
    "rmerge = con.read_csv(f\"{root}/data/int/good_match_ids_mar20.csv\")\n",
    "\n",
    "## raw FOIA bloomberg data\n",
    "foia_raw_file = con.read_csv(f\"{root}/data/raw/foia_bloomberg/foia_bloomberg_all.csv\")\n",
    "\n",
    "## joining raw FOIA data with merged data to get foia_ids in raw foia data\n",
    "foia_with_ids = con.sql(\"SELECT *, CASE WHEN matched IS NULL THEN 0 ELSE matched END AS matchind FROM ((SELECT * FROM foia_raw_file WHERE NOT FEIN = '(b)(3) (b)(6) (b)(7)(c)') AS a LEFT JOIN (SELECT lottery_year, FEIN, foia_id, 1 AS matched FROM rmerge GROUP BY lottery_year, FEIN, foia_id) AS b ON a.lottery_year = b.lottery_year AND a.FEIN = b.FEIN)\")\n",
    "\n",
    "# collapsing FOIA raw data to foia_id level\n",
    "foia_for_merge = con.sql(\"\"\"\n",
    "SELECT foia_id, FIRST(employer_name) AS company_FOIA, lottery_year, \n",
    "    MAX(CASE WHEN NOT NUM_OF_EMP_IN_US = 'NA' THEN NUM_OF_EMP_IN_US::INTEGER END) AS n_us_employees,\n",
    "    COUNT(*) AS n_apps_tot,\n",
    "    COUNT(CASE WHEN ben_multi_reg_ind = 0 THEN 1 END) AS n_apps, \n",
    "    COUNT(CASE WHEN status_type = 'SELECTED' THEN 1 END) AS n_success_tot,\n",
    "    COUNT(CASE WHEN status_type = 'SELECTED' AND ben_multi_reg_ind = 0 THEN 1 END) AS n_success,\n",
    "    COUNT(CASE WHEN status_type = 'SELECTED' AND ben_multi_reg_ind = 0 AND rec_date != 'NA' THEN 1 END) AS n_i129\n",
    "FROM foia_with_ids WHERE foia_id IS NOT NULL GROUP BY foia_id, lottery_year\n",
    "\"\"\").df()\n",
    "\n",
    "## revelio data (pre-filtered to only companies in rmerge)\n",
    "merged_pos = con.read_parquet(f\"{root}/data/int/rev_merge_mar20.parquet\")\n",
    "\n",
    "## pre-processed data\n",
    "merged_for_analysis = con.read_parquet(f\"{root}/data/int/merged_for_analysis_mar25.parquet\")\n",
    "balanced_full = con.read_parquet(f\"{root}/data/int/balanced_full_mar25.parquet\")\n",
    "\n"
   ]
  },
  {
   "cell_type": "markdown",
   "metadata": {},
   "source": [
    "## FOIA Descriptives"
   ]
  },
  {
   "cell_type": "code",
   "execution_count": 13,
   "metadata": {},
   "outputs": [
    {
     "data": {
      "application/vnd.jupyter.widget-view+json": {
       "model_id": "cabbb3ea867d4739a0cbd9029378512f",
       "version_major": 2,
       "version_minor": 0
      },
      "text/plain": [
       "FloatProgress(value=0.0, layout=Layout(width='auto'), style=ProgressStyle(bar_color='black'))"
      ]
     },
     "metadata": {},
     "output_type": "display_data"
    },
    {
     "data": {
      "application/vnd.plotly.v1+json": {
       "config": {
        "plotlyServerURL": "https://plot.ly"
       },
       "data": [
        {
         "link": {
          "source": [
           0,
           0,
           0,
           1,
           4,
           4,
           4
          ],
          "target": [
           2,
           1,
           3,
           4,
           5,
           6,
           7
          ],
          "value": [
           1231956,
           572191,
           139,
           376613,
           363843,
           11063,
           1707
          ]
         },
         "node": {
          "color": [
           "gray",
           "green",
           "red",
           "black",
           "gray",
           "green",
           "red",
           "black"
          ],
          "label": [
           "All Lott. Apps (1.8m)",
           "Lott. Winners (32%)",
           "Lottery Losers (68%)",
           "Data Censored",
           "Submit I-129 (66% of winners)",
           "I-129 Approved (97% of submissions)",
           "I-129 Denied",
           "I-129 No Decision"
          ],
          "line": {
           "color": "black",
           "width": 0.5
          },
          "pad": 15,
          "thickness": 20
         },
         "type": "sankey"
        }
       ],
       "layout": {
        "font": {
         "size": 10
        },
        "template": {
         "data": {
          "bar": [
           {
            "error_x": {
             "color": "#2a3f5f"
            },
            "error_y": {
             "color": "#2a3f5f"
            },
            "marker": {
             "line": {
              "color": "#E5ECF6",
              "width": 0.5
             },
             "pattern": {
              "fillmode": "overlay",
              "size": 10,
              "solidity": 0.2
             }
            },
            "type": "bar"
           }
          ],
          "barpolar": [
           {
            "marker": {
             "line": {
              "color": "#E5ECF6",
              "width": 0.5
             },
             "pattern": {
              "fillmode": "overlay",
              "size": 10,
              "solidity": 0.2
             }
            },
            "type": "barpolar"
           }
          ],
          "carpet": [
           {
            "aaxis": {
             "endlinecolor": "#2a3f5f",
             "gridcolor": "white",
             "linecolor": "white",
             "minorgridcolor": "white",
             "startlinecolor": "#2a3f5f"
            },
            "baxis": {
             "endlinecolor": "#2a3f5f",
             "gridcolor": "white",
             "linecolor": "white",
             "minorgridcolor": "white",
             "startlinecolor": "#2a3f5f"
            },
            "type": "carpet"
           }
          ],
          "choropleth": [
           {
            "colorbar": {
             "outlinewidth": 0,
             "ticks": ""
            },
            "type": "choropleth"
           }
          ],
          "contour": [
           {
            "colorbar": {
             "outlinewidth": 0,
             "ticks": ""
            },
            "colorscale": [
             [
              0,
              "#0d0887"
             ],
             [
              0.1111111111111111,
              "#46039f"
             ],
             [
              0.2222222222222222,
              "#7201a8"
             ],
             [
              0.3333333333333333,
              "#9c179e"
             ],
             [
              0.4444444444444444,
              "#bd3786"
             ],
             [
              0.5555555555555556,
              "#d8576b"
             ],
             [
              0.6666666666666666,
              "#ed7953"
             ],
             [
              0.7777777777777778,
              "#fb9f3a"
             ],
             [
              0.8888888888888888,
              "#fdca26"
             ],
             [
              1,
              "#f0f921"
             ]
            ],
            "type": "contour"
           }
          ],
          "contourcarpet": [
           {
            "colorbar": {
             "outlinewidth": 0,
             "ticks": ""
            },
            "type": "contourcarpet"
           }
          ],
          "heatmap": [
           {
            "colorbar": {
             "outlinewidth": 0,
             "ticks": ""
            },
            "colorscale": [
             [
              0,
              "#0d0887"
             ],
             [
              0.1111111111111111,
              "#46039f"
             ],
             [
              0.2222222222222222,
              "#7201a8"
             ],
             [
              0.3333333333333333,
              "#9c179e"
             ],
             [
              0.4444444444444444,
              "#bd3786"
             ],
             [
              0.5555555555555556,
              "#d8576b"
             ],
             [
              0.6666666666666666,
              "#ed7953"
             ],
             [
              0.7777777777777778,
              "#fb9f3a"
             ],
             [
              0.8888888888888888,
              "#fdca26"
             ],
             [
              1,
              "#f0f921"
             ]
            ],
            "type": "heatmap"
           }
          ],
          "heatmapgl": [
           {
            "colorbar": {
             "outlinewidth": 0,
             "ticks": ""
            },
            "colorscale": [
             [
              0,
              "#0d0887"
             ],
             [
              0.1111111111111111,
              "#46039f"
             ],
             [
              0.2222222222222222,
              "#7201a8"
             ],
             [
              0.3333333333333333,
              "#9c179e"
             ],
             [
              0.4444444444444444,
              "#bd3786"
             ],
             [
              0.5555555555555556,
              "#d8576b"
             ],
             [
              0.6666666666666666,
              "#ed7953"
             ],
             [
              0.7777777777777778,
              "#fb9f3a"
             ],
             [
              0.8888888888888888,
              "#fdca26"
             ],
             [
              1,
              "#f0f921"
             ]
            ],
            "type": "heatmapgl"
           }
          ],
          "histogram": [
           {
            "marker": {
             "pattern": {
              "fillmode": "overlay",
              "size": 10,
              "solidity": 0.2
             }
            },
            "type": "histogram"
           }
          ],
          "histogram2d": [
           {
            "colorbar": {
             "outlinewidth": 0,
             "ticks": ""
            },
            "colorscale": [
             [
              0,
              "#0d0887"
             ],
             [
              0.1111111111111111,
              "#46039f"
             ],
             [
              0.2222222222222222,
              "#7201a8"
             ],
             [
              0.3333333333333333,
              "#9c179e"
             ],
             [
              0.4444444444444444,
              "#bd3786"
             ],
             [
              0.5555555555555556,
              "#d8576b"
             ],
             [
              0.6666666666666666,
              "#ed7953"
             ],
             [
              0.7777777777777778,
              "#fb9f3a"
             ],
             [
              0.8888888888888888,
              "#fdca26"
             ],
             [
              1,
              "#f0f921"
             ]
            ],
            "type": "histogram2d"
           }
          ],
          "histogram2dcontour": [
           {
            "colorbar": {
             "outlinewidth": 0,
             "ticks": ""
            },
            "colorscale": [
             [
              0,
              "#0d0887"
             ],
             [
              0.1111111111111111,
              "#46039f"
             ],
             [
              0.2222222222222222,
              "#7201a8"
             ],
             [
              0.3333333333333333,
              "#9c179e"
             ],
             [
              0.4444444444444444,
              "#bd3786"
             ],
             [
              0.5555555555555556,
              "#d8576b"
             ],
             [
              0.6666666666666666,
              "#ed7953"
             ],
             [
              0.7777777777777778,
              "#fb9f3a"
             ],
             [
              0.8888888888888888,
              "#fdca26"
             ],
             [
              1,
              "#f0f921"
             ]
            ],
            "type": "histogram2dcontour"
           }
          ],
          "mesh3d": [
           {
            "colorbar": {
             "outlinewidth": 0,
             "ticks": ""
            },
            "type": "mesh3d"
           }
          ],
          "parcoords": [
           {
            "line": {
             "colorbar": {
              "outlinewidth": 0,
              "ticks": ""
             }
            },
            "type": "parcoords"
           }
          ],
          "pie": [
           {
            "automargin": true,
            "type": "pie"
           }
          ],
          "scatter": [
           {
            "fillpattern": {
             "fillmode": "overlay",
             "size": 10,
             "solidity": 0.2
            },
            "type": "scatter"
           }
          ],
          "scatter3d": [
           {
            "line": {
             "colorbar": {
              "outlinewidth": 0,
              "ticks": ""
             }
            },
            "marker": {
             "colorbar": {
              "outlinewidth": 0,
              "ticks": ""
             }
            },
            "type": "scatter3d"
           }
          ],
          "scattercarpet": [
           {
            "marker": {
             "colorbar": {
              "outlinewidth": 0,
              "ticks": ""
             }
            },
            "type": "scattercarpet"
           }
          ],
          "scattergeo": [
           {
            "marker": {
             "colorbar": {
              "outlinewidth": 0,
              "ticks": ""
             }
            },
            "type": "scattergeo"
           }
          ],
          "scattergl": [
           {
            "marker": {
             "colorbar": {
              "outlinewidth": 0,
              "ticks": ""
             }
            },
            "type": "scattergl"
           }
          ],
          "scattermapbox": [
           {
            "marker": {
             "colorbar": {
              "outlinewidth": 0,
              "ticks": ""
             }
            },
            "type": "scattermapbox"
           }
          ],
          "scatterpolar": [
           {
            "marker": {
             "colorbar": {
              "outlinewidth": 0,
              "ticks": ""
             }
            },
            "type": "scatterpolar"
           }
          ],
          "scatterpolargl": [
           {
            "marker": {
             "colorbar": {
              "outlinewidth": 0,
              "ticks": ""
             }
            },
            "type": "scatterpolargl"
           }
          ],
          "scatterternary": [
           {
            "marker": {
             "colorbar": {
              "outlinewidth": 0,
              "ticks": ""
             }
            },
            "type": "scatterternary"
           }
          ],
          "surface": [
           {
            "colorbar": {
             "outlinewidth": 0,
             "ticks": ""
            },
            "colorscale": [
             [
              0,
              "#0d0887"
             ],
             [
              0.1111111111111111,
              "#46039f"
             ],
             [
              0.2222222222222222,
              "#7201a8"
             ],
             [
              0.3333333333333333,
              "#9c179e"
             ],
             [
              0.4444444444444444,
              "#bd3786"
             ],
             [
              0.5555555555555556,
              "#d8576b"
             ],
             [
              0.6666666666666666,
              "#ed7953"
             ],
             [
              0.7777777777777778,
              "#fb9f3a"
             ],
             [
              0.8888888888888888,
              "#fdca26"
             ],
             [
              1,
              "#f0f921"
             ]
            ],
            "type": "surface"
           }
          ],
          "table": [
           {
            "cells": {
             "fill": {
              "color": "#EBF0F8"
             },
             "line": {
              "color": "white"
             }
            },
            "header": {
             "fill": {
              "color": "#C8D4E3"
             },
             "line": {
              "color": "white"
             }
            },
            "type": "table"
           }
          ]
         },
         "layout": {
          "annotationdefaults": {
           "arrowcolor": "#2a3f5f",
           "arrowhead": 0,
           "arrowwidth": 1
          },
          "autotypenumbers": "strict",
          "coloraxis": {
           "colorbar": {
            "outlinewidth": 0,
            "ticks": ""
           }
          },
          "colorscale": {
           "diverging": [
            [
             0,
             "#8e0152"
            ],
            [
             0.1,
             "#c51b7d"
            ],
            [
             0.2,
             "#de77ae"
            ],
            [
             0.3,
             "#f1b6da"
            ],
            [
             0.4,
             "#fde0ef"
            ],
            [
             0.5,
             "#f7f7f7"
            ],
            [
             0.6,
             "#e6f5d0"
            ],
            [
             0.7,
             "#b8e186"
            ],
            [
             0.8,
             "#7fbc41"
            ],
            [
             0.9,
             "#4d9221"
            ],
            [
             1,
             "#276419"
            ]
           ],
           "sequential": [
            [
             0,
             "#0d0887"
            ],
            [
             0.1111111111111111,
             "#46039f"
            ],
            [
             0.2222222222222222,
             "#7201a8"
            ],
            [
             0.3333333333333333,
             "#9c179e"
            ],
            [
             0.4444444444444444,
             "#bd3786"
            ],
            [
             0.5555555555555556,
             "#d8576b"
            ],
            [
             0.6666666666666666,
             "#ed7953"
            ],
            [
             0.7777777777777778,
             "#fb9f3a"
            ],
            [
             0.8888888888888888,
             "#fdca26"
            ],
            [
             1,
             "#f0f921"
            ]
           ],
           "sequentialminus": [
            [
             0,
             "#0d0887"
            ],
            [
             0.1111111111111111,
             "#46039f"
            ],
            [
             0.2222222222222222,
             "#7201a8"
            ],
            [
             0.3333333333333333,
             "#9c179e"
            ],
            [
             0.4444444444444444,
             "#bd3786"
            ],
            [
             0.5555555555555556,
             "#d8576b"
            ],
            [
             0.6666666666666666,
             "#ed7953"
            ],
            [
             0.7777777777777778,
             "#fb9f3a"
            ],
            [
             0.8888888888888888,
             "#fdca26"
            ],
            [
             1,
             "#f0f921"
            ]
           ]
          },
          "colorway": [
           "#636efa",
           "#EF553B",
           "#00cc96",
           "#ab63fa",
           "#FFA15A",
           "#19d3f3",
           "#FF6692",
           "#B6E880",
           "#FF97FF",
           "#FECB52"
          ],
          "font": {
           "color": "#2a3f5f"
          },
          "geo": {
           "bgcolor": "white",
           "lakecolor": "white",
           "landcolor": "#E5ECF6",
           "showlakes": true,
           "showland": true,
           "subunitcolor": "white"
          },
          "hoverlabel": {
           "align": "left"
          },
          "hovermode": "closest",
          "mapbox": {
           "style": "light"
          },
          "paper_bgcolor": "white",
          "plot_bgcolor": "#E5ECF6",
          "polar": {
           "angularaxis": {
            "gridcolor": "white",
            "linecolor": "white",
            "ticks": ""
           },
           "bgcolor": "#E5ECF6",
           "radialaxis": {
            "gridcolor": "white",
            "linecolor": "white",
            "ticks": ""
           }
          },
          "scene": {
           "xaxis": {
            "backgroundcolor": "#E5ECF6",
            "gridcolor": "white",
            "gridwidth": 2,
            "linecolor": "white",
            "showbackground": true,
            "ticks": "",
            "zerolinecolor": "white"
           },
           "yaxis": {
            "backgroundcolor": "#E5ECF6",
            "gridcolor": "white",
            "gridwidth": 2,
            "linecolor": "white",
            "showbackground": true,
            "ticks": "",
            "zerolinecolor": "white"
           },
           "zaxis": {
            "backgroundcolor": "#E5ECF6",
            "gridcolor": "white",
            "gridwidth": 2,
            "linecolor": "white",
            "showbackground": true,
            "ticks": "",
            "zerolinecolor": "white"
           }
          },
          "shapedefaults": {
           "line": {
            "color": "#2a3f5f"
           }
          },
          "ternary": {
           "aaxis": {
            "gridcolor": "white",
            "linecolor": "white",
            "ticks": ""
           },
           "baxis": {
            "gridcolor": "white",
            "linecolor": "white",
            "ticks": ""
           },
           "bgcolor": "#E5ECF6",
           "caxis": {
            "gridcolor": "white",
            "linecolor": "white",
            "ticks": ""
           }
          },
          "title": {
           "x": 0.05
          },
          "xaxis": {
           "automargin": true,
           "gridcolor": "white",
           "linecolor": "white",
           "ticks": "",
           "title": {
            "standoff": 15
           },
           "zerolinecolor": "white",
           "zerolinewidth": 2
          },
          "yaxis": {
           "automargin": true,
           "gridcolor": "white",
           "linecolor": "white",
           "ticks": "",
           "title": {
            "standoff": 15
           },
           "zerolinecolor": "white",
           "zerolinewidth": 2
          }
         }
        },
        "title": {
         "text": "H-1B Lottery Applications FY2021-2024"
        }
       }
      }
     },
     "metadata": {},
     "output_type": "display_data"
    }
   ],
   "source": [
    "# Sankey\n",
    "import plotly.graph_objs as go\n",
    "\n",
    "\n",
    "rawdf = foia_raw_file.df()\n",
    "\n",
    "# get counts\n",
    "n0 = rawdf.shape[0]\n",
    "n1 = rawdf.loc[rawdf['status_type']==\"SELECTED\"].shape[0]\n",
    "n3 = rawdf.loc[rawdf['status_type']==\"(b)(3) (b)(6) (b)(7)(c)\"].shape[0]\n",
    "n2 = n0-n1-n3\n",
    "\n",
    "n4 = rawdf.loc[rawdf['rec_date']!='NA'].shape[0]\n",
    "n5 = rawdf.loc[rawdf['FIRST_DECISION'] == \"Approved\"].shape[0]\n",
    "n6 = rawdf.loc[rawdf['FIRST_DECISION'] == \"Denied\"].shape[0]\n",
    "n7 = n4-n5-n6 \n",
    "\n",
    "# Nodes & links (todo: add pre-nodes by year?)\n",
    "node_names = [f'All Lott. Apps (1.8m)',\n",
    "              'Lott. Winners (32%)',\n",
    "              'Lottery Losers (68%)',\n",
    "              'Data Censored',\n",
    "              'Submit I-129 (66% of winners)',\n",
    "              'I-129 Approved (97% of submissions)',\n",
    "              'I-129 Denied',\n",
    "              'I-129 No Decision']\n",
    "nodes = [['ID', 'Label', 'Color'],\n",
    "        [0,'All Lottery Applications','gray'],\n",
    "        [1,'Lottery Winners','green'],\n",
    "        [2,'Lottery Losers','red'],\n",
    "        [3, 'Data Censored','black'],\n",
    "        [4,'Submit I-129','gray'],\n",
    "        [5,'I-129 Approved','green'],\n",
    "        [6,'I-129 Denied','red']]\n",
    "\n",
    "fig = go.Figure(data=[go.Sankey(\n",
    "    node = dict(\n",
    "      pad = 15,\n",
    "      thickness = 20,\n",
    "      line = dict(color = \"black\", width = 0.5),\n",
    "      label = node_names,\n",
    "      color = ['gray','green','red','black','gray','green','red','black']\n",
    "    ),\n",
    "    link = dict(\n",
    "      source = [0,0,0,1,4,4,4], \n",
    "      target = [2,1,3,4,5,6,7],\n",
    "      value = [n2,n1,n3,n4,n5,n6,n7]\n",
    "  ))])\n",
    "\n",
    "fig.update_layout(title_text=\"H-1B Lottery Applications FY2021-2024\", font_size=10)\n",
    "fig.show()"
   ]
  },
  {
   "cell_type": "code",
   "execution_count": 14,
   "metadata": {},
   "outputs": [
    {
     "data": {
      "text/plain": [
       "[Text(0.5, 0, 'Number of H1B Lottery Applications'),\n",
       " Text(0, 0.5, 'Number of Firm x Lottery Years')]"
      ]
     },
     "execution_count": 14,
     "metadata": {},
     "output_type": "execute_result"
    },
    {
     "data": {
      "image/png": "[encoded data removed]",
      "text/plain": [
       "<Figure size 640x480 with 1 Axes>"
      ]
     },
     "metadata": {},
     "output_type": "display_data"
    },
    {
     "data": {
      "image/png": "[encoded data removed]",
      "text/plain": [
       "<Figure size 640x480 with 1 Axes>"
      ]
     },
     "metadata": {},
     "output_type": "display_data"
    },
    {
     "data": {
      "image/png": "[encoded data removed]",
      "text/plain": [
       "<Figure size 640x480 with 1 Axes>"
      ]
     },
     "metadata": {},
     "output_type": "display_data"
    }
   ],
   "source": [
    "# employer-level app histogram\n",
    "foia_for_merge['n_apps_binned'] = pd.cut(foia_for_merge['n_apps_tot'], bins = [1,2,5,10,25,100,10000], right = False)\n",
    "\n",
    "# All H1B Applications \n",
    "## raw\n",
    "sns.histplot(data = foia_for_merge, x = 'n_apps_tot', bins = 50).set(xlabel = \"Number of H1B Lottery Applications\", ylabel = \"Number of Firm x Lottery Years\")\n",
    "\n",
    "## log scale\n",
    "plt.figure()\n",
    "sns.histplot(data = foia_for_merge, x = 'n_apps_tot', bins = 50, discrete = True, log_scale=True).set(xlabel = \"Number of H1B Lottery Applications (Log Scale)\", ylabel = \"Number of Firm x Lottery Years\")\n",
    "\n",
    "## discrete\n",
    "plt.figure()\n",
    "sns.countplot(x = 'n_apps_binned', data = foia_for_merge).set(xlabel = \"Number of H1B Lottery Applications\", ylabel = \"Number of Firm x Lottery Years\")\n",
    "\n"
   ]
  },
  {
   "cell_type": "code",
   "execution_count": 119,
   "metadata": {},
   "outputs": [
    {
     "name": "stdout",
     "output_type": "stream",
     "text": [
      "Total Employer x Years: 172068\n",
      "Employer x Years with Fewer than 50 Apps: 165981\n",
      "Employer x Years with Fewer than 50% Duplicates: 140222\n",
      "Preferred Sample: 138047 (80%)\n"
     ]
    },
    {
     "data": {
      "text/plain": [
       "┌───────────┬────────────────────┐\n",
       "│ sampgroup │   total_win_rate   │\n",
       "│  varchar  │       double       │\n",
       "├───────────┼────────────────────┤\n",
       "│ outsamp   │ 0.3023793501074909 │\n",
       "│ insamp    │ 0.3644218504138618 │\n",
       "└───────────┴────────────────────┘"
      ]
     },
     "execution_count": 119,
     "metadata": {},
     "output_type": "execute_result"
    }
   ],
   "source": [
    "# IDing outsourcing/staffing companies\n",
    "foia_main_samp_unfilt = con.sql(\"SELECT FEIN, lottery_year, COUNT(CASE WHEN ben_multi_reg_ind = 1 THEN 1 END)/COUNT(*) AS share_multireg, COUNT(*) AS n_apps_tot, COUNT(CASE WHEN status_type = 'SELECTED' THEN 1 END) AS n_success, COUNT(CASE WHEN status_type = 'SELECTED' THEN 1 END)/COUNT(*) AS win_rate FROM foia_with_ids GROUP BY FEIN, lottery_year\")\n",
    "\n",
    "n = con.sql('SELECT COUNT(*) FROM foia_main_samp_unfilt').df().iloc[0,0]\n",
    "print(f\"Total Employer x Years: {n}\")\n",
    "print(f\"Employer x Years with Fewer than 50 Apps: {con.sql(\"SELECT COUNT(*) FROM foia_main_samp_unfilt WHERE n_apps_tot < 50\").df().iloc[0,0]}\")\n",
    "print(f\"Employer x Years with Fewer than 50% Duplicates: {con.sql(\"SELECT COUNT(*) FROM foia_main_samp_unfilt WHERE share_multireg < 0.5\").df().iloc[0,0]}\")\n",
    "\n",
    "foia_main_samp = con.sql(\"SELECT * FROM foia_main_samp_unfilt WHERE n_apps_tot < 50 AND share_multireg < 0.5\")\n",
    "print(f\"Preferred Sample: {foia_main_samp.df().shape[0]} ({round(100*foia_main_samp.df().shape[0]/n)}%)\")\n",
    "\n",
    "foia_main_samp_def = con.sql(\"SELECT *, CASE WHEN n_apps_tot < 50 AND share_multireg < 0.5 THEN 'insamp' ELSE 'outsamp' END AS sampgroup FROM foia_main_samp_unfilt\")\n",
    "con.sql(\"SELECT sampgroup, SUM(n_success)/SUM(n_apps_tot) AS total_win_rate FROM foia_main_samp_def GROUP BY sampgroup\")"
   ]
  },
  {
   "cell_type": "code",
   "execution_count": 120,
   "metadata": {},
   "outputs": [
    {
     "data": {
      "application/vnd.jupyter.widget-view+json": {
       "model_id": "6f98543dbba64c29baa296688f18f57c",
       "version_major": 2,
       "version_minor": 0
      },
      "text/plain": [
       "FloatProgress(value=0.0, layout=Layout(width='auto'), style=ProgressStyle(bar_color='black'))"
      ]
     },
     "metadata": {},
     "output_type": "display_data"
    }
   ],
   "source": [
    "foia_df = con.sql(\"SELECT * FROM ((SELECT FEIN, lottery_year, sampgroup FROM foia_main_samp_def) AS a JOIN foia_with_ids AS b ON a.FEIN = b.FEIN AND a.lottery_year = b.lottery_year)\").df()"
   ]
  },
  {
   "cell_type": "code",
   "execution_count": 17,
   "metadata": {},
   "outputs": [
    {
     "data": {
      "text/plain": [
       "sampgroup\n",
       "insamp      429612\n",
       "outsamp    1374535\n",
       "dtype: int64"
      ]
     },
     "execution_count": 17,
     "metadata": {},
     "output_type": "execute_result"
    }
   ],
   "source": [
    "foia_df.groupby('sampgroup').size()"
   ]
  },
  {
   "cell_type": "code",
   "execution_count": 124,
   "metadata": {},
   "outputs": [
    {
     "name": "stdout",
     "output_type": "stream",
     "text": [
      "TtestResult(statistic=-501.50097013380474, pvalue=0.0, df=1804145.0)\n",
      "TtestResult(statistic=204.42344038842953, pvalue=0.0, df=1804145.0)\n",
      "TtestResult(statistic=79.43091846289929, pvalue=0.0, df=1804145.0)\n",
      "TtestResult(statistic=-73.96312304697318, pvalue=0.0, df=1804145.0)\n"
     ]
    },
    {
     "data": {
      "application/vnd.microsoft.datawrangler.viewer.v0+json": {
       "columns": [
        {
         "name": "index",
         "rawType": "object",
         "type": "string"
        },
        {
         "name": "insamp",
         "rawType": "float64",
         "type": "float"
        },
        {
         "name": "outsamp",
         "rawType": "float64",
         "type": "float"
        }
       ],
       "conversionMethod": "pd.DataFrame",
       "ref": "2b327f2a-4cd9-45d0-9ed5-835d2371f1e2",
       "rows": [
        [
         "win",
         "0.3644218504138618",
         "0.3023793501074909"
        ],
        [
         "india",
         "0.5062405146969824",
         "0.8520052235847032"
        ],
        [
         "china",
         "0.15584992970401199",
         "0.058927564594571984"
        ],
        [
         "female",
         "0.35803701945010846",
         "0.2939808735317762"
        ],
        [
         "app_age",
         "31.409290243289295",
         "32.19322825537363"
        ]
       ],
       "shape": {
        "columns": 2,
        "rows": 5
       }
      },
      "text/html": [
       "<div>\n",
       "<style scoped>\n",
       "    .dataframe tbody tr th:only-of-type {\n",
       "        vertical-align: middle;\n",
       "    }\n",
       "\n",
       "    .dataframe tbody tr th {\n",
       "        vertical-align: top;\n",
       "    }\n",
       "\n",
       "    .dataframe thead th {\n",
       "        text-align: right;\n",
       "    }\n",
       "</style>\n",
       "<table border=\"1\" class=\"dataframe\">\n",
       "  <thead>\n",
       "    <tr style=\"text-align: right;\">\n",
       "      <th>sampgroup</th>\n",
       "      <th>insamp</th>\n",
       "      <th>outsamp</th>\n",
       "    </tr>\n",
       "  </thead>\n",
       "  <tbody>\n",
       "    <tr>\n",
       "      <th>win</th>\n",
       "      <td>0.364422</td>\n",
       "      <td>0.302379</td>\n",
       "    </tr>\n",
       "    <tr>\n",
       "      <th>india</th>\n",
       "      <td>0.506241</td>\n",
       "      <td>0.852005</td>\n",
       "    </tr>\n",
       "    <tr>\n",
       "      <th>china</th>\n",
       "      <td>0.155850</td>\n",
       "      <td>0.058928</td>\n",
       "    </tr>\n",
       "    <tr>\n",
       "      <th>female</th>\n",
       "      <td>0.358037</td>\n",
       "      <td>0.293981</td>\n",
       "    </tr>\n",
       "    <tr>\n",
       "      <th>app_age</th>\n",
       "      <td>31.409290</td>\n",
       "      <td>32.193228</td>\n",
       "    </tr>\n",
       "  </tbody>\n",
       "</table>\n",
       "</div>"
      ],
      "text/plain": [
       "sampgroup     insamp    outsamp\n",
       "win         0.364422   0.302379\n",
       "india       0.506241   0.852005\n",
       "china       0.155850   0.058928\n",
       "female      0.358037   0.293981\n",
       "app_age    31.409290  32.193228"
      ]
     },
     "execution_count": 124,
     "metadata": {},
     "output_type": "execute_result"
    }
   ],
   "source": [
    "# summary stats table: winners vs losers\n",
    "foia_df['win'] = foia_df['status_type'] == \"SELECTED\"\n",
    "foia_df['india'] = foia_df['country_of_birth'] == \"IND\"\n",
    "foia_df['china'] = foia_df['country_of_birth'] == \"CHN\"\n",
    "foia_df['female'] = foia_df['gender'] == \"female\"\n",
    "foia_df['app_age'] = foia_df['lottery_year'].apply(int)-1-foia_df['ben_year_of_birth'].apply(int)\n",
    "\n",
    "sampgroupcomp = foia_df[['win', 'sampgroup', 'india', 'china', 'female', 'app_age']].groupby(['sampgroup']).agg('mean').T\n",
    "\n",
    "for var in ['india', 'china', 'female', 'app_age']:\n",
    "    print(stats.ttest_ind(foia_df.loc[foia_df['sampgroup']=='insamp'][var],foia_df.loc[foia_df['sampgroup']=='outsamp'][var]))\n",
    "\n",
    "sampgroupcomp\n",
    "# #grp\n",
    "# #grp[False]\n",
    "# #grp.columns\n",
    "# for var in ['india', 'china', 'female', 'yob']:\n",
    "#     print(stats.ttest_ind(x.loc[x['win']==1][var],x.loc[x['win']==0][var]))"
   ]
  },
  {
   "cell_type": "code",
   "execution_count": 121,
   "metadata": {},
   "outputs": [
    {
     "ename": "KeyError",
     "evalue": "\"None of [Index(['win', 'india', 'china', 'female', 'app_age'], dtype='object')] are in the [columns]\"",
     "output_type": "error",
     "traceback": [
      "\u001b[0;31m---------------------------------------------------------------------------\u001b[0m",
      "\u001b[0;31mKeyError\u001b[0m                                  Traceback (most recent call last)",
      "Cell \u001b[0;32mIn[121], line 2\u001b[0m\n\u001b[1;32m      1\u001b[0m insamp \u001b[38;5;241m=\u001b[39m foia_df\u001b[38;5;241m.\u001b[39mloc[foia_df[\u001b[38;5;124m'\u001b[39m\u001b[38;5;124msampgroup\u001b[39m\u001b[38;5;124m'\u001b[39m]\u001b[38;5;241m==\u001b[39m\u001b[38;5;124m'\u001b[39m\u001b[38;5;124minsamp\u001b[39m\u001b[38;5;124m'\u001b[39m]\n\u001b[0;32m----> 2\u001b[0m wingroupcomp \u001b[38;5;241m=\u001b[39m insamp[[\u001b[38;5;124m'\u001b[39m\u001b[38;5;124mwin\u001b[39m\u001b[38;5;124m'\u001b[39m, \u001b[38;5;124m'\u001b[39m\u001b[38;5;124mindia\u001b[39m\u001b[38;5;124m'\u001b[39m, \u001b[38;5;124m'\u001b[39m\u001b[38;5;124mchina\u001b[39m\u001b[38;5;124m'\u001b[39m, \u001b[38;5;124m'\u001b[39m\u001b[38;5;124mfemale\u001b[39m\u001b[38;5;124m'\u001b[39m, \u001b[38;5;124m'\u001b[39m\u001b[38;5;124mapp_age\u001b[39m\u001b[38;5;124m'\u001b[39m]]\u001b[38;5;241m.\u001b[39mgroupby([\u001b[38;5;124m'\u001b[39m\u001b[38;5;124mwin\u001b[39m\u001b[38;5;124m'\u001b[39m])\u001b[38;5;241m.\u001b[39magg(\u001b[38;5;124m'\u001b[39m\u001b[38;5;124mmean\u001b[39m\u001b[38;5;124m'\u001b[39m)\u001b[38;5;241m.\u001b[39mT\n\u001b[1;32m      4\u001b[0m \u001b[38;5;28;01mfor\u001b[39;00m var \u001b[38;5;129;01min\u001b[39;00m [\u001b[38;5;124m'\u001b[39m\u001b[38;5;124mindia\u001b[39m\u001b[38;5;124m'\u001b[39m, \u001b[38;5;124m'\u001b[39m\u001b[38;5;124mchina\u001b[39m\u001b[38;5;124m'\u001b[39m, \u001b[38;5;124m'\u001b[39m\u001b[38;5;124mfemale\u001b[39m\u001b[38;5;124m'\u001b[39m, \u001b[38;5;124m'\u001b[39m\u001b[38;5;124mapp_age\u001b[39m\u001b[38;5;124m'\u001b[39m]:\n\u001b[1;32m      5\u001b[0m     \u001b[38;5;28mprint\u001b[39m(stats\u001b[38;5;241m.\u001b[39mttest_ind(insamp\u001b[38;5;241m.\u001b[39mloc[insamp[\u001b[38;5;124m'\u001b[39m\u001b[38;5;124mwin\u001b[39m\u001b[38;5;124m'\u001b[39m]\u001b[38;5;241m==\u001b[39m\u001b[38;5;241m1\u001b[39m][var],insamp\u001b[38;5;241m.\u001b[39mloc[insamp[\u001b[38;5;124m'\u001b[39m\u001b[38;5;124mwin\u001b[39m\u001b[38;5;124m'\u001b[39m]\u001b[38;5;241m==\u001b[39m\u001b[38;5;241m0\u001b[39m][var]))\n",
      "File \u001b[0;32m/opt/anaconda3/lib/python3.12/site-packages/pandas/core/frame.py:4108\u001b[0m, in \u001b[0;36mDataFrame.__getitem__\u001b[0;34m(self, key)\u001b[0m\n\u001b[1;32m   4106\u001b[0m     \u001b[38;5;28;01mif\u001b[39;00m is_iterator(key):\n\u001b[1;32m   4107\u001b[0m         key \u001b[38;5;241m=\u001b[39m \u001b[38;5;28mlist\u001b[39m(key)\n\u001b[0;32m-> 4108\u001b[0m     indexer \u001b[38;5;241m=\u001b[39m \u001b[38;5;28mself\u001b[39m\u001b[38;5;241m.\u001b[39mcolumns\u001b[38;5;241m.\u001b[39m_get_indexer_strict(key, \u001b[38;5;124m\"\u001b[39m\u001b[38;5;124mcolumns\u001b[39m\u001b[38;5;124m\"\u001b[39m)[\u001b[38;5;241m1\u001b[39m]\n\u001b[1;32m   4110\u001b[0m \u001b[38;5;66;03m# take() does not accept boolean indexers\u001b[39;00m\n\u001b[1;32m   4111\u001b[0m \u001b[38;5;28;01mif\u001b[39;00m \u001b[38;5;28mgetattr\u001b[39m(indexer, \u001b[38;5;124m\"\u001b[39m\u001b[38;5;124mdtype\u001b[39m\u001b[38;5;124m\"\u001b[39m, \u001b[38;5;28;01mNone\u001b[39;00m) \u001b[38;5;241m==\u001b[39m \u001b[38;5;28mbool\u001b[39m:\n",
      "File \u001b[0;32m/opt/anaconda3/lib/python3.12/site-packages/pandas/core/indexes/base.py:6200\u001b[0m, in \u001b[0;36mIndex._get_indexer_strict\u001b[0;34m(self, key, axis_name)\u001b[0m\n\u001b[1;32m   6197\u001b[0m \u001b[38;5;28;01melse\u001b[39;00m:\n\u001b[1;32m   6198\u001b[0m     keyarr, indexer, new_indexer \u001b[38;5;241m=\u001b[39m \u001b[38;5;28mself\u001b[39m\u001b[38;5;241m.\u001b[39m_reindex_non_unique(keyarr)\n\u001b[0;32m-> 6200\u001b[0m \u001b[38;5;28mself\u001b[39m\u001b[38;5;241m.\u001b[39m_raise_if_missing(keyarr, indexer, axis_name)\n\u001b[1;32m   6202\u001b[0m keyarr \u001b[38;5;241m=\u001b[39m \u001b[38;5;28mself\u001b[39m\u001b[38;5;241m.\u001b[39mtake(indexer)\n\u001b[1;32m   6203\u001b[0m \u001b[38;5;28;01mif\u001b[39;00m \u001b[38;5;28misinstance\u001b[39m(key, Index):\n\u001b[1;32m   6204\u001b[0m     \u001b[38;5;66;03m# GH 42790 - Preserve name from an Index\u001b[39;00m\n",
      "File \u001b[0;32m/opt/anaconda3/lib/python3.12/site-packages/pandas/core/indexes/base.py:6249\u001b[0m, in \u001b[0;36mIndex._raise_if_missing\u001b[0;34m(self, key, indexer, axis_name)\u001b[0m\n\u001b[1;32m   6247\u001b[0m \u001b[38;5;28;01mif\u001b[39;00m nmissing:\n\u001b[1;32m   6248\u001b[0m     \u001b[38;5;28;01mif\u001b[39;00m nmissing \u001b[38;5;241m==\u001b[39m \u001b[38;5;28mlen\u001b[39m(indexer):\n\u001b[0;32m-> 6249\u001b[0m         \u001b[38;5;28;01mraise\u001b[39;00m \u001b[38;5;167;01mKeyError\u001b[39;00m(\u001b[38;5;124mf\u001b[39m\u001b[38;5;124m\"\u001b[39m\u001b[38;5;124mNone of [\u001b[39m\u001b[38;5;132;01m{\u001b[39;00mkey\u001b[38;5;132;01m}\u001b[39;00m\u001b[38;5;124m] are in the [\u001b[39m\u001b[38;5;132;01m{\u001b[39;00maxis_name\u001b[38;5;132;01m}\u001b[39;00m\u001b[38;5;124m]\u001b[39m\u001b[38;5;124m\"\u001b[39m)\n\u001b[1;32m   6251\u001b[0m     not_found \u001b[38;5;241m=\u001b[39m \u001b[38;5;28mlist\u001b[39m(ensure_index(key)[missing_mask\u001b[38;5;241m.\u001b[39mnonzero()[\u001b[38;5;241m0\u001b[39m]]\u001b[38;5;241m.\u001b[39munique())\n\u001b[1;32m   6252\u001b[0m     \u001b[38;5;28;01mraise\u001b[39;00m \u001b[38;5;167;01mKeyError\u001b[39;00m(\u001b[38;5;124mf\u001b[39m\u001b[38;5;124m\"\u001b[39m\u001b[38;5;132;01m{\u001b[39;00mnot_found\u001b[38;5;132;01m}\u001b[39;00m\u001b[38;5;124m not in index\u001b[39m\u001b[38;5;124m\"\u001b[39m)\n",
      "\u001b[0;31mKeyError\u001b[0m: \"None of [Index(['win', 'india', 'china', 'female', 'app_age'], dtype='object')] are in the [columns]\""
     ]
    }
   ],
   "source": [
    "insamp = foia_df.loc[foia_df['sampgroup']=='insamp']\n",
    "wingroupcomp = insamp[['win', 'india', 'china', 'female', 'app_age']].groupby(['win']).agg('mean').T\n",
    "\n",
    "for var in ['india', 'china', 'female', 'app_age']:\n",
    "    print(stats.ttest_ind(insamp.loc[insamp['win']==1][var],insamp.loc[insamp['win']==0][var]))\n",
    "\n",
    "print(insamp.groupby('win').size())\n",
    "\n",
    "wingroupcomp"
   ]
  },
  {
   "cell_type": "code",
   "execution_count": 21,
   "metadata": {},
   "outputs": [
    {
     "data": {
      "text/plain": [
       "[Text(0.5, 0, 'Excess Wins [Expected Wins - Actual Wins]')]"
      ]
     },
     "execution_count": 21,
     "metadata": {},
     "output_type": "execute_result"
    },
    {
     "data": {
      "image/png": "[encoded data removed]",
      "text/plain": [
       "<Figure size 640x480 with 1 Axes>"
      ]
     },
     "metadata": {},
     "output_type": "display_data"
    },
    {
     "data": {
      "image/png": "[encoded data removed]",
      "text/plain": [
       "<Figure size 640x480 with 1 Axes>"
      ]
     },
     "metadata": {},
     "output_type": "display_data"
    }
   ],
   "source": [
    "# histogram of win rate; excess wins\n",
    "df_wins = insamp.groupby(['FEIN','lottery_year']).agg(n_apps = pd.NamedAgg(column = 'employer_name', aggfunc = 'count'), n_wins = pd.NamedAgg(column = 'win', aggfunc = 'sum')).reset_index()\n",
    "df_wins['winrate'] = df_wins['n_wins']/df_wins['n_apps']\n",
    "df_wins['p'] = df_wins.groupby('lottery_year').transform('sum')['n_wins']/df_wins.groupby('lottery_year').transform('sum')['n_apps']\n",
    "df_wins['excess_wins'] = df_wins['n_apps']*df_wins['p']-df_wins['n_wins']\n",
    "\n",
    "sns.histplot(data = df_wins, x = 'winrate', bins = 50).set(xlabel = \"Win Rate [Lottery Wins/Lottery Applications]\")\n",
    "plt.figure()\n",
    "sns.histplot(data = df_wins, x = 'excess_wins', bins = 50).set(xlabel = \"Excess Wins [Expected Wins - Actual Wins]\")"
   ]
  },
  {
   "cell_type": "code",
   "execution_count": 22,
   "metadata": {},
   "outputs": [
    {
     "data": {
      "text/plain": [
       "lottery_year\n",
       "2021    5.214459e-17\n",
       "2022   -7.403422e-17\n",
       "2023    1.357739e-17\n",
       "2024   -8.137724e-17\n",
       "Name: excess_wins, dtype: float64"
      ]
     },
     "execution_count": 22,
     "metadata": {},
     "output_type": "execute_result"
    }
   ],
   "source": [
    "df_wins.groupby('lottery_year')['excess_wins'].mean()"
   ]
  },
  {
   "cell_type": "code",
   "execution_count": 23,
   "metadata": {},
   "outputs": [
    {
     "data": {
      "text/plain": [
       "[Text(0.5, 0, 'Age at Application'),\n",
       " Text(0, 0.5, 'Share of FY2023 Non-Duplicate Winners/Losers'),\n",
       " (18.0, 65.0)]"
      ]
     },
     "execution_count": 23,
     "metadata": {},
     "output_type": "execute_result"
    },
    {
     "data": {
      "image/png": "[encoded data removed]",
      "text/plain": [
       "<Figure size 640x480 with 1 Axes>"
      ]
     },
     "metadata": {},
     "output_type": "display_data"
    }
   ],
   "source": [
    "# histogram of birth year\n",
    "sns.histplot(data = insamp, x = 'app_age', hue = 'win', discrete = True, element = \"step\", stat = \"proportion\", common_norm = False).set(xlabel = \"Age at Application\", ylabel = \"Share of FY2023 Non-Duplicate Winners/Losers\", xlim = (18,65))"
   ]
  },
  {
   "cell_type": "code",
   "execution_count": 25,
   "metadata": {},
   "outputs": [
    {
     "name": "stderr",
     "output_type": "stream",
     "text": [
      "/var/folders/6z/xpll6gz5179770l_wm4h0_fc0000gn/T/ipykernel_40497/4167392539.py:2: SettingWithCopyWarning:\n",
      "\n",
      "\n",
      "A value is trying to be set on a copy of a slice from a DataFrame.\n",
      "Try using .loc[row_indexer,col_indexer] = value instead\n",
      "\n",
      "See the caveats in the documentation: https://pandas.pydata.org/pandas-docs/stable/user_guide/indexing.html#returning-a-view-versus-a-copy\n",
      "\n",
      "/var/folders/6z/xpll6gz5179770l_wm4h0_fc0000gn/T/ipykernel_40497/4167392539.py:3: SettingWithCopyWarning:\n",
      "\n",
      "\n",
      "A value is trying to be set on a copy of a slice from a DataFrame.\n",
      "Try using .loc[row_indexer,col_indexer] = value instead\n",
      "\n",
      "See the caveats in the documentation: https://pandas.pydata.org/pandas-docs/stable/user_guide/indexing.html#returning-a-view-versus-a-copy\n",
      "\n"
     ]
    },
    {
     "data": {
      "text/plain": [
       "[Text(0.5, 0, 'Reported US Employment')]"
      ]
     },
     "execution_count": 25,
     "metadata": {},
     "output_type": "execute_result"
    },
    {
     "data": {
      "image/png": "[encoded data removed]",
      "text/plain": [
       "<Figure size 640x480 with 1 Axes>"
      ]
     },
     "metadata": {},
     "output_type": "display_data"
    },
    {
     "data": {
      "image/png": "[encoded data removed]",
      "text/plain": [
       "<Figure size 640x480 with 1 Axes>"
      ]
     },
     "metadata": {},
     "output_type": "display_data"
    }
   ],
   "source": [
    "winners = foia_df.loc[(foia_df['win']==1)&(foia_df['BEN_COMP_PAID'] != 'NA')&(foia_df['NUM_OF_EMP_IN_US'] != 'NA')]\n",
    "winners['BEN_COMP_PAID'] = winners['BEN_COMP_PAID'].apply(float)\n",
    "winners['nemp'] = winners['NUM_OF_EMP_IN_US'].apply(int)\n",
    "\n",
    "sns.histplot(data = winners.loc[(winners['BEN_COMP_PAID'] > 10000) & (winners['BEN_COMP_PAID'] < 500000)], x = 'BEN_COMP_PAID', bins = 50).set(xlabel=\"Annual Compensation\")\n",
    "\n",
    "plt.figure()\n",
    "sns.histplot(data = winners.loc[(winners['nemp'] > 0) & (winners['nemp'] < 500000)], x = 'nemp', bins=50).set(xlabel='Reported US Employment')"
   ]
  },
  {
   "cell_type": "markdown",
   "metadata": {},
   "source": [
    "## Merging with Revelio Data"
   ]
  },
  {
   "cell_type": "code",
   "execution_count": 26,
   "metadata": {},
   "outputs": [
    {
     "name": "stdout",
     "output_type": "stream",
     "text": [
      "Overall Match Rate: 64%\n",
      "Preferred Sample Rate: 66%\n",
      "Out of Sample Rate: 56%\n"
     ]
    }
   ],
   "source": [
    "df_byemp = foia_df.groupby(['FEIN','lottery_year','matchind','sampgroup']).agg(n_apps = pd.NamedAgg(column = 'employer_name', aggfunc = 'count'), n_wins = pd.NamedAgg(column = 'win', aggfunc = 'sum')).reset_index()\n",
    "\n",
    "df_byemp['winrate'] = df_byemp['n_wins']/df_byemp['n_apps']\n",
    "df_byemp['p'] = df_byemp.groupby('lottery_year').transform('sum')['n_wins']/df_byemp.groupby('lottery_year').transform('sum')['n_apps']\n",
    "df_byemp['excess_wins'] = df_byemp['n_apps']*df_byemp['p']-df_byemp['n_wins']\n",
    "\n",
    "df_byemp.groupby(['matchind','sampgroup']).size()\n",
    "\n",
    "print(f\"Overall Match Rate: {round(100*df_byemp.loc[df_byemp['matchind'] == 1].shape[0]/df_byemp.shape[0])}%\")\n",
    "print(f\"Preferred Sample Rate: {round(100*df_byemp.loc[(df_byemp['matchind'] == 1)&(df_byemp['sampgroup'] == 'insamp')].shape[0]/df_byemp.loc[df_byemp['sampgroup'] == 'insamp'].shape[0])}%\")\n",
    "print(f\"Out of Sample Rate: {round(100*df_byemp.loc[(df_byemp['matchind'] == 1)&(df_byemp['sampgroup'] == 'outsamp')].shape[0]/df_byemp.loc[df_byemp['sampgroup'] == 'outsamp'].shape[0])}%\")"
   ]
  },
  {
   "cell_type": "code",
   "execution_count": 27,
   "metadata": {},
   "outputs": [
    {
     "data": {
      "text/plain": [
       "<Axes: xlabel='Excess Wins [Expected Wins - Actual Wins]', ylabel='Proportion'>"
      ]
     },
     "execution_count": 27,
     "metadata": {},
     "output_type": "execute_result"
    },
    {
     "data": {
      "image/png": "[encoded data removed]",
      "text/plain": [
       "<Figure size 640x480 with 1 Axes>"
      ]
     },
     "metadata": {},
     "output_type": "display_data"
    },
    {
     "data": {
      "image/png": "[encoded data removed]",
      "text/plain": [
       "<Figure size 640x480 with 1 Axes>"
      ]
     },
     "metadata": {},
     "output_type": "display_data"
    }
   ],
   "source": [
    "df_byemp_ps = df_byemp.loc[df_byemp['sampgroup']=='insamp']\n",
    "a= sns.histplot(data = df_byemp_ps, x = \"n_apps\", hue = \"matchind\",element = \"step\", stat = \"proportion\", common_norm = False, discrete = True)\n",
    "a.set(xlabel = 'Number of Lottery Applications')\n",
    "a.legend_.set(title = \"Matched to LinkedIn\")\n",
    "a\n",
    "plt.figure()\n",
    "\n",
    "b=sns.histplot(data = df_byemp_ps, x = \"excess_wins\", hue = \"matchind\", bins = 50, element = \"step\", stat = \"proportion\", common_norm = False)\n",
    "b.set(xlabel = 'Excess Wins [Expected Wins - Actual Wins]')\n",
    "b.legend_.set(title = \"Matched to LinkedIn\")\n",
    "b"
   ]
  },
  {
   "cell_type": "code",
   "execution_count": 28,
   "metadata": {},
   "outputs": [
    {
     "name": "stdout",
     "output_type": "stream",
     "text": [
      "matchind\n",
      "0    2.668186\n",
      "1    3.337682\n",
      "Name: n_apps, dtype: float64\n",
      "TtestResult(statistic=-21.37346101300979, pvalue=3.446340078240276e-101, df=138045.0)\n",
      "matchind\n",
      "0   -0.019401\n",
      "1   -0.074605\n",
      "Name: excess_wins, dtype: float64\n",
      "TtestResult(statistic=10.437510757950776, pvalue=1.7083224021636307e-25, df=138045.0)\n"
     ]
    }
   ],
   "source": [
    "# mean diffs\n",
    "print(df_byemp_ps.groupby('matchind')['n_apps'].mean())\n",
    "print(stats.ttest_ind(df_byemp_ps.loc[df_byemp_ps['matchind']== 0]['n_apps'],df_byemp_ps.loc[df_byemp_ps['matchind']== 1]['n_apps']))\n",
    "\n",
    "print(df_byemp_ps.groupby('matchind')['excess_wins'].mean())\n",
    "print(stats.ttest_ind(df_byemp_ps.loc[df_byemp_ps['matchind']== 0]['excess_wins'],df_byemp_ps.loc[df_byemp_ps['matchind']== 1]['excess_wins']))"
   ]
  },
  {
   "cell_type": "markdown",
   "metadata": {},
   "source": [
    "## First Stage Results"
   ]
  },
  {
   "cell_type": "code",
   "execution_count": 29,
   "metadata": {},
   "outputs": [],
   "source": [
    "balanced_full = con.read_parquet(f\"{root}/data/int/balanced_full_mar25.parquet\")\n",
    "\n",
    "fs_joined = con.sql(\"SELECT a.FEIN AS FEIN, a.lottery_year::FLOAT AS ly, t::FLOAT AS t, n_apps_tot AS n_apps, n_success_tot AS n_wins, n_i129, n_appr, sampgroup FROM (balanced_full AS a JOIN (SELECT FEIN, lottery_year, sampgroup FROM foia_main_samp_def) AS b ON a.FEIN = b.FEIN AND a.lottery_year = b.lottery_year)\")\n"
   ]
  },
  {
   "cell_type": "code",
   "execution_count": 30,
   "metadata": {},
   "outputs": [
    {
     "data": {
      "application/vnd.jupyter.widget-view+json": {
       "model_id": "912491bd6c26418fbe7a4c6c52310173",
       "version_major": 2,
       "version_minor": 0
      },
      "text/plain": [
       "FloatProgress(value=0.0, layout=Layout(width='auto'), style=ProgressStyle(bar_color='black'))"
      ]
     },
     "metadata": {},
     "output_type": "display_data"
    },
    {
     "name": "stdout",
     "output_type": "stream",
     "text": [
      "┌──────────────────────┐\n",
      "│ count(DISTINCT FEIN) │\n",
      "│        int64         │\n",
      "├──────────────────────┤\n",
      "│                 1135 │\n",
      "└──────────────────────┘\n",
      "\n"
     ]
    },
    {
     "name": "stderr",
     "output_type": "stream",
     "text": [
      "/var/folders/6z/xpll6gz5179770l_wm4h0_fc0000gn/T/ipykernel_40497/62380041.py:7: FutureWarning:\n",
      "\n",
      "DataFrame.groupby with axis=1 is deprecated. Do `frame.T.groupby(...)` without axis instead.\n",
      "\n"
     ]
    },
    {
     "data": {
      "text/plain": [
       "[None]"
      ]
     },
     "execution_count": 30,
     "metadata": {},
     "output_type": "execute_result"
    },
    {
     "data": {
      "image/png": "[encoded data removed]",
      "text/plain": [
       "<Figure size 640x480 with 1 Axes>"
      ]
     },
     "metadata": {},
     "output_type": "display_data"
    }
   ],
   "source": [
    "# single win\n",
    "fs_collapsed = con.sql(\"SELECT ly, t, n_wins::VARCHAR AS n_wins, MEAN(CASE WHEN n_appr IS NULL THEN 0 ELSE n_appr END) AS mean_appr FROM fs_joined WHERE n_apps = 1 AND sampgroup = 'insamp' AND ly = 2023 AND t < 2024 GROUP BY n_wins, ly, t\").df()\n",
    "\n",
    "print(con.sql(\"SELECT COUNT(DISTINCT FEIN) FROM fs_joined WHERE n_apps = 1 AND sampgroup = 'insamp' AND ly = 2023 \"))\n",
    "#print(fs_collapsed)\n",
    "pivot_long = fs_collapsed.pivot(index = ['t','ly'], columns = ['n_wins'], values = ['mean_appr'])\n",
    "pivot_long = pivot_long.join(pivot_long.groupby(level = 0, axis = 1).diff().rename(columns={'1':'diff'}).loc(axis = 1)[:,'diff']).reset_index().melt(id_vars = [('t',''),('ly','')])\n",
    "\n",
    "pivot_long.columns = ['t', 'ly', 'var', 'treat', 'value']\n",
    "\n",
    "rawvars = pivot_long.loc[pivot_long['treat'] != 'diff']\n",
    "diffs = pivot_long.loc[pivot_long['treat'] == 'diff']\n",
    "\n",
    "out = sns.scatterplot(data = rawvars, x = 't', y = 'value', hue = 'treat', s = 100)\n",
    "out.axvline(x = 2021.75)\n",
    "out.set(xlabel = \"Fiscal Year\", ylabel = \"Avg. Number of H-1B Visas Approved\")\n",
    "out.legend_.set(title = \"2022 Lottery Wins\")\n"
   ]
  },
  {
   "cell_type": "code",
   "execution_count": 122,
   "metadata": {},
   "outputs": [],
   "source": [
    "samp_to_foia_id = con.sql(\"SELECT * FROM ((SELECT FEIN, lottery_year, sampgroup FROM foia_main_samp_def) AS a JOIN (SELECT FEIN, lottery_year, foia_id FROM foia_with_ids GROUP BY FEIN, lottery_year, foia_id) AS b ON a.FEIN = b.FEIN AND a.lottery_year = b.lottery_year) WHERE foia_id IS NOT NULL\")\n",
    "\n",
    "out_joined = con.sql(\"SELECT a.foia_id AS foia_id, main_rcid, a.lottery_year::FLOAT AS ly, t::FLOAT AS t, n_apps_tot AS n_apps, n_success_tot AS n_wins, new_positions, new_hires, n_emp, sampgroup FROM (merged_for_analysis AS a JOIN (SELECT foia_id, sampgroup FROM samp_to_foia_id) AS b ON a.foia_id = b.foia_id)\")"
   ]
  },
  {
   "cell_type": "code",
   "execution_count": 123,
   "metadata": {},
   "outputs": [
    {
     "data": {
      "application/vnd.jupyter.widget-view+json": {
       "model_id": "325c5d8756b34b289d3b47c262ef7770",
       "version_major": 2,
       "version_minor": 0
      },
      "text/plain": [
       "FloatProgress(value=0.0, layout=Layout(width='auto'), style=ProgressStyle(bar_color='black'))"
      ]
     },
     "metadata": {},
     "output_type": "display_data"
    },
    {
     "data": {
      "application/vnd.jupyter.widget-view+json": {
       "model_id": "4ed491781d6a47e9b1c3bcca99e4aad3",
       "version_major": 2,
       "version_minor": 0
      },
      "text/plain": [
       "FloatProgress(value=0.0, layout=Layout(width='auto'), style=ProgressStyle(bar_color='black'))"
      ]
     },
     "metadata": {},
     "output_type": "display_data"
    },
    {
     "name": "stdout",
     "output_type": "stream",
     "text": [
      "┌─────────────────────────┐\n",
      "│ count(DISTINCT foia_id) │\n",
      "│          int64          │\n",
      "├─────────────────────────┤\n",
      "│                   13758 │\n",
      "└─────────────────────────┘\n",
      "\n"
     ]
    },
    {
     "data": {
      "application/vnd.jupyter.widget-view+json": {
       "model_id": "e394d1d5ce874c5eaec15b03c674e1ec",
       "version_major": 2,
       "version_minor": 0
      },
      "text/plain": [
       "FloatProgress(value=0.0, layout=Layout(width='auto'), style=ProgressStyle(bar_color='black'))"
      ]
     },
     "metadata": {},
     "output_type": "display_data"
    },
    {
     "name": "stdout",
     "output_type": "stream",
     "text": [
      "┌──────────────┐\n",
      "│ count_star() │\n",
      "│    int64     │\n",
      "├──────────────┤\n",
      "│      1389558 │\n",
      "└──────────────┘\n",
      "\n"
     ]
    },
    {
     "name": "stderr",
     "output_type": "stream",
     "text": [
      "/var/folders/6z/xpll6gz5179770l_wm4h0_fc0000gn/T/ipykernel_60991/2165577964.py:11: FutureWarning: DataFrame.groupby with axis=1 is deprecated. Do `frame.T.groupby(...)` without axis instead.\n",
      "  pivot_long = pivot_long.join(pivot_long.groupby(level = 0, axis = 1).diff().rename(columns={'1':'diff'}).loc(axis = 1)[:,'diff']).reset_index().melt(id_vars = [('t',''),('ly','')])\n"
     ]
    },
    {
     "data": {
      "text/plain": [
       "[None]"
      ]
     },
     "execution_count": 123,
     "metadata": {},
     "output_type": "execute_result"
    },
    {
     "data": {
      "image/png": "[encoded data removed]",
      "text/plain": [
       "<Figure size 640x480 with 1 Axes>"
      ]
     },
     "metadata": {},
     "output_type": "display_data"
    },
    {
     "data": {
      "image/png": "[encoded data removed]",
      "text/plain": [
       "<Figure size 640x480 with 1 Axes>"
      ]
     },
     "metadata": {},
     "output_type": "display_data"
    }
   ],
   "source": [
    "# single win\n",
    "lotyear = 2023\n",
    "out_collapsed = con.sql(f\"SELECT ly, t, n_wins::VARCHAR AS n_wins, MEAN(CASE WHEN new_hires IS NULL THEN 0 ELSE new_hires END) AS mean_new_hires, MEAN(new_hires) AS mean_new_hires_nulls, MEAN(CASE WHEN n_emp IS NULL THEN 0 ELSE n_emp END) AS mean_n_emp, MEAN(n_emp) AS mean_n_emp_nulls FROM out_joined WHERE n_apps = 1 AND sampgroup = 'insamp' AND ly = {lotyear} AND t < 2025 AND t > 2017 GROUP BY n_wins, ly, t\").df()\n",
    "\n",
    "print(con.sql(f\"SELECT COUNT(DISTINCT foia_id) FROM out_joined WHERE n_apps = 1 AND sampgroup = 'insamp' AND ly = {lotyear}\"))\n",
    "#print(fs_collapsed)\n",
    "print(con.sql(f\"SELECT COUNT(*) FROM out_joined WHERE n_apps = 1 AND sampgroup = 'insamp' AND ly = {lotyear}\"))\n",
    "# TODO: GET BALANCED SAMPLE?\n",
    "\n",
    "pivot_long = out_collapsed.pivot(index = ['t','ly'], columns = ['n_wins'], values = ['mean_new_hires','mean_n_emp','mean_new_hires_nulls','mean_n_emp_nulls'])\n",
    "pivot_long = pivot_long.join(pivot_long.groupby(level = 0, axis = 1).diff().rename(columns={'1':'diff'}).loc(axis = 1)[:,'diff']).reset_index().melt(id_vars = [('t',''),('ly','')])\n",
    "\n",
    "pivot_long.columns = ['t', 'ly', 'var', 'treat', 'value']\n",
    "\n",
    "rawvars = pivot_long.loc[pivot_long['treat'] != 'diff']\n",
    "diffs = pivot_long.loc[pivot_long['treat'] == 'diff']\n",
    "\n",
    "out = sns.lineplot(data = rawvars.loc[rawvars['var']=='mean_new_hires'], x = 't', y = 'value', hue = 'treat')\n",
    "out.axvline(x = lotyear-0.75)\n",
    "out.set(xlabel = \"Quarter of Start Date\", ylabel = \"Avg. Number of New Hires\")\n",
    "out.legend_.set(title = f\"{lotyear-1} Lottery Wins\")\n",
    "\n",
    "plt.figure()\n",
    "out2 = sns.lineplot(data = rawvars.loc[rawvars['var']=='mean_n_emp'], x = 't', y = 'value', hue = 'treat')\n",
    "out2.axvline(x = lotyear-0.75)\n",
    "out2.set(xlabel = \"Quarter of Start Date\", ylabel = \"Avg. Number of Employees\")\n",
    "out2.legend_.set(title = f\"{lotyear - 1} Lottery Wins\")"
   ]
  },
  {
   "cell_type": "code",
   "execution_count": 33,
   "metadata": {},
   "outputs": [
    {
     "data": {
      "text/plain": [
       "[None]"
      ]
     },
     "execution_count": 33,
     "metadata": {},
     "output_type": "execute_result"
    },
    {
     "data": {
      "image/png": "[encoded data removed]",
      "text/plain": [
       "<Figure size 640x480 with 1 Axes>"
      ]
     },
     "metadata": {},
     "output_type": "display_data"
    },
    {
     "data": {
      "image/png": "[encoded data removed]",
      "text/plain": [
       "<Figure size 640x480 with 1 Axes>"
      ]
     },
     "metadata": {},
     "output_type": "display_data"
    }
   ],
   "source": [
    "out = sns.lineplot(data = rawvars.loc[rawvars['var']=='mean_new_hires_nulls'], x = 't', y = 'value', hue = 'treat')\n",
    "out.axvline(x = 2021.25)\n",
    "out.set(xlabel = \"Quarter of Start Date\", ylabel = \"Avg. Number of New Hires (Excl. Zeros)\")\n",
    "out.legend_.set(title = \"2020 Lottery Wins\")\n",
    "\n",
    "plt.figure()\n",
    "out2 = sns.lineplot(data = rawvars.loc[rawvars['var']=='mean_n_emp_nulls'], x = 't', y = 'value', hue = 'treat')\n",
    "out2.axvline(x = 2021.25)\n",
    "out2.set(xlabel = \"Quarter of Start Date\", ylabel = \"Avg. Number of Employees (Excl. Zeros)\")\n",
    "out2.legend_.set(title = \"2020 Lottery Wins\")"
   ]
  },
  {
   "cell_type": "markdown",
   "metadata": {},
   "source": [
    "## Exploring Individual Companies"
   ]
  },
  {
   "cell_type": "code",
   "execution_count": 91,
   "metadata": {},
   "outputs": [
    {
     "data": {
      "application/vnd.jupyter.widget-view+json": {
       "model_id": "699227cccc174e90ad21372992e6f5da",
       "version_major": 2,
       "version_minor": 0
      },
      "text/plain": [
       "FloatProgress(value=0.0, layout=Layout(width='auto'), style=ProgressStyle(bar_color='black'))"
      ]
     },
     "metadata": {},
     "output_type": "display_data"
    },
    {
     "name": "stdout",
     "output_type": "stream",
     "text": [
      "(820, 13)\n"
     ]
    },
    {
     "data": {
      "application/vnd.microsoft.datawrangler.viewer.v0+json": {
       "columns": [
        {
         "name": "index",
         "rawType": "int64",
         "type": "integer"
        },
        {
         "name": "foia_id",
         "rawType": "int64",
         "type": "integer"
        },
        {
         "name": "main_rcid",
         "rawType": "int64",
         "type": "integer"
        },
        {
         "name": "ly",
         "rawType": "float32",
         "type": "float"
        },
        {
         "name": "t",
         "rawType": "float32",
         "type": "float"
        },
        {
         "name": "n_apps",
         "rawType": "int64",
         "type": "integer"
        },
        {
         "name": "n_wins",
         "rawType": "int64",
         "type": "integer"
        },
        {
         "name": "new_hires",
         "rawType": "float32",
         "type": "float"
        },
        {
         "name": "n_emp",
         "rawType": "float32",
         "type": "float"
        },
        {
         "name": "sampgroup",
         "rawType": "object",
         "type": "string"
        },
        {
         "name": "BEN_CURRENT_CLASS",
         "rawType": "object",
         "type": "string"
        },
        {
         "name": "REQUESTED_ACTION",
         "rawType": "object",
         "type": "string"
        },
        {
         "name": "S3Q1",
         "rawType": "object",
         "type": "string"
        },
        {
         "name": "BEN_COUNTRY_OF_BIRTH",
         "rawType": "object",
         "type": "string"
        }
       ],
       "conversionMethod": "pd.DataFrame",
       "ref": "64c49b83-09aa-42c1-a1e0-83b1ea269e5b",
       "rows": [
        [
         "662",
         "10083",
         "213839",
         "2022.0",
         "2021.0",
         "4",
         "2",
         "2.0",
         "57.0",
         "insamp",
         "F1",
         "A",
         "B",
         "INDIA"
        ],
        [
         "271",
         "31627",
         "709188",
         "2022.0",
         "2021.0",
         "2",
         "1",
         "3.0",
         "54.0",
         "insamp",
         "UU",
         "A",
         "B",
         "PAKIS"
        ],
        [
         "104",
         "81822",
         "7870112",
         "2022.0",
         "2021.0",
         "1",
         "1",
         "5.0",
         "67.0",
         "insamp",
         "UU",
         "A",
         "M",
         "INDIA"
        ],
        [
         "478",
         "12198",
         "261850",
         "2022.0",
         "2021.0",
         "4",
         "1",
         "2.0",
         "37.0",
         "insamp",
         "UU",
         "A",
         "B",
         "INDIA"
        ],
        [
         "286",
         "71943",
         "4849865",
         "2022.0",
         "2021.0",
         "2",
         "1",
         "1.0",
         "44.0",
         "insamp",
         "NA",
         "A",
         "B",
         "UK"
        ],
        [
         "149",
         "26706",
         "593493",
         "2022.0",
         "2021.0",
         "1",
         "1",
         "3.0",
         "84.0",
         "insamp",
         "UU",
         "A",
         "B",
         "UK"
        ],
        [
         "42",
         "29968",
         "669788",
         "2022.0",
         "2021.0",
         "1",
         "1",
         "1.0",
         "12.0",
         "insamp",
         "UU",
         "A",
         "B",
         "INDIA"
        ],
        [
         "48",
         "100211",
         "81426051",
         "2022.0",
         "2021.0",
         "1",
         "1",
         "0.0",
         "30.0",
         "insamp",
         "NA",
         "A",
         "B",
         "INDIA"
        ],
        [
         "358",
         "62232",
         "1631252",
         "2022.0",
         "2021.0",
         "7",
         "2",
         "0.0",
         "166.0",
         "insamp",
         "UU",
         "A",
         "B",
         "INDIA"
        ],
        [
         "225",
         "22993",
         "505379",
         "2022.0",
         "2021.0",
         "2",
         "1",
         "3.0",
         "99.0",
         "insamp",
         "TN2",
         "A",
         "B",
         "MEXIC"
        ]
       ],
       "shape": {
        "columns": 13,
        "rows": 10
       }
      },
      "text/html": [
       "<div>\n",
       "<style scoped>\n",
       "    .dataframe tbody tr th:only-of-type {\n",
       "        vertical-align: middle;\n",
       "    }\n",
       "\n",
       "    .dataframe tbody tr th {\n",
       "        vertical-align: top;\n",
       "    }\n",
       "\n",
       "    .dataframe thead th {\n",
       "        text-align: right;\n",
       "    }\n",
       "</style>\n",
       "<table border=\"1\" class=\"dataframe\">\n",
       "  <thead>\n",
       "    <tr style=\"text-align: right;\">\n",
       "      <th></th>\n",
       "      <th>foia_id</th>\n",
       "      <th>main_rcid</th>\n",
       "      <th>ly</th>\n",
       "      <th>t</th>\n",
       "      <th>n_apps</th>\n",
       "      <th>n_wins</th>\n",
       "      <th>new_hires</th>\n",
       "      <th>n_emp</th>\n",
       "      <th>sampgroup</th>\n",
       "      <th>BEN_CURRENT_CLASS</th>\n",
       "      <th>REQUESTED_ACTION</th>\n",
       "      <th>S3Q1</th>\n",
       "      <th>BEN_COUNTRY_OF_BIRTH</th>\n",
       "    </tr>\n",
       "  </thead>\n",
       "  <tbody>\n",
       "    <tr>\n",
       "      <th>662</th>\n",
       "      <td>10083</td>\n",
       "      <td>213839</td>\n",
       "      <td>2022.0</td>\n",
       "      <td>2021.0</td>\n",
       "      <td>4</td>\n",
       "      <td>2</td>\n",
       "      <td>2.0</td>\n",
       "      <td>57.0</td>\n",
       "      <td>insamp</td>\n",
       "      <td>F1</td>\n",
       "      <td>A</td>\n",
       "      <td>B</td>\n",
       "      <td>INDIA</td>\n",
       "    </tr>\n",
       "    <tr>\n",
       "      <th>271</th>\n",
       "      <td>31627</td>\n",
       "      <td>709188</td>\n",
       "      <td>2022.0</td>\n",
       "      <td>2021.0</td>\n",
       "      <td>2</td>\n",
       "      <td>1</td>\n",
       "      <td>3.0</td>\n",
       "      <td>54.0</td>\n",
       "      <td>insamp</td>\n",
       "      <td>UU</td>\n",
       "      <td>A</td>\n",
       "      <td>B</td>\n",
       "      <td>PAKIS</td>\n",
       "    </tr>\n",
       "    <tr>\n",
       "      <th>104</th>\n",
       "      <td>81822</td>\n",
       "      <td>7870112</td>\n",
       "      <td>2022.0</td>\n",
       "      <td>2021.0</td>\n",
       "      <td>1</td>\n",
       "      <td>1</td>\n",
       "      <td>5.0</td>\n",
       "      <td>67.0</td>\n",
       "      <td>insamp</td>\n",
       "      <td>UU</td>\n",
       "      <td>A</td>\n",
       "      <td>M</td>\n",
       "      <td>INDIA</td>\n",
       "    </tr>\n",
       "    <tr>\n",
       "      <th>478</th>\n",
       "      <td>12198</td>\n",
       "      <td>261850</td>\n",
       "      <td>2022.0</td>\n",
       "      <td>2021.0</td>\n",
       "      <td>4</td>\n",
       "      <td>1</td>\n",
       "      <td>2.0</td>\n",
       "      <td>37.0</td>\n",
       "      <td>insamp</td>\n",
       "      <td>UU</td>\n",
       "      <td>A</td>\n",
       "      <td>B</td>\n",
       "      <td>INDIA</td>\n",
       "    </tr>\n",
       "    <tr>\n",
       "      <th>286</th>\n",
       "      <td>71943</td>\n",
       "      <td>4849865</td>\n",
       "      <td>2022.0</td>\n",
       "      <td>2021.0</td>\n",
       "      <td>2</td>\n",
       "      <td>1</td>\n",
       "      <td>1.0</td>\n",
       "      <td>44.0</td>\n",
       "      <td>insamp</td>\n",
       "      <td>NA</td>\n",
       "      <td>A</td>\n",
       "      <td>B</td>\n",
       "      <td>UK</td>\n",
       "    </tr>\n",
       "    <tr>\n",
       "      <th>149</th>\n",
       "      <td>26706</td>\n",
       "      <td>593493</td>\n",
       "      <td>2022.0</td>\n",
       "      <td>2021.0</td>\n",
       "      <td>1</td>\n",
       "      <td>1</td>\n",
       "      <td>3.0</td>\n",
       "      <td>84.0</td>\n",
       "      <td>insamp</td>\n",
       "      <td>UU</td>\n",
       "      <td>A</td>\n",
       "      <td>B</td>\n",
       "      <td>UK</td>\n",
       "    </tr>\n",
       "    <tr>\n",
       "      <th>42</th>\n",
       "      <td>29968</td>\n",
       "      <td>669788</td>\n",
       "      <td>2022.0</td>\n",
       "      <td>2021.0</td>\n",
       "      <td>1</td>\n",
       "      <td>1</td>\n",
       "      <td>1.0</td>\n",
       "      <td>12.0</td>\n",
       "      <td>insamp</td>\n",
       "      <td>UU</td>\n",
       "      <td>A</td>\n",
       "      <td>B</td>\n",
       "      <td>INDIA</td>\n",
       "    </tr>\n",
       "    <tr>\n",
       "      <th>48</th>\n",
       "      <td>100211</td>\n",
       "      <td>81426051</td>\n",
       "      <td>2022.0</td>\n",
       "      <td>2021.0</td>\n",
       "      <td>1</td>\n",
       "      <td>1</td>\n",
       "      <td>0.0</td>\n",
       "      <td>30.0</td>\n",
       "      <td>insamp</td>\n",
       "      <td>NA</td>\n",
       "      <td>A</td>\n",
       "      <td>B</td>\n",
       "      <td>INDIA</td>\n",
       "    </tr>\n",
       "    <tr>\n",
       "      <th>358</th>\n",
       "      <td>62232</td>\n",
       "      <td>1631252</td>\n",
       "      <td>2022.0</td>\n",
       "      <td>2021.0</td>\n",
       "      <td>7</td>\n",
       "      <td>2</td>\n",
       "      <td>0.0</td>\n",
       "      <td>166.0</td>\n",
       "      <td>insamp</td>\n",
       "      <td>UU</td>\n",
       "      <td>A</td>\n",
       "      <td>B</td>\n",
       "      <td>INDIA</td>\n",
       "    </tr>\n",
       "    <tr>\n",
       "      <th>225</th>\n",
       "      <td>22993</td>\n",
       "      <td>505379</td>\n",
       "      <td>2022.0</td>\n",
       "      <td>2021.0</td>\n",
       "      <td>2</td>\n",
       "      <td>1</td>\n",
       "      <td>3.0</td>\n",
       "      <td>99.0</td>\n",
       "      <td>insamp</td>\n",
       "      <td>TN2</td>\n",
       "      <td>A</td>\n",
       "      <td>B</td>\n",
       "      <td>MEXIC</td>\n",
       "    </tr>\n",
       "  </tbody>\n",
       "</table>\n",
       "</div>"
      ],
      "text/plain": [
       "     foia_id  main_rcid      ly       t  n_apps  n_wins  new_hires  n_emp  \\\n",
       "662    10083     213839  2022.0  2021.0       4       2        2.0   57.0   \n",
       "271    31627     709188  2022.0  2021.0       2       1        3.0   54.0   \n",
       "104    81822    7870112  2022.0  2021.0       1       1        5.0   67.0   \n",
       "478    12198     261850  2022.0  2021.0       4       1        2.0   37.0   \n",
       "286    71943    4849865  2022.0  2021.0       2       1        1.0   44.0   \n",
       "149    26706     593493  2022.0  2021.0       1       1        3.0   84.0   \n",
       "42     29968     669788  2022.0  2021.0       1       1        1.0   12.0   \n",
       "48    100211   81426051  2022.0  2021.0       1       1        0.0   30.0   \n",
       "358    62232    1631252  2022.0  2021.0       7       2        0.0  166.0   \n",
       "225    22993     505379  2022.0  2021.0       2       1        3.0   99.0   \n",
       "\n",
       "    sampgroup BEN_CURRENT_CLASS REQUESTED_ACTION S3Q1 BEN_COUNTRY_OF_BIRTH  \n",
       "662    insamp                F1                A    B                INDIA  \n",
       "271    insamp                UU                A    B                PAKIS  \n",
       "104    insamp                UU                A    M                INDIA  \n",
       "478    insamp                UU                A    B                INDIA  \n",
       "286    insamp                NA                A    B                   UK  \n",
       "149    insamp                UU                A    B                   UK  \n",
       "42     insamp                UU                A    B                INDIA  \n",
       "48     insamp                NA                A    B                INDIA  \n",
       "358    insamp                UU                A    B                INDIA  \n",
       "225    insamp               TN2                A    B                MEXIC  "
      ]
     },
     "execution_count": 91,
     "metadata": {},
     "output_type": "execute_result"
    }
   ],
   "source": [
    "#samp = con.sql(\"SELECT *, COUNT(CASE WHEN ) AS nwins FROM (SELECT * FROM foia_with_ids\")\n",
    "\n",
    "\n",
    "samp_to_foia_id_test = con.sql(\"SELECT * FROM ((SELECT FEIN, lottery_year, sampgroup FROM foia_main_samp_def) AS a JOIN (SELECT * FROM foia_with_ids) AS b ON a.FEIN = b.FEIN AND a.lottery_year = b.lottery_year) WHERE foia_id IS NOT NULL\")\n",
    "\n",
    "\n",
    "test1 = con.sql(\"SELECT a.foia_id AS foia_id, main_rcid, a.lottery_year::FLOAT AS ly, t::FLOAT AS t, n_apps_tot AS n_apps, n_success_tot AS n_wins, new_hires::FLOAT AS new_hires, n_emp::FLOAT AS n_emp, sampgroup, BEN_CURRENT_CLASS, REQUESTED_ACTION, S3Q1, ben_country_of_birth FROM (merged_for_analysis AS a JOIN (SELECT * FROM samp_to_foia_id_test) AS b ON a.foia_id = b.foia_id)\")\n",
    "\n",
    "samp = con.sql(\"SELECT * FROM test1 WHERE REQUESTED_ACTION = 'A' AND n_wins < 3 AND sampgroup = 'insamp' AND new_hires IS NOT NULL AND n_emp > 10 AND n_emp < 200 AND t = 2021 AND ly = 2022\").df()\n",
    "print(samp.shape)\n",
    "samp.sample(n=10)"
   ]
  },
  {
   "cell_type": "code",
   "execution_count": null,
   "metadata": {},
   "outputs": [
    {
     "data": {
      "application/vnd.microsoft.datawrangler.viewer.v0+json": {
       "columns": [
        {
         "name": "index",
         "rawType": "int64",
         "type": "integer"
        },
        {
         "name": "bcn",
         "rawType": "object",
         "type": "string"
        },
        {
         "name": "country_of_birth",
         "rawType": "object",
         "type": "string"
        },
        {
         "name": "country_of_nationality",
         "rawType": "object",
         "type": "string"
        },
        {
         "name": "ben_date_of_birth",
         "rawType": "object",
         "type": "string"
        },
        {
         "name": "ben_year_of_birth",
         "rawType": "object",
         "type": "string"
        },
        {
         "name": "gender",
         "rawType": "object",
         "type": "string"
        },
        {
         "name": "employer_name",
         "rawType": "object",
         "type": "string"
        },
        {
         "name": "FEIN",
         "rawType": "object",
         "type": "string"
        },
        {
         "name": "mail_addr",
         "rawType": "object",
         "type": "string"
        },
        {
         "name": "city",
         "rawType": "object",
         "type": "string"
        },
        {
         "name": "state",
         "rawType": "object",
         "type": "string"
        },
        {
         "name": "zip",
         "rawType": "object",
         "type": "string"
        },
        {
         "name": "agent_first_name",
         "rawType": "object",
         "type": "string"
        },
        {
         "name": "agent_last_name",
         "rawType": "object",
         "type": "string"
        },
        {
         "name": "lottery_year",
         "rawType": "object",
         "type": "string"
        },
        {
         "name": "status_type",
         "rawType": "object",
         "type": "string"
        },
        {
         "name": "ben_multi_reg_ind",
         "rawType": "object",
         "type": "string"
        },
        {
         "name": "RECEIPT_NUMBER",
         "rawType": "object",
         "type": "string"
        },
        {
         "name": "rec_date",
         "rawType": "object",
         "type": "string"
        },
        {
         "name": "FIRST_DECISION",
         "rawType": "object",
         "type": "string"
        },
        {
         "name": "first_decision_date",
         "rawType": "object",
         "type": "string"
        },
        {
         "name": "i129_employer_name",
         "rawType": "object",
         "type": "string"
        },
        {
         "name": "PET_STREET",
         "rawType": "object",
         "type": "string"
        },
        {
         "name": "PET_CITY",
         "rawType": "object",
         "type": "string"
        },
        {
         "name": "PET_STATE",
         "rawType": "object",
         "type": "string"
        },
        {
         "name": "PET_ZIP",
         "rawType": "object",
         "type": "string"
        },
        {
         "name": "REQUESTED_CLASS",
         "rawType": "object",
         "type": "string"
        },
        {
         "name": "BASIS_FOR_CLASSIFICATION",
         "rawType": "object",
         "type": "string"
        },
        {
         "name": "REQUESTED_ACTION",
         "rawType": "object",
         "type": "string"
        },
        {
         "name": "NUMBER_OF_BENEFICIARIES",
         "rawType": "object",
         "type": "string"
        },
        {
         "name": "BEN_SEX",
         "rawType": "object",
         "type": "string"
        },
        {
         "name": "BEN_COUNTRY_OF_BIRTH",
         "rawType": "object",
         "type": "string"
        },
        {
         "name": "BEN_CURRENT_CLASS",
         "rawType": "object",
         "type": "string"
        },
        {
         "name": "JOB_TITLE",
         "rawType": "object",
         "type": "string"
        },
        {
         "name": "DOL_ETA_CASE_NUMBER",
         "rawType": "object",
         "type": "string"
        },
        {
         "name": "WORKSITE_STREET",
         "rawType": "object",
         "type": "string"
        },
        {
         "name": "WORKSITE_CITY",
         "rawType": "object",
         "type": "string"
        },
        {
         "name": "WORKSITE_STATE",
         "rawType": "object",
         "type": "string"
        },
        {
         "name": "WORKSITE_ZIP",
         "rawType": "object",
         "type": "string"
        },
        {
         "name": "FULL_TIME_IND",
         "rawType": "object",
         "type": "string"
        },
        {
         "name": "WAGE_AMT",
         "rawType": "object",
         "type": "string"
        },
        {
         "name": "WAGE_UNIT",
         "rawType": "object",
         "type": "string"
        },
        {
         "name": "valid_from",
         "rawType": "object",
         "type": "string"
        },
        {
         "name": "valid_to",
         "rawType": "object",
         "type": "string"
        },
        {
         "name": "NUM_OF_EMP_IN_US",
         "rawType": "object",
         "type": "string"
        },
        {
         "name": "S1Q1A",
         "rawType": "object",
         "type": "string"
        },
        {
         "name": "S1Q1B",
         "rawType": "object",
         "type": "string"
        },
        {
         "name": "BEN_EDUCATION_CODE",
         "rawType": "object",
         "type": "string"
        },
        {
         "name": "ED_LEVEL_DEFINITION",
         "rawType": "object",
         "type": "string"
        },
        {
         "name": "BEN_PFIELD_OF_STUDY",
         "rawType": "object",
         "type": "string"
        },
        {
         "name": "BEN_COMP_PAID",
         "rawType": "object",
         "type": "string"
        },
        {
         "name": "DOT_CODE",
         "rawType": "object",
         "type": "string"
        },
        {
         "name": "NAICS_CODE",
         "rawType": "object",
         "type": "string"
        },
        {
         "name": "S3Q1",
         "rawType": "object",
         "type": "string"
        },
        {
         "name": "S4Q1",
         "rawType": "object",
         "type": "string"
        },
        {
         "name": "T_U_VAWA_FLAG",
         "rawType": "object",
         "type": "string"
        },
        {
         "name": "state_name",
         "rawType": "object",
         "type": "string"
        },
        {
         "name": "worksite_state_name",
         "rawType": "object",
         "type": "string"
        },
        {
         "name": "lottery_year_1",
         "rawType": "int64",
         "type": "integer"
        },
        {
         "name": "FEIN_1",
         "rawType": "object",
         "type": "string"
        },
        {
         "name": "foia_id",
         "rawType": "int64",
         "type": "integer"
        },
        {
         "name": "matched",
         "rawType": "int32",
         "type": "integer"
        },
        {
         "name": "matchind",
         "rawType": "int32",
         "type": "integer"
        }
       ],
       "conversionMethod": "pd.DataFrame",
       "ref": "7ed6cc9d-3e8c-4b31-81e6-c465c9d507ed",
       "rows": [
        [
         "0",
         "(b)(6)",
         "CHN",
         "CHN",
         "(b)(6)",
         "1996",
         "female",
         "Bay Area Compliance Laboratories Corp.",
         "770442546",
         "1274 Anvilwood Ave",
         "Sunnyvale",
         "CA",
         "94089-2203",
         "Lisa",
         "Chan",
         "2023",
         "ELIGIBLE",
         "0",
         "NA",
         "NA",
         "NA",
         "NA",
         "NA",
         "NA",
         "NA",
         "NA",
         "NA",
         "NA",
         "NA",
         "NA",
         "NA",
         "NA",
         "NA",
         "NA",
         "NA",
         "NA",
         "NA",
         "NA",
         "NA",
         "NA",
         "NA",
         "NA",
         "NA",
         "NA",
         "NA",
         "NA",
         "NA",
         "NA",
         "NA",
         "NA",
         "NA",
         "NA",
         "NA",
         "NA",
         "NA",
         "NA",
         "NA",
         "California",
         "NA",
         "2023",
         "770442546",
         "10084",
         "1",
         "1"
        ],
        [
         "1",
         "(b)(6)",
         "CHN",
         "CHN",
         "(b)(6)",
         "1997",
         "male",
         "Bay Area Compliance Laboratories Corp.",
         "770442546",
         "1274 Anvilwood Avenue",
         "Sunnyvale",
         "CA",
         "94089",
         "Lisa",
         "Chan",
         "2024",
         "ELIGIBLE",
         "0",
         "NA",
         "NA",
         "NA",
         "NA",
         "NA",
         "NA",
         "NA",
         "NA",
         "NA",
         "NA",
         "NA",
         "NA",
         "NA",
         "NA",
         "NA",
         "NA",
         "NA",
         "NA",
         "NA",
         "NA",
         "NA",
         "NA",
         "NA",
         "NA",
         "NA",
         "NA",
         "NA",
         "NA",
         "NA",
         "NA",
         "NA",
         "NA",
         "NA",
         "NA",
         "NA",
         "NA",
         "NA",
         "NA",
         "NA",
         "California",
         "NA",
         "2024",
         "770442546",
         "10085",
         "1",
         "1"
        ],
        [
         "2",
         "(b)(6)",
         "CHN",
         "CHN",
         "(b)(6)",
         "1996",
         "female",
         "Bay Area Compliance Laboratories Corp.",
         "770442546",
         "1274 Anvilwood Avenue",
         "Sunnyvale",
         "CA",
         "94089",
         "Lisa",
         "Chan",
         "2024",
         "ELIGIBLE",
         "0",
         "NA",
         "NA",
         "NA",
         "NA",
         "NA",
         "NA",
         "NA",
         "NA",
         "NA",
         "NA",
         "NA",
         "NA",
         "NA",
         "NA",
         "NA",
         "NA",
         "NA",
         "NA",
         "NA",
         "NA",
         "NA",
         "NA",
         "NA",
         "NA",
         "NA",
         "NA",
         "NA",
         "NA",
         "NA",
         "NA",
         "NA",
         "NA",
         "NA",
         "NA",
         "NA",
         "NA",
         "NA",
         "NA",
         "NA",
         "California",
         "NA",
         "2024",
         "770442546",
         "10085",
         "1",
         "1"
        ],
        [
         "3",
         "(b)(6)",
         "IDN",
         "IDN",
         "(b)(6)",
         "1995",
         "male",
         "Bay Area Compliance Laboratories Corp.",
         "770442546",
         "1274 Anvilwood Ave",
         "Sunnyvale",
         "CA",
         "94089-2203",
         "Lisa",
         "Chan",
         "2023",
         "ELIGIBLE",
         "0",
         "NA",
         "NA",
         "NA",
         "NA",
         "NA",
         "NA",
         "NA",
         "NA",
         "NA",
         "NA",
         "NA",
         "NA",
         "NA",
         "NA",
         "NA",
         "NA",
         "NA",
         "NA",
         "NA",
         "NA",
         "NA",
         "NA",
         "NA",
         "NA",
         "NA",
         "NA",
         "NA",
         "NA",
         "NA",
         "NA",
         "NA",
         "NA",
         "NA",
         "NA",
         "NA",
         "NA",
         "NA",
         "NA",
         "NA",
         "California",
         "NA",
         "2023",
         "770442546",
         "10084",
         "1",
         "1"
        ],
        [
         "4",
         "(b)(6)",
         "IDN",
         "IDN",
         "(b)(6)",
         "1995",
         "male",
         "Bay Area Compliance Laboratories Corp.",
         "770442546",
         "1274 Anvilwood Ave",
         "Sunnyvale",
         "CA",
         "94089-2203",
         "Lisa",
         "Chan",
         "2021",
         "CREATED",
         "0",
         "NA",
         "NA",
         "NA",
         "NA",
         "NA",
         "NA",
         "NA",
         "NA",
         "NA",
         "NA",
         "NA",
         "NA",
         "NA",
         "NA",
         "NA",
         "NA",
         "NA",
         "NA",
         "NA",
         "NA",
         "NA",
         "NA",
         "NA",
         "NA",
         "NA",
         "NA",
         "NA",
         "NA",
         "NA",
         "NA",
         "NA",
         "NA",
         "NA",
         "NA",
         "NA",
         "NA",
         "NA",
         "NA",
         "NA",
         "California",
         "NA",
         "2021",
         "770442546",
         "10082",
         "1",
         "1"
        ],
        [
         "5",
         "(b)(6)",
         "IND",
         "IND",
         "(b)(6)",
         "1993",
         "male",
         "Bay Area Compliance Laboratories Corp.",
         "770442546",
         "1274 Anvilwood Ave",
         "Sunnyvale",
         "CA",
         "94089-2203",
         "Lisa",
         "Chan",
         "2022",
         "SELECTED",
         "0",
         "(b)(6)",
         "6/17/2021",
         "Approved",
         "8/31/2021",
         "BAY AREA COMPLIANCE LABORATORIES C",
         "1274 ANVILWOOD AVE",
         "SUNNYVALE",
         "CA",
         "94089",
         "1B1",
         "A",
         "A",
         "1",
         "M",
         "INDIA",
         "F1",
         "TEST ENGINEER",
         "(b)(6)",
         "1274 ANVILWOOD AVE",
         "SUNNYVALE",
         "CA",
         "94089",
         "NA",
         "NA",
         "NA",
         "10/1/2021",
         "9/30/2024",
         "0",
         "N",
         "NA",
         "G",
         "MASTER'S DEGREE",
         "ELECTRICAL ENGINEERING",
         "88712",
         "003",
         "541380",
         "B",
         "N",
         "NA",
         "California",
         "California",
         "2022",
         "770442546",
         "10083",
         "1",
         "1"
        ],
        [
         "6",
         "(b)(6)",
         "IDN",
         "IDN",
         "(b)(6)",
         "1995",
         "male",
         "Bay Area Compliance Laboratories Corp.",
         "770442546",
         "1274 Anvilwood Ave",
         "Sunnyvale",
         "CA",
         "94089-2203",
         "Lisa",
         "Chan",
         "2022",
         "ELIGIBLE",
         "0",
         "NA",
         "NA",
         "NA",
         "NA",
         "NA",
         "NA",
         "NA",
         "NA",
         "NA",
         "NA",
         "NA",
         "NA",
         "NA",
         "NA",
         "NA",
         "NA",
         "NA",
         "NA",
         "NA",
         "NA",
         "NA",
         "NA",
         "NA",
         "NA",
         "NA",
         "NA",
         "NA",
         "NA",
         "NA",
         "NA",
         "NA",
         "NA",
         "NA",
         "NA",
         "NA",
         "NA",
         "NA",
         "NA",
         "NA",
         "California",
         "NA",
         "2022",
         "770442546",
         "10083",
         "1",
         "1"
        ],
        [
         "7",
         "(b)(6)",
         "MYS",
         "MYS",
         "(b)(6)",
         "1982",
         "male",
         "Bay Area Compliance Laboratories Corp.",
         "770442546",
         "1274 Anvilwood Avenue",
         "Sunnyvale",
         "CA",
         "94089",
         "Lisa",
         "Chan",
         "2024",
         "ELIGIBLE",
         "0",
         "NA",
         "NA",
         "NA",
         "NA",
         "NA",
         "NA",
         "NA",
         "NA",
         "NA",
         "NA",
         "NA",
         "NA",
         "NA",
         "NA",
         "NA",
         "NA",
         "NA",
         "NA",
         "NA",
         "NA",
         "NA",
         "NA",
         "NA",
         "NA",
         "NA",
         "NA",
         "NA",
         "NA",
         "NA",
         "NA",
         "NA",
         "NA",
         "NA",
         "NA",
         "NA",
         "NA",
         "NA",
         "NA",
         "NA",
         "California",
         "NA",
         "2024",
         "770442546",
         "10085",
         "1",
         "1"
        ],
        [
         "8",
         "(b)(6)",
         "CHN",
         "CHN",
         "(b)(6)",
         "1996",
         "female",
         "Bay Area Compliance Laboratories Corp.",
         "770442546",
         "1274 Anvilwood Ave",
         "Sunnyvale",
         "CA",
         "94089-2203",
         "Lisa",
         "Chan",
         "2021",
         "CREATED",
         "0",
         "NA",
         "NA",
         "NA",
         "NA",
         "NA",
         "NA",
         "NA",
         "NA",
         "NA",
         "NA",
         "NA",
         "NA",
         "NA",
         "NA",
         "NA",
         "NA",
         "NA",
         "NA",
         "NA",
         "NA",
         "NA",
         "NA",
         "NA",
         "NA",
         "NA",
         "NA",
         "NA",
         "NA",
         "NA",
         "NA",
         "NA",
         "NA",
         "NA",
         "NA",
         "NA",
         "NA",
         "NA",
         "NA",
         "NA",
         "California",
         "NA",
         "2021",
         "770442546",
         "10082",
         "1",
         "1"
        ],
        [
         "9",
         "(b)(6)",
         "CHN",
         "CHN",
         "(b)(6)",
         "1994",
         "male",
         "Bay Area Compliance Laboratories Corp.",
         "770442546",
         "1274 Anvilwood Ave",
         "Sunnyvale",
         "CA",
         "94089-2203",
         "Lisa",
         "Chan",
         "2022",
         "SELECTED",
         "0",
         "(b)(6)",
         "10/20/2021",
         "Approved",
         "12/2/2021",
         "BAY AREA COMPLIANCE LABORATORIES C",
         "1274 ANVILWOOD AVE",
         "SUNNYVALE",
         "CA",
         "94089",
         "1B1",
         "A",
         "B",
         "1",
         "M",
         "CHINA",
         "F1",
         "PROJECT MANAGEMENT ANALYST",
         "(b)(6)",
         "1274 ANVILWOOD AVE",
         "SUNNYVALE",
         "CA",
         "94089",
         "NA",
         "NA",
         "NA",
         "12/2/2021",
         "9/30/2024",
         "0",
         "N",
         "NA",
         "G",
         "MASTER'S DEGREE",
         "ENGINEERING MANAGEMENT",
         "72051",
         "161",
         "541380",
         "M",
         "N",
         "NA",
         "California",
         "California",
         "2022",
         "770442546",
         "10083",
         "1",
         "1"
        ],
        [
         "10",
         "(b)(6)",
         "CHN",
         "CHN",
         "(b)(6)",
         "1996",
         "female",
         "Bay Area Compliance Laboratories Corp.",
         "770442546",
         "1274 Anvilwood Ave",
         "Sunnyvale",
         "CA",
         "94089-2203",
         "Lisa",
         "Chan",
         "2022",
         "ELIGIBLE",
         "0",
         "NA",
         "NA",
         "NA",
         "NA",
         "NA",
         "NA",
         "NA",
         "NA",
         "NA",
         "NA",
         "NA",
         "NA",
         "NA",
         "NA",
         "NA",
         "NA",
         "NA",
         "NA",
         "NA",
         "NA",
         "NA",
         "NA",
         "NA",
         "NA",
         "NA",
         "NA",
         "NA",
         "NA",
         "NA",
         "NA",
         "NA",
         "NA",
         "NA",
         "NA",
         "NA",
         "NA",
         "NA",
         "NA",
         "NA",
         "California",
         "NA",
         "2022",
         "770442546",
         "10083",
         "1",
         "1"
        ]
       ],
       "shape": {
        "columns": 63,
        "rows": 11
       }
      },
      "text/html": [
       "<div>\n",
       "<style scoped>\n",
       "    .dataframe tbody tr th:only-of-type {\n",
       "        vertical-align: middle;\n",
       "    }\n",
       "\n",
       "    .dataframe tbody tr th {\n",
       "        vertical-align: top;\n",
       "    }\n",
       "\n",
       "    .dataframe thead th {\n",
       "        text-align: right;\n",
       "    }\n",
       "</style>\n",
       "<table border=\"1\" class=\"dataframe\">\n",
       "  <thead>\n",
       "    <tr style=\"text-align: right;\">\n",
       "      <th></th>\n",
       "      <th>bcn</th>\n",
       "      <th>country_of_birth</th>\n",
       "      <th>country_of_nationality</th>\n",
       "      <th>ben_date_of_birth</th>\n",
       "      <th>ben_year_of_birth</th>\n",
       "      <th>gender</th>\n",
       "      <th>employer_name</th>\n",
       "      <th>FEIN</th>\n",
       "      <th>mail_addr</th>\n",
       "      <th>city</th>\n",
       "      <th>...</th>\n",
       "      <th>S3Q1</th>\n",
       "      <th>S4Q1</th>\n",
       "      <th>T_U_VAWA_FLAG</th>\n",
       "      <th>state_name</th>\n",
       "      <th>worksite_state_name</th>\n",
       "      <th>lottery_year_1</th>\n",
       "      <th>FEIN_1</th>\n",
       "      <th>foia_id</th>\n",
       "      <th>matched</th>\n",
       "      <th>matchind</th>\n",
       "    </tr>\n",
       "  </thead>\n",
       "  <tbody>\n",
       "    <tr>\n",
       "      <th>0</th>\n",
       "      <td>(b)(6)</td>\n",
       "      <td>CHN</td>\n",
       "      <td>CHN</td>\n",
       "      <td>(b)(6)</td>\n",
       "      <td>1996</td>\n",
       "      <td>female</td>\n",
       "      <td>Bay Area Compliance Laboratories Corp.</td>\n",
       "      <td>770442546</td>\n",
       "      <td>1274 Anvilwood Ave</td>\n",
       "      <td>Sunnyvale</td>\n",
       "      <td>...</td>\n",
       "      <td>NA</td>\n",
       "      <td>NA</td>\n",
       "      <td>NA</td>\n",
       "      <td>California</td>\n",
       "      <td>NA</td>\n",
       "      <td>2023</td>\n",
       "      <td>770442546</td>\n",
       "      <td>10084</td>\n",
       "      <td>1</td>\n",
       "      <td>1</td>\n",
       "    </tr>\n",
       "    <tr>\n",
       "      <th>1</th>\n",
       "      <td>(b)(6)</td>\n",
       "      <td>CHN</td>\n",
       "      <td>CHN</td>\n",
       "      <td>(b)(6)</td>\n",
       "      <td>1997</td>\n",
       "      <td>male</td>\n",
       "      <td>Bay Area Compliance Laboratories Corp.</td>\n",
       "      <td>770442546</td>\n",
       "      <td>1274 Anvilwood Avenue</td>\n",
       "      <td>Sunnyvale</td>\n",
       "      <td>...</td>\n",
       "      <td>NA</td>\n",
       "      <td>NA</td>\n",
       "      <td>NA</td>\n",
       "      <td>California</td>\n",
       "      <td>NA</td>\n",
       "      <td>2024</td>\n",
       "      <td>770442546</td>\n",
       "      <td>10085</td>\n",
       "      <td>1</td>\n",
       "      <td>1</td>\n",
       "    </tr>\n",
       "    <tr>\n",
       "      <th>2</th>\n",
       "      <td>(b)(6)</td>\n",
       "      <td>CHN</td>\n",
       "      <td>CHN</td>\n",
       "      <td>(b)(6)</td>\n",
       "      <td>1996</td>\n",
       "      <td>female</td>\n",
       "      <td>Bay Area Compliance Laboratories Corp.</td>\n",
       "      <td>770442546</td>\n",
       "      <td>1274 Anvilwood Avenue</td>\n",
       "      <td>Sunnyvale</td>\n",
       "      <td>...</td>\n",
       "      <td>NA</td>\n",
       "      <td>NA</td>\n",
       "      <td>NA</td>\n",
       "      <td>California</td>\n",
       "      <td>NA</td>\n",
       "      <td>2024</td>\n",
       "      <td>770442546</td>\n",
       "      <td>10085</td>\n",
       "      <td>1</td>\n",
       "      <td>1</td>\n",
       "    </tr>\n",
       "    <tr>\n",
       "      <th>3</th>\n",
       "      <td>(b)(6)</td>\n",
       "      <td>IDN</td>\n",
       "      <td>IDN</td>\n",
       "      <td>(b)(6)</td>\n",
       "      <td>1995</td>\n",
       "      <td>male</td>\n",
       "      <td>Bay Area Compliance Laboratories Corp.</td>\n",
       "      <td>770442546</td>\n",
       "      <td>1274 Anvilwood Ave</td>\n",
       "      <td>Sunnyvale</td>\n",
       "      <td>...</td>\n",
       "      <td>NA</td>\n",
       "      <td>NA</td>\n",
       "      <td>NA</td>\n",
       "      <td>California</td>\n",
       "      <td>NA</td>\n",
       "      <td>2023</td>\n",
       "      <td>770442546</td>\n",
       "      <td>10084</td>\n",
       "      <td>1</td>\n",
       "      <td>1</td>\n",
       "    </tr>\n",
       "    <tr>\n",
       "      <th>4</th>\n",
       "      <td>(b)(6)</td>\n",
       "      <td>IDN</td>\n",
       "      <td>IDN</td>\n",
       "      <td>(b)(6)</td>\n",
       "      <td>1995</td>\n",
       "      <td>male</td>\n",
       "      <td>Bay Area Compliance Laboratories Corp.</td>\n",
       "      <td>770442546</td>\n",
       "      <td>1274 Anvilwood Ave</td>\n",
       "      <td>Sunnyvale</td>\n",
       "      <td>...</td>\n",
       "      <td>NA</td>\n",
       "      <td>NA</td>\n",
       "      <td>NA</td>\n",
       "      <td>California</td>\n",
       "      <td>NA</td>\n",
       "      <td>2021</td>\n",
       "      <td>770442546</td>\n",
       "      <td>10082</td>\n",
       "      <td>1</td>\n",
       "      <td>1</td>\n",
       "    </tr>\n",
       "    <tr>\n",
       "      <th>5</th>\n",
       "      <td>(b)(6)</td>\n",
       "      <td>IND</td>\n",
       "      <td>IND</td>\n",
       "      <td>(b)(6)</td>\n",
       "      <td>1993</td>\n",
       "      <td>male</td>\n",
       "      <td>Bay Area Compliance Laboratories Corp.</td>\n",
       "      <td>770442546</td>\n",
       "      <td>1274 Anvilwood Ave</td>\n",
       "      <td>Sunnyvale</td>\n",
       "      <td>...</td>\n",
       "      <td>B</td>\n",
       "      <td>N</td>\n",
       "      <td>NA</td>\n",
       "      <td>California</td>\n",
       "      <td>California</td>\n",
       "      <td>2022</td>\n",
       "      <td>770442546</td>\n",
       "      <td>10083</td>\n",
       "      <td>1</td>\n",
       "      <td>1</td>\n",
       "    </tr>\n",
       "    <tr>\n",
       "      <th>6</th>\n",
       "      <td>(b)(6)</td>\n",
       "      <td>IDN</td>\n",
       "      <td>IDN</td>\n",
       "      <td>(b)(6)</td>\n",
       "      <td>1995</td>\n",
       "      <td>male</td>\n",
       "      <td>Bay Area Compliance Laboratories Corp.</td>\n",
       "      <td>770442546</td>\n",
       "      <td>1274 Anvilwood Ave</td>\n",
       "      <td>Sunnyvale</td>\n",
       "      <td>...</td>\n",
       "      <td>NA</td>\n",
       "      <td>NA</td>\n",
       "      <td>NA</td>\n",
       "      <td>California</td>\n",
       "      <td>NA</td>\n",
       "      <td>2022</td>\n",
       "      <td>770442546</td>\n",
       "      <td>10083</td>\n",
       "      <td>1</td>\n",
       "      <td>1</td>\n",
       "    </tr>\n",
       "    <tr>\n",
       "      <th>7</th>\n",
       "      <td>(b)(6)</td>\n",
       "      <td>MYS</td>\n",
       "      <td>MYS</td>\n",
       "      <td>(b)(6)</td>\n",
       "      <td>1982</td>\n",
       "      <td>male</td>\n",
       "      <td>Bay Area Compliance Laboratories Corp.</td>\n",
       "      <td>770442546</td>\n",
       "      <td>1274 Anvilwood Avenue</td>\n",
       "      <td>Sunnyvale</td>\n",
       "      <td>...</td>\n",
       "      <td>NA</td>\n",
       "      <td>NA</td>\n",
       "      <td>NA</td>\n",
       "      <td>California</td>\n",
       "      <td>NA</td>\n",
       "      <td>2024</td>\n",
       "      <td>770442546</td>\n",
       "      <td>10085</td>\n",
       "      <td>1</td>\n",
       "      <td>1</td>\n",
       "    </tr>\n",
       "    <tr>\n",
       "      <th>8</th>\n",
       "      <td>(b)(6)</td>\n",
       "      <td>CHN</td>\n",
       "      <td>CHN</td>\n",
       "      <td>(b)(6)</td>\n",
       "      <td>1996</td>\n",
       "      <td>female</td>\n",
       "      <td>Bay Area Compliance Laboratories Corp.</td>\n",
       "      <td>770442546</td>\n",
       "      <td>1274 Anvilwood Ave</td>\n",
       "      <td>Sunnyvale</td>\n",
       "      <td>...</td>\n",
       "      <td>NA</td>\n",
       "      <td>NA</td>\n",
       "      <td>NA</td>\n",
       "      <td>California</td>\n",
       "      <td>NA</td>\n",
       "      <td>2021</td>\n",
       "      <td>770442546</td>\n",
       "      <td>10082</td>\n",
       "      <td>1</td>\n",
       "      <td>1</td>\n",
       "    </tr>\n",
       "    <tr>\n",
       "      <th>9</th>\n",
       "      <td>(b)(6)</td>\n",
       "      <td>CHN</td>\n",
       "      <td>CHN</td>\n",
       "      <td>(b)(6)</td>\n",
       "      <td>1994</td>\n",
       "      <td>male</td>\n",
       "      <td>Bay Area Compliance Laboratories Corp.</td>\n",
       "      <td>770442546</td>\n",
       "      <td>1274 Anvilwood Ave</td>\n",
       "      <td>Sunnyvale</td>\n",
       "      <td>...</td>\n",
       "      <td>M</td>\n",
       "      <td>N</td>\n",
       "      <td>NA</td>\n",
       "      <td>California</td>\n",
       "      <td>California</td>\n",
       "      <td>2022</td>\n",
       "      <td>770442546</td>\n",
       "      <td>10083</td>\n",
       "      <td>1</td>\n",
       "      <td>1</td>\n",
       "    </tr>\n",
       "    <tr>\n",
       "      <th>10</th>\n",
       "      <td>(b)(6)</td>\n",
       "      <td>CHN</td>\n",
       "      <td>CHN</td>\n",
       "      <td>(b)(6)</td>\n",
       "      <td>1996</td>\n",
       "      <td>female</td>\n",
       "      <td>Bay Area Compliance Laboratories Corp.</td>\n",
       "      <td>770442546</td>\n",
       "      <td>1274 Anvilwood Ave</td>\n",
       "      <td>Sunnyvale</td>\n",
       "      <td>...</td>\n",
       "      <td>NA</td>\n",
       "      <td>NA</td>\n",
       "      <td>NA</td>\n",
       "      <td>California</td>\n",
       "      <td>NA</td>\n",
       "      <td>2022</td>\n",
       "      <td>770442546</td>\n",
       "      <td>10083</td>\n",
       "      <td>1</td>\n",
       "      <td>1</td>\n",
       "    </tr>\n",
       "  </tbody>\n",
       "</table>\n",
       "<p>11 rows × 63 columns</p>\n",
       "</div>"
      ],
      "text/plain": [
       "       bcn country_of_birth country_of_nationality ben_date_of_birth  \\\n",
       "0   (b)(6)              CHN                    CHN            (b)(6)   \n",
       "1   (b)(6)              CHN                    CHN            (b)(6)   \n",
       "2   (b)(6)              CHN                    CHN            (b)(6)   \n",
       "3   (b)(6)              IDN                    IDN            (b)(6)   \n",
       "4   (b)(6)              IDN                    IDN            (b)(6)   \n",
       "5   (b)(6)              IND                    IND            (b)(6)   \n",
       "6   (b)(6)              IDN                    IDN            (b)(6)   \n",
       "7   (b)(6)              MYS                    MYS            (b)(6)   \n",
       "8   (b)(6)              CHN                    CHN            (b)(6)   \n",
       "9   (b)(6)              CHN                    CHN            (b)(6)   \n",
       "10  (b)(6)              CHN                    CHN            (b)(6)   \n",
       "\n",
       "   ben_year_of_birth  gender                           employer_name  \\\n",
       "0               1996  female  Bay Area Compliance Laboratories Corp.   \n",
       "1               1997    male  Bay Area Compliance Laboratories Corp.   \n",
       "2               1996  female  Bay Area Compliance Laboratories Corp.   \n",
       "3               1995    male  Bay Area Compliance Laboratories Corp.   \n",
       "4               1995    male  Bay Area Compliance Laboratories Corp.   \n",
       "5               1993    male  Bay Area Compliance Laboratories Corp.   \n",
       "6               1995    male  Bay Area Compliance Laboratories Corp.   \n",
       "7               1982    male  Bay Area Compliance Laboratories Corp.   \n",
       "8               1996  female  Bay Area Compliance Laboratories Corp.   \n",
       "9               1994    male  Bay Area Compliance Laboratories Corp.   \n",
       "10              1996  female  Bay Area Compliance Laboratories Corp.   \n",
       "\n",
       "         FEIN              mail_addr       city  ... S3Q1 S4Q1 T_U_VAWA_FLAG  \\\n",
       "0   770442546     1274 Anvilwood Ave  Sunnyvale  ...   NA   NA            NA   \n",
       "1   770442546  1274 Anvilwood Avenue  Sunnyvale  ...   NA   NA            NA   \n",
       "2   770442546  1274 Anvilwood Avenue  Sunnyvale  ...   NA   NA            NA   \n",
       "3   770442546     1274 Anvilwood Ave  Sunnyvale  ...   NA   NA            NA   \n",
       "4   770442546     1274 Anvilwood Ave  Sunnyvale  ...   NA   NA            NA   \n",
       "5   770442546     1274 Anvilwood Ave  Sunnyvale  ...    B    N            NA   \n",
       "6   770442546     1274 Anvilwood Ave  Sunnyvale  ...   NA   NA            NA   \n",
       "7   770442546  1274 Anvilwood Avenue  Sunnyvale  ...   NA   NA            NA   \n",
       "8   770442546     1274 Anvilwood Ave  Sunnyvale  ...   NA   NA            NA   \n",
       "9   770442546     1274 Anvilwood Ave  Sunnyvale  ...    M    N            NA   \n",
       "10  770442546     1274 Anvilwood Ave  Sunnyvale  ...   NA   NA            NA   \n",
       "\n",
       "    state_name worksite_state_name lottery_year_1     FEIN_1 foia_id matched  \\\n",
       "0   California                  NA           2023  770442546   10084       1   \n",
       "1   California                  NA           2024  770442546   10085       1   \n",
       "2   California                  NA           2024  770442546   10085       1   \n",
       "3   California                  NA           2023  770442546   10084       1   \n",
       "4   California                  NA           2021  770442546   10082       1   \n",
       "5   California          California           2022  770442546   10083       1   \n",
       "6   California                  NA           2022  770442546   10083       1   \n",
       "7   California                  NA           2024  770442546   10085       1   \n",
       "8   California                  NA           2021  770442546   10082       1   \n",
       "9   California          California           2022  770442546   10083       1   \n",
       "10  California                  NA           2022  770442546   10083       1   \n",
       "\n",
       "   matchind  \n",
       "0         1  \n",
       "1         1  \n",
       "2         1  \n",
       "3         1  \n",
       "4         1  \n",
       "5         1  \n",
       "6         1  \n",
       "7         1  \n",
       "8         1  \n",
       "9         1  \n",
       "10        1  \n",
       "\n",
       "[11 rows x 63 columns]"
      ]
     },
     "execution_count": 104,
     "metadata": {},
     "output_type": "execute_result"
    }
   ],
   "source": [
    "# test_foia_id = 45917\n",
    "# test_rcid = 1048230\n",
    "\n",
    "# test_foia_id = 32595\n",
    "# test_rcid = 732750\n",
    "\n",
    "# test_foia_id = 80486\n",
    "# test_rcid = 7683540\n",
    "\n",
    "# test_foia_id = 81822\n",
    "# test_rcid = 7870112\n",
    "\n",
    "test_foia_id = 10083\n",
    "test_rcid = 213839\n",
    "\n",
    "foia_raw = con.sql(f\"SELECT * FROM foia_with_ids WHERE foia_id = {test_foia_id}\").df()\n",
    "test_fein = foia_raw['FEIN'][0] \n",
    "foia_raw_all = con.sql(f\"SELECT * FROM foia_with_ids WHERE FEIN = '{test_fein}'\").df()\n",
    "#foia_raw_all.groupby('lottery_year').size().reset_index()\n",
    "foia_raw_all"
   ]
  },
  {
   "cell_type": "code",
   "execution_count": 112,
   "metadata": {},
   "outputs": [
    {
     "data": {
      "application/vnd.microsoft.datawrangler.viewer.v0+json": {
       "columns": [
        {
         "name": "index",
         "rawType": "int64",
         "type": "integer"
        },
        {
         "name": "lottery_year",
         "rawType": "int64",
         "type": "integer"
        },
        {
         "name": "main_rcid",
         "rawType": "int64",
         "type": "integer"
        },
        {
         "name": "foia_id",
         "rawType": "int64",
         "type": "integer"
        },
        {
         "name": "company_FOIA",
         "rawType": "object",
         "type": "string"
        },
        {
         "name": "n_us_employees",
         "rawType": "int32",
         "type": "integer"
        },
        {
         "name": "n_apps_tot",
         "rawType": "int64",
         "type": "integer"
        },
        {
         "name": "n_apps",
         "rawType": "int64",
         "type": "integer"
        },
        {
         "name": "n_success_tot",
         "rawType": "int64",
         "type": "integer"
        },
        {
         "name": "n_success",
         "rawType": "int64",
         "type": "integer"
        },
        {
         "name": "n_i129",
         "rawType": "int64",
         "type": "integer"
        },
        {
         "name": "t",
         "rawType": "float64",
         "type": "float"
        },
        {
         "name": "new_positions",
         "rawType": "Int64",
         "type": "integer"
        },
        {
         "name": "new_hires",
         "rawType": "Int64",
         "type": "integer"
        },
        {
         "name": "n_emp",
         "rawType": "int64",
         "type": "integer"
        }
       ],
       "conversionMethod": "pd.DataFrame",
       "ref": "6d28ec02-bd65-4501-93c4-52fedebbff6d",
       "rows": [
        [
         "0",
         "2022",
         "213839",
         "10083",
         "Bay Area Compliance Laboratories Corp.",
         "0",
         "4",
         "4",
         "2",
         "2",
         "2",
         "2017.5",
         "4",
         "3",
         "50"
        ],
        [
         "1",
         "2022",
         "213839",
         "10083",
         "Bay Area Compliance Laboratories Corp.",
         "0",
         "4",
         "4",
         "2",
         "2",
         "2",
         "2014.0",
         "4",
         "4",
         "30"
        ],
        [
         "2",
         "2022",
         "213839",
         "10083",
         "Bay Area Compliance Laboratories Corp.",
         "0",
         "4",
         "4",
         "2",
         "2",
         "2",
         "2017.0",
         "7",
         "6",
         "50"
        ],
        [
         "3",
         "2022",
         "213839",
         "10083",
         "Bay Area Compliance Laboratories Corp.",
         "0",
         "4",
         "4",
         "2",
         "2",
         "2",
         "2006.0",
         "3",
         "3",
         "9"
        ],
        [
         "4",
         "2022",
         "213839",
         "10083",
         "Bay Area Compliance Laboratories Corp.",
         "0",
         "4",
         "4",
         "2",
         "2",
         "2",
         "2012.0",
         null,
         null,
         "16"
        ],
        [
         "5",
         "2022",
         "213839",
         "10083",
         "Bay Area Compliance Laboratories Corp.",
         "0",
         "4",
         "4",
         "2",
         "2",
         "2",
         "2000.0",
         "1",
         "1",
         "1"
        ],
        [
         "6",
         "2022",
         "213839",
         "10083",
         "Bay Area Compliance Laboratories Corp.",
         "0",
         "4",
         "4",
         "2",
         "2",
         "2",
         "2016.0",
         "6",
         "3",
         "38"
        ],
        [
         "7",
         "2022",
         "213839",
         "10083",
         "Bay Area Compliance Laboratories Corp.",
         "0",
         "4",
         "4",
         "2",
         "2",
         "2",
         "2021.25",
         "3",
         "2",
         "56"
        ],
        [
         "8",
         "2022",
         "213839",
         "10083",
         "Bay Area Compliance Laboratories Corp.",
         "0",
         "4",
         "4",
         "2",
         "2",
         "2",
         "2015.0",
         "8",
         "5",
         "37"
        ],
        [
         "9",
         "2022",
         "213839",
         "10083",
         "Bay Area Compliance Laboratories Corp.",
         "0",
         "4",
         "4",
         "2",
         "2",
         "2",
         "2013.25",
         "3",
         "3",
         "22"
        ],
        [
         "10",
         "2022",
         "213839",
         "10083",
         "Bay Area Compliance Laboratories Corp.",
         "0",
         "4",
         "4",
         "2",
         "2",
         "2",
         "2023.0",
         "5",
         "4",
         "64"
        ],
        [
         "11",
         "2022",
         "213839",
         "10083",
         "Bay Area Compliance Laboratories Corp.",
         "0",
         "4",
         "4",
         "2",
         "2",
         "2",
         "2006.5",
         "1",
         "1",
         "9"
        ],
        [
         "12",
         "2022",
         "213839",
         "10083",
         "Bay Area Compliance Laboratories Corp.",
         "0",
         "4",
         "4",
         "2",
         "2",
         "2",
         "2007.0",
         "1",
         "1",
         "9"
        ],
        [
         "13",
         "2022",
         "213839",
         "10083",
         "Bay Area Compliance Laboratories Corp.",
         "0",
         "4",
         "4",
         "2",
         "2",
         "2",
         "2007.5",
         null,
         null,
         "8"
        ],
        [
         "14",
         "2022",
         "213839",
         "10083",
         "Bay Area Compliance Laboratories Corp.",
         "0",
         "4",
         "4",
         "2",
         "2",
         "2",
         "2004.5",
         null,
         null,
         "6"
        ],
        [
         "15",
         "2022",
         "213839",
         "10083",
         "Bay Area Compliance Laboratories Corp.",
         "0",
         "4",
         "4",
         "2",
         "2",
         "2",
         "2004.25",
         null,
         null,
         "6"
        ],
        [
         "16",
         "2022",
         "213839",
         "10083",
         "Bay Area Compliance Laboratories Corp.",
         "0",
         "4",
         "4",
         "2",
         "2",
         "2",
         "2024.25",
         "3",
         "2",
         "65"
        ],
        [
         "17",
         "2022",
         "213839",
         "10083",
         "Bay Area Compliance Laboratories Corp.",
         "0",
         "4",
         "4",
         "2",
         "2",
         "2",
         "2002.25",
         null,
         null,
         "2"
        ],
        [
         "18",
         "2022",
         "213839",
         "10083",
         "Bay Area Compliance Laboratories Corp.",
         "0",
         "4",
         "4",
         "2",
         "2",
         "2",
         "2019.5",
         "7",
         "6",
         "60"
        ],
        [
         "19",
         "2022",
         "213839",
         "10083",
         "Bay Area Compliance Laboratories Corp.",
         "0",
         "4",
         "4",
         "2",
         "2",
         "2",
         "2021.75",
         "4",
         "1",
         "54"
        ],
        [
         "20",
         "2022",
         "213839",
         "10083",
         "Bay Area Compliance Laboratories Corp.",
         "0",
         "4",
         "4",
         "2",
         "2",
         "2",
         "2003.25",
         "1",
         "1",
         "3"
        ],
        [
         "21",
         "2022",
         "213839",
         "10083",
         "Bay Area Compliance Laboratories Corp.",
         "0",
         "4",
         "4",
         "2",
         "2",
         "2",
         "2009.5",
         null,
         null,
         "11"
        ],
        [
         "22",
         "2022",
         "213839",
         "10083",
         "Bay Area Compliance Laboratories Corp.",
         "0",
         "4",
         "4",
         "2",
         "2",
         "2",
         "2003.5",
         null,
         null,
         "4"
        ],
        [
         "23",
         "2022",
         "213839",
         "10083",
         "Bay Area Compliance Laboratories Corp.",
         "0",
         "4",
         "4",
         "2",
         "2",
         "2",
         "2014.75",
         "9",
         "6",
         "35"
        ],
        [
         "24",
         "2022",
         "213839",
         "10083",
         "Bay Area Compliance Laboratories Corp.",
         "0",
         "4",
         "4",
         "2",
         "2",
         "2",
         "2004.75",
         null,
         null,
         "5"
        ],
        [
         "25",
         "2022",
         "213839",
         "10083",
         "Bay Area Compliance Laboratories Corp.",
         "0",
         "4",
         "4",
         "2",
         "2",
         "2",
         "2023.25",
         "4",
         "3",
         "66"
        ],
        [
         "26",
         "2022",
         "213839",
         "10083",
         "Bay Area Compliance Laboratories Corp.",
         "0",
         "4",
         "4",
         "2",
         "2",
         "2",
         "2022.25",
         "5",
         "4",
         "54"
        ],
        [
         "27",
         "2022",
         "213839",
         "10083",
         "Bay Area Compliance Laboratories Corp.",
         "0",
         "4",
         "4",
         "2",
         "2",
         "2",
         "2022.75",
         null,
         null,
         "60"
        ],
        [
         "28",
         "2022",
         "213839",
         "10083",
         "Bay Area Compliance Laboratories Corp.",
         "0",
         "4",
         "4",
         "2",
         "2",
         "2",
         "2017.25",
         "7",
         "6",
         "54"
        ],
        [
         "29",
         "2022",
         "213839",
         "10083",
         "Bay Area Compliance Laboratories Corp.",
         "0",
         "4",
         "4",
         "2",
         "2",
         "2",
         "2014.5",
         "1",
         "1",
         "30"
        ],
        [
         "30",
         "2022",
         "213839",
         "10083",
         "Bay Area Compliance Laboratories Corp.",
         "0",
         "4",
         "4",
         "2",
         "2",
         "2",
         "2011.75",
         "2",
         "2",
         "17"
        ],
        [
         "31",
         "2022",
         "213839",
         "10083",
         "Bay Area Compliance Laboratories Corp.",
         "0",
         "4",
         "4",
         "2",
         "2",
         "2",
         "2020.5",
         "4",
         "3",
         "59"
        ],
        [
         "32",
         "2022",
         "213839",
         "10083",
         "Bay Area Compliance Laboratories Corp.",
         "0",
         "4",
         "4",
         "2",
         "2",
         "2",
         "2019.0",
         "14",
         "11",
         "62"
        ],
        [
         "33",
         "2022",
         "213839",
         "10083",
         "Bay Area Compliance Laboratories Corp.",
         "0",
         "4",
         "4",
         "2",
         "2",
         "2",
         "2005.75",
         null,
         null,
         "6"
        ],
        [
         "34",
         "2022",
         "213839",
         "10083",
         "Bay Area Compliance Laboratories Corp.",
         "0",
         "4",
         "4",
         "2",
         "2",
         "2",
         "2001.25",
         null,
         null,
         "2"
        ],
        [
         "35",
         "2022",
         "213839",
         "10083",
         "Bay Area Compliance Laboratories Corp.",
         "0",
         "4",
         "4",
         "2",
         "2",
         "2",
         "2023.5",
         "4",
         "4",
         "68"
        ],
        [
         "36",
         "2022",
         "213839",
         "10083",
         "Bay Area Compliance Laboratories Corp.",
         "0",
         "4",
         "4",
         "2",
         "2",
         "2",
         "2013.5",
         "2",
         "1",
         "25"
        ],
        [
         "37",
         "2022",
         "213839",
         "10083",
         "Bay Area Compliance Laboratories Corp.",
         "0",
         "4",
         "4",
         "2",
         "2",
         "2",
         "2009.75",
         null,
         null,
         "10"
        ],
        [
         "38",
         "2022",
         "213839",
         "10083",
         "Bay Area Compliance Laboratories Corp.",
         "0",
         "4",
         "4",
         "2",
         "2",
         "2",
         "2003.0",
         null,
         null,
         "2"
        ],
        [
         "39",
         "2022",
         "213839",
         "10083",
         "Bay Area Compliance Laboratories Corp.",
         "0",
         "4",
         "4",
         "2",
         "2",
         "2",
         "2016.5",
         "2",
         "0",
         "43"
        ],
        [
         "40",
         "2022",
         "213839",
         "10083",
         "Bay Area Compliance Laboratories Corp.",
         "0",
         "4",
         "4",
         "2",
         "2",
         "2",
         "2010.25",
         "2",
         "2",
         "13"
        ],
        [
         "41",
         "2022",
         "213839",
         "10083",
         "Bay Area Compliance Laboratories Corp.",
         "0",
         "4",
         "4",
         "2",
         "2",
         "2",
         "2005.5",
         null,
         null,
         "6"
        ],
        [
         "42",
         "2022",
         "213839",
         "10083",
         "Bay Area Compliance Laboratories Corp.",
         "0",
         "4",
         "4",
         "2",
         "2",
         "2",
         "2018.0",
         "7",
         "6",
         "49"
        ],
        [
         "43",
         "2022",
         "213839",
         "10083",
         "Bay Area Compliance Laboratories Corp.",
         "0",
         "4",
         "4",
         "2",
         "2",
         "2",
         "2009.25",
         null,
         null,
         "11"
        ],
        [
         "44",
         "2022",
         "213839",
         "10083",
         "Bay Area Compliance Laboratories Corp.",
         "0",
         "4",
         "4",
         "2",
         "2",
         "2",
         "2008.75",
         "1",
         "1",
         "11"
        ],
        [
         "45",
         "2022",
         "213839",
         "10083",
         "Bay Area Compliance Laboratories Corp.",
         "0",
         "4",
         "4",
         "2",
         "2",
         "2",
         "2020.75",
         "2",
         "1",
         "59"
        ],
        [
         "46",
         "2022",
         "213839",
         "10083",
         "Bay Area Compliance Laboratories Corp.",
         "0",
         "4",
         "4",
         "2",
         "2",
         "2",
         "2019.75",
         "7",
         "3",
         "54"
        ],
        [
         "47",
         "2022",
         "213839",
         "10083",
         "Bay Area Compliance Laboratories Corp.",
         "0",
         "4",
         "4",
         "2",
         "2",
         "2",
         "2011.0",
         null,
         null,
         "16"
        ],
        [
         "48",
         "2022",
         "213839",
         "10083",
         "Bay Area Compliance Laboratories Corp.",
         "0",
         "4",
         "4",
         "2",
         "2",
         "2",
         "2024.0",
         "5",
         "4",
         "66"
        ],
        [
         "49",
         "2022",
         "213839",
         "10083",
         "Bay Area Compliance Laboratories Corp.",
         "0",
         "4",
         "4",
         "2",
         "2",
         "2",
         "2000.75",
         null,
         null,
         "1"
        ]
       ],
       "shape": {
        "columns": 14,
        "rows": 101
       }
      },
      "text/html": [
       "<div>\n",
       "<style scoped>\n",
       "    .dataframe tbody tr th:only-of-type {\n",
       "        vertical-align: middle;\n",
       "    }\n",
       "\n",
       "    .dataframe tbody tr th {\n",
       "        vertical-align: top;\n",
       "    }\n",
       "\n",
       "    .dataframe thead th {\n",
       "        text-align: right;\n",
       "    }\n",
       "</style>\n",
       "<table border=\"1\" class=\"dataframe\">\n",
       "  <thead>\n",
       "    <tr style=\"text-align: right;\">\n",
       "      <th></th>\n",
       "      <th>lottery_year</th>\n",
       "      <th>main_rcid</th>\n",
       "      <th>foia_id</th>\n",
       "      <th>company_FOIA</th>\n",
       "      <th>n_us_employees</th>\n",
       "      <th>n_apps_tot</th>\n",
       "      <th>n_apps</th>\n",
       "      <th>n_success_tot</th>\n",
       "      <th>n_success</th>\n",
       "      <th>n_i129</th>\n",
       "      <th>t</th>\n",
       "      <th>new_positions</th>\n",
       "      <th>new_hires</th>\n",
       "      <th>n_emp</th>\n",
       "    </tr>\n",
       "  </thead>\n",
       "  <tbody>\n",
       "    <tr>\n",
       "      <th>0</th>\n",
       "      <td>2022</td>\n",
       "      <td>213839</td>\n",
       "      <td>10083</td>\n",
       "      <td>Bay Area Compliance Laboratories Corp.</td>\n",
       "      <td>0</td>\n",
       "      <td>4</td>\n",
       "      <td>4</td>\n",
       "      <td>2</td>\n",
       "      <td>2</td>\n",
       "      <td>2</td>\n",
       "      <td>2017.50</td>\n",
       "      <td>4</td>\n",
       "      <td>3</td>\n",
       "      <td>50</td>\n",
       "    </tr>\n",
       "    <tr>\n",
       "      <th>1</th>\n",
       "      <td>2022</td>\n",
       "      <td>213839</td>\n",
       "      <td>10083</td>\n",
       "      <td>Bay Area Compliance Laboratories Corp.</td>\n",
       "      <td>0</td>\n",
       "      <td>4</td>\n",
       "      <td>4</td>\n",
       "      <td>2</td>\n",
       "      <td>2</td>\n",
       "      <td>2</td>\n",
       "      <td>2014.00</td>\n",
       "      <td>4</td>\n",
       "      <td>4</td>\n",
       "      <td>30</td>\n",
       "    </tr>\n",
       "    <tr>\n",
       "      <th>2</th>\n",
       "      <td>2022</td>\n",
       "      <td>213839</td>\n",
       "      <td>10083</td>\n",
       "      <td>Bay Area Compliance Laboratories Corp.</td>\n",
       "      <td>0</td>\n",
       "      <td>4</td>\n",
       "      <td>4</td>\n",
       "      <td>2</td>\n",
       "      <td>2</td>\n",
       "      <td>2</td>\n",
       "      <td>2017.00</td>\n",
       "      <td>7</td>\n",
       "      <td>6</td>\n",
       "      <td>50</td>\n",
       "    </tr>\n",
       "    <tr>\n",
       "      <th>3</th>\n",
       "      <td>2022</td>\n",
       "      <td>213839</td>\n",
       "      <td>10083</td>\n",
       "      <td>Bay Area Compliance Laboratories Corp.</td>\n",
       "      <td>0</td>\n",
       "      <td>4</td>\n",
       "      <td>4</td>\n",
       "      <td>2</td>\n",
       "      <td>2</td>\n",
       "      <td>2</td>\n",
       "      <td>2006.00</td>\n",
       "      <td>3</td>\n",
       "      <td>3</td>\n",
       "      <td>9</td>\n",
       "    </tr>\n",
       "    <tr>\n",
       "      <th>4</th>\n",
       "      <td>2022</td>\n",
       "      <td>213839</td>\n",
       "      <td>10083</td>\n",
       "      <td>Bay Area Compliance Laboratories Corp.</td>\n",
       "      <td>0</td>\n",
       "      <td>4</td>\n",
       "      <td>4</td>\n",
       "      <td>2</td>\n",
       "      <td>2</td>\n",
       "      <td>2</td>\n",
       "      <td>2012.00</td>\n",
       "      <td>&lt;NA&gt;</td>\n",
       "      <td>&lt;NA&gt;</td>\n",
       "      <td>16</td>\n",
       "    </tr>\n",
       "    <tr>\n",
       "      <th>...</th>\n",
       "      <td>...</td>\n",
       "      <td>...</td>\n",
       "      <td>...</td>\n",
       "      <td>...</td>\n",
       "      <td>...</td>\n",
       "      <td>...</td>\n",
       "      <td>...</td>\n",
       "      <td>...</td>\n",
       "      <td>...</td>\n",
       "      <td>...</td>\n",
       "      <td>...</td>\n",
       "      <td>...</td>\n",
       "      <td>...</td>\n",
       "      <td>...</td>\n",
       "    </tr>\n",
       "    <tr>\n",
       "      <th>96</th>\n",
       "      <td>2022</td>\n",
       "      <td>213839</td>\n",
       "      <td>10083</td>\n",
       "      <td>Bay Area Compliance Laboratories Corp.</td>\n",
       "      <td>0</td>\n",
       "      <td>4</td>\n",
       "      <td>4</td>\n",
       "      <td>2</td>\n",
       "      <td>2</td>\n",
       "      <td>2</td>\n",
       "      <td>2008.50</td>\n",
       "      <td>1</td>\n",
       "      <td>1</td>\n",
       "      <td>10</td>\n",
       "    </tr>\n",
       "    <tr>\n",
       "      <th>97</th>\n",
       "      <td>2022</td>\n",
       "      <td>213839</td>\n",
       "      <td>10083</td>\n",
       "      <td>Bay Area Compliance Laboratories Corp.</td>\n",
       "      <td>0</td>\n",
       "      <td>4</td>\n",
       "      <td>4</td>\n",
       "      <td>2</td>\n",
       "      <td>2</td>\n",
       "      <td>2</td>\n",
       "      <td>2025.00</td>\n",
       "      <td>&lt;NA&gt;</td>\n",
       "      <td>&lt;NA&gt;</td>\n",
       "      <td>60</td>\n",
       "    </tr>\n",
       "    <tr>\n",
       "      <th>98</th>\n",
       "      <td>2022</td>\n",
       "      <td>213839</td>\n",
       "      <td>10083</td>\n",
       "      <td>Bay Area Compliance Laboratories Corp.</td>\n",
       "      <td>0</td>\n",
       "      <td>4</td>\n",
       "      <td>4</td>\n",
       "      <td>2</td>\n",
       "      <td>2</td>\n",
       "      <td>2</td>\n",
       "      <td>2005.00</td>\n",
       "      <td>1</td>\n",
       "      <td>1</td>\n",
       "      <td>6</td>\n",
       "    </tr>\n",
       "    <tr>\n",
       "      <th>99</th>\n",
       "      <td>2022</td>\n",
       "      <td>213839</td>\n",
       "      <td>10083</td>\n",
       "      <td>Bay Area Compliance Laboratories Corp.</td>\n",
       "      <td>0</td>\n",
       "      <td>4</td>\n",
       "      <td>4</td>\n",
       "      <td>2</td>\n",
       "      <td>2</td>\n",
       "      <td>2</td>\n",
       "      <td>2012.25</td>\n",
       "      <td>&lt;NA&gt;</td>\n",
       "      <td>&lt;NA&gt;</td>\n",
       "      <td>15</td>\n",
       "    </tr>\n",
       "    <tr>\n",
       "      <th>100</th>\n",
       "      <td>2022</td>\n",
       "      <td>213839</td>\n",
       "      <td>10083</td>\n",
       "      <td>Bay Area Compliance Laboratories Corp.</td>\n",
       "      <td>0</td>\n",
       "      <td>4</td>\n",
       "      <td>4</td>\n",
       "      <td>2</td>\n",
       "      <td>2</td>\n",
       "      <td>2</td>\n",
       "      <td>2010.00</td>\n",
       "      <td>&lt;NA&gt;</td>\n",
       "      <td>&lt;NA&gt;</td>\n",
       "      <td>12</td>\n",
       "    </tr>\n",
       "  </tbody>\n",
       "</table>\n",
       "<p>101 rows × 14 columns</p>\n",
       "</div>"
      ],
      "text/plain": [
       "     lottery_year  main_rcid  foia_id                            company_FOIA  \\\n",
       "0            2022     213839    10083  Bay Area Compliance Laboratories Corp.   \n",
       "1            2022     213839    10083  Bay Area Compliance Laboratories Corp.   \n",
       "2            2022     213839    10083  Bay Area Compliance Laboratories Corp.   \n",
       "3            2022     213839    10083  Bay Area Compliance Laboratories Corp.   \n",
       "4            2022     213839    10083  Bay Area Compliance Laboratories Corp.   \n",
       "..            ...        ...      ...                                     ...   \n",
       "96           2022     213839    10083  Bay Area Compliance Laboratories Corp.   \n",
       "97           2022     213839    10083  Bay Area Compliance Laboratories Corp.   \n",
       "98           2022     213839    10083  Bay Area Compliance Laboratories Corp.   \n",
       "99           2022     213839    10083  Bay Area Compliance Laboratories Corp.   \n",
       "100          2022     213839    10083  Bay Area Compliance Laboratories Corp.   \n",
       "\n",
       "     n_us_employees  n_apps_tot  n_apps  n_success_tot  n_success  n_i129  \\\n",
       "0                 0           4       4              2          2       2   \n",
       "1                 0           4       4              2          2       2   \n",
       "2                 0           4       4              2          2       2   \n",
       "3                 0           4       4              2          2       2   \n",
       "4                 0           4       4              2          2       2   \n",
       "..              ...         ...     ...            ...        ...     ...   \n",
       "96                0           4       4              2          2       2   \n",
       "97                0           4       4              2          2       2   \n",
       "98                0           4       4              2          2       2   \n",
       "99                0           4       4              2          2       2   \n",
       "100               0           4       4              2          2       2   \n",
       "\n",
       "           t  new_positions  new_hires  n_emp  \n",
       "0    2017.50              4          3     50  \n",
       "1    2014.00              4          4     30  \n",
       "2    2017.00              7          6     50  \n",
       "3    2006.00              3          3      9  \n",
       "4    2012.00           <NA>       <NA>     16  \n",
       "..       ...            ...        ...    ...  \n",
       "96   2008.50              1          1     10  \n",
       "97   2025.00           <NA>       <NA>     60  \n",
       "98   2005.00              1          1      6  \n",
       "99   2012.25           <NA>       <NA>     15  \n",
       "100  2010.00           <NA>       <NA>     12  \n",
       "\n",
       "[101 rows x 14 columns]"
      ]
     },
     "execution_count": 112,
     "metadata": {},
     "output_type": "execute_result"
    }
   ],
   "source": [
    "con.sql(f\"SELECT * FROM merged_for_analysis WHERE foia_id = {test_foia_id}\").df()"
   ]
  },
  {
   "cell_type": "code",
   "execution_count": 113,
   "metadata": {},
   "outputs": [
    {
     "name": "stdout",
     "output_type": "stream",
     "text": [
      "Loading library list...\n",
      "Done\n"
     ]
    }
   ],
   "source": [
    "# getting revelio data (merging positions to user to education)\n",
    "import wrds \n",
    "db = wrds.Connection(wrds_username='amykimecon')\n"
   ]
  },
  {
   "cell_type": "code",
   "execution_count": 105,
   "metadata": {},
   "outputs": [
    {
     "data": {
      "application/vnd.microsoft.datawrangler.viewer.v0+json": {
       "columns": [
        {
         "name": "index",
         "rawType": "int64",
         "type": "integer"
        },
        {
         "name": "rcid",
         "rawType": "Float64",
         "type": "float"
        },
        {
         "name": "company",
         "rawType": "string",
         "type": "string"
        },
        {
         "name": "factset_entity_id",
         "rawType": "string",
         "type": "string"
        },
        {
         "name": "year_founded",
         "rawType": "string",
         "type": "string"
        },
        {
         "name": "ticker",
         "rawType": "string",
         "type": "string"
        },
        {
         "name": "exchange_name",
         "rawType": "string",
         "type": "string"
        },
        {
         "name": "sedol",
         "rawType": "string",
         "type": "string"
        },
        {
         "name": "isin",
         "rawType": "string",
         "type": "string"
        },
        {
         "name": "cusip",
         "rawType": "string",
         "type": "string"
        },
        {
         "name": "url",
         "rawType": "string",
         "type": "string"
        },
        {
         "name": "naics_code",
         "rawType": "string",
         "type": "string"
        },
        {
         "name": "cik",
         "rawType": "string",
         "type": "string"
        },
        {
         "name": "lei",
         "rawType": "string",
         "type": "string"
        },
        {
         "name": "linkedin_url",
         "rawType": "string",
         "type": "string"
        },
        {
         "name": "child_rcid",
         "rawType": "Int64",
         "type": "integer"
        },
        {
         "name": "child_company",
         "rawType": "string",
         "type": "string"
        },
        {
         "name": "child_linkedin_url",
         "rawType": "string",
         "type": "string"
        },
        {
         "name": "ultimate_parent_rcid",
         "rawType": "Float64",
         "type": "float"
        },
        {
         "name": "ultimate_parent_company_name",
         "rawType": "string",
         "type": "string"
        },
        {
         "name": "gvkey",
         "rawType": "string",
         "type": "string"
        },
        {
         "name": "ein",
         "rawType": "string",
         "type": "string"
        },
        {
         "name": "hq_street_address",
         "rawType": "string",
         "type": "string"
        },
        {
         "name": "hq_zip_code",
         "rawType": "string",
         "type": "string"
        },
        {
         "name": "hq_city",
         "rawType": "string",
         "type": "string"
        },
        {
         "name": "hq_metro_area",
         "rawType": "string",
         "type": "string"
        },
        {
         "name": "hq_state",
         "rawType": "string",
         "type": "string"
        },
        {
         "name": "hq_country",
         "rawType": "string",
         "type": "string"
        },
        {
         "name": "hq_region",
         "rawType": "string",
         "type": "string"
        },
        {
         "name": "rics_k50",
         "rawType": "string",
         "type": "string"
        },
        {
         "name": "rics_k200",
         "rawType": "string",
         "type": "string"
        },
        {
         "name": "rics_k400",
         "rawType": "string",
         "type": "string"
        },
        {
         "name": "phone_number",
         "rawType": "string",
         "type": "string"
        },
        {
         "name": "slogan",
         "rawType": "string",
         "type": "string"
        },
        {
         "name": "description",
         "rawType": "string",
         "type": "string"
        }
       ],
       "conversionMethod": "pd.DataFrame",
       "ref": "b00c5991-6c13-48b5-9dea-0328e068eef5",
       "rows": [
        [
         "0",
         "213839.0",
         "Bay Area Compliance Laboratories Corp.",
         "081P8W-E",
         "1996",
         null,
         null,
         null,
         null,
         null,
         "baclcorp.com",
         "541380",
         null,
         null,
         "http://linkedin.com/company/bay-area-compliance-lab-corp",
         "213839",
         "Bay Area Compliance Laboratories Corp.",
         "http://linkedin.com/company/bay-area-compliance-lab-corp",
         "213839.0",
         "Bay Area Compliance Laboratories Corp.",
         null,
         null,
         null,
         null,
         "Sunnyvale",
         "san jose metropolitan area (california)",
         "California",
         "United States",
         "Northern America",
         "Engineering and Construction Services",
         "Engineering and Technology Services",
         "Engineering and Technology Services",
         null,
         "Let's protect the world together. We shape the future by ensuring safety and quality. We help innovate.",
         "Since 1996, Bay Area Compliance Laboratories Corp. has existed through the support of our clients’ ideas, innovations, and stories. We strive to provide our clients with the highest quality testing and certification services.  Innovations have a profound impact on our daily lives, bringing about sweeping changes in countless ways. At BACL, we wholeheartedly embrace this progress. Positioned at the forefront of standards and inventions, we do not simply envision the future; we actively shape it. Continuously challenging ourselves, our focus remains on ensuring the safety of people and society as a whole.  Find out more at http://www.baclcorp.com/"
        ]
       ],
       "shape": {
        "columns": 34,
        "rows": 1
       }
      },
      "text/html": [
       "<div>\n",
       "<style scoped>\n",
       "    .dataframe tbody tr th:only-of-type {\n",
       "        vertical-align: middle;\n",
       "    }\n",
       "\n",
       "    .dataframe tbody tr th {\n",
       "        vertical-align: top;\n",
       "    }\n",
       "\n",
       "    .dataframe thead th {\n",
       "        text-align: right;\n",
       "    }\n",
       "</style>\n",
       "<table border=\"1\" class=\"dataframe\">\n",
       "  <thead>\n",
       "    <tr style=\"text-align: right;\">\n",
       "      <th></th>\n",
       "      <th>rcid</th>\n",
       "      <th>company</th>\n",
       "      <th>factset_entity_id</th>\n",
       "      <th>year_founded</th>\n",
       "      <th>ticker</th>\n",
       "      <th>exchange_name</th>\n",
       "      <th>sedol</th>\n",
       "      <th>isin</th>\n",
       "      <th>cusip</th>\n",
       "      <th>url</th>\n",
       "      <th>...</th>\n",
       "      <th>hq_metro_area</th>\n",
       "      <th>hq_state</th>\n",
       "      <th>hq_country</th>\n",
       "      <th>hq_region</th>\n",
       "      <th>rics_k50</th>\n",
       "      <th>rics_k200</th>\n",
       "      <th>rics_k400</th>\n",
       "      <th>phone_number</th>\n",
       "      <th>slogan</th>\n",
       "      <th>description</th>\n",
       "    </tr>\n",
       "  </thead>\n",
       "  <tbody>\n",
       "    <tr>\n",
       "      <th>0</th>\n",
       "      <td>213839.0</td>\n",
       "      <td>Bay Area Compliance Laboratories Corp.</td>\n",
       "      <td>081P8W-E</td>\n",
       "      <td>1996</td>\n",
       "      <td>&lt;NA&gt;</td>\n",
       "      <td>&lt;NA&gt;</td>\n",
       "      <td>&lt;NA&gt;</td>\n",
       "      <td>&lt;NA&gt;</td>\n",
       "      <td>&lt;NA&gt;</td>\n",
       "      <td>baclcorp.com</td>\n",
       "      <td>...</td>\n",
       "      <td>san jose metropolitan area (california)</td>\n",
       "      <td>California</td>\n",
       "      <td>United States</td>\n",
       "      <td>Northern America</td>\n",
       "      <td>Engineering and Construction Services</td>\n",
       "      <td>Engineering and Technology Services</td>\n",
       "      <td>Engineering and Technology Services</td>\n",
       "      <td>&lt;NA&gt;</td>\n",
       "      <td>Let's protect the world together. We shape the...</td>\n",
       "      <td>Since 1996, Bay Area Compliance Laboratories C...</td>\n",
       "    </tr>\n",
       "  </tbody>\n",
       "</table>\n",
       "<p>1 rows × 34 columns</p>\n",
       "</div>"
      ],
      "text/plain": [
       "       rcid                                 company factset_entity_id  \\\n",
       "0  213839.0  Bay Area Compliance Laboratories Corp.          081P8W-E   \n",
       "\n",
       "  year_founded ticker exchange_name sedol  isin cusip           url  ...  \\\n",
       "0         1996   <NA>          <NA>  <NA>  <NA>  <NA>  baclcorp.com  ...   \n",
       "\n",
       "                             hq_metro_area    hq_state     hq_country  \\\n",
       "0  san jose metropolitan area (california)  California  United States   \n",
       "\n",
       "          hq_region                               rics_k50  \\\n",
       "0  Northern America  Engineering and Construction Services   \n",
       "\n",
       "                             rics_k200                            rics_k400  \\\n",
       "0  Engineering and Technology Services  Engineering and Technology Services   \n",
       "\n",
       "   phone_number                                             slogan  \\\n",
       "0          <NA>  Let's protect the world together. We shape the...   \n",
       "\n",
       "                                         description  \n",
       "0  Since 1996, Bay Area Compliance Laboratories C...  \n",
       "\n",
       "[1 rows x 34 columns]"
      ]
     },
     "execution_count": 105,
     "metadata": {},
     "output_type": "execute_result"
    }
   ],
   "source": [
    "\n",
    "company_info = db.raw_sql(f\"SELECT * FROM revelio.company_mapping WHERE rcid = {test_rcid}\")\n",
    "year_founded = int(company_info['year_founded'][0])\n",
    "company_info"
   ]
  },
  {
   "cell_type": "code",
   "execution_count": 106,
   "metadata": {},
   "outputs": [
    {
     "data": {
      "text/plain": [
       "(436, 34)"
      ]
     },
     "execution_count": 106,
     "metadata": {},
     "output_type": "execute_result"
    }
   ],
   "source": [
    "test = db.raw_sql(f\"SELECT a.user_id AS user_id, a.position_id AS a, country, state, metro_area, a.startdate AS pos_startdate, a.enddate AS pos_enddate, role_k1500, weight, start_salary, end_salary, seniority, salary, position_number, rcid, total_compensation, fullname, highest_degree, sex_predicted, ethnicity_predicted, user_location, user_country, updated_dt, university_name, c.education_number, c.startdate AS ed_startdate, c.enddate AS ed_enddate, degree, field, university_country, title_raw, university_raw, degree_raw, field_raw FROM (SELECT * FROM revelio.individual_positions WHERE rcid = {test_rcid}) AS a LEFT JOIN (SELECT * FROM revelio.individual_user) AS b ON a.user_id = b.user_id LEFT JOIN (SELECT * FROM revelio.individual_user_education) AS c ON a.user_id = c.user_id LEFT JOIN (SELECT position_id, company_raw, location_raw, title_raw, description FROM revelio.individual_positions_raw) AS d ON a.position_id = d.position_id LEFT JOIN (SELECT * FROM revelio.individual_user_education_raw) AS e ON c.user_id = e.user_id AND c.education_number=e.education_number\")\n",
    "test.shape\n"
   ]
  },
  {
   "cell_type": "code",
   "execution_count": 110,
   "metadata": {},
   "outputs": [
    {
     "name": "stdout",
     "output_type": "stream",
     "text": [
      "(436, 39)\n"
     ]
    },
    {
     "data": {
      "application/vnd.microsoft.datawrangler.viewer.v0+json": {
       "columns": [
        {
         "name": "index",
         "rawType": "int64",
         "type": "integer"
        },
        {
         "name": "fullname",
         "rawType": "string",
         "type": "string"
        },
        {
         "name": "est_yob",
         "rawType": "float64",
         "type": "float"
        },
        {
         "name": "title_raw",
         "rawType": "string",
         "type": "string"
        },
        {
         "name": "role_k1500",
         "rawType": "string",
         "type": "string"
        },
        {
         "name": "pos_startdate",
         "rawType": "string",
         "type": "string"
        },
        {
         "name": "pos_enddate",
         "rawType": "string",
         "type": "string"
        },
        {
         "name": "state",
         "rawType": "string",
         "type": "string"
        },
        {
         "name": "metro_area",
         "rawType": "string",
         "type": "string"
        },
        {
         "name": "degree_raw",
         "rawType": "string",
         "type": "string"
        },
        {
         "name": "field_raw",
         "rawType": "string",
         "type": "string"
        },
        {
         "name": "university_raw",
         "rawType": "string",
         "type": "string"
        },
        {
         "name": "university_country",
         "rawType": "string",
         "type": "string"
        },
        {
         "name": "ed_startdate",
         "rawType": "string",
         "type": "string"
        },
        {
         "name": "ed_enddate",
         "rawType": "string",
         "type": "string"
        },
        {
         "name": "user_id",
         "rawType": "Float64",
         "type": "float"
        }
       ],
       "conversionMethod": "pd.DataFrame",
       "ref": "c5c2a7c5-ecf3-42c4-9a32-58daeecc6c2d",
       "rows": [
        [
         "298",
         "Di Li",
         "1990.0",
         "RF/EMC Engineer",
         "electronics engineer",
         "2017-08-01",
         "2019-03-01",
         "California",
         "san jose metropolitan area (california)",
         "Bachelor's degree",
         "Communication Engineering",
         "Harbin Institute of Technology",
         "China",
         "2008-01-01",
         "2012-01-01",
         "633586358.0"
        ],
        [
         "299",
         "Di Li",
         "1990.0",
         "RF/EMC Engineer",
         "electronics engineer",
         "2017-08-01",
         "2019-03-01",
         "California",
         "san jose metropolitan area (california)",
         "Master's degree",
         "Electrical",
         "University of Massachusetts Dartmouth",
         "United States",
         "2013-01-01",
         "2016-01-01",
         "633586358.0"
        ]
       ],
       "shape": {
        "columns": 15,
        "rows": 2
       }
      },
      "text/html": [
       "<div>\n",
       "<style scoped>\n",
       "    .dataframe tbody tr th:only-of-type {\n",
       "        vertical-align: middle;\n",
       "    }\n",
       "\n",
       "    .dataframe tbody tr th {\n",
       "        vertical-align: top;\n",
       "    }\n",
       "\n",
       "    .dataframe thead th {\n",
       "        text-align: right;\n",
       "    }\n",
       "</style>\n",
       "<table border=\"1\" class=\"dataframe\">\n",
       "  <thead>\n",
       "    <tr style=\"text-align: right;\">\n",
       "      <th></th>\n",
       "      <th>fullname</th>\n",
       "      <th>est_yob</th>\n",
       "      <th>title_raw</th>\n",
       "      <th>role_k1500</th>\n",
       "      <th>pos_startdate</th>\n",
       "      <th>pos_enddate</th>\n",
       "      <th>state</th>\n",
       "      <th>metro_area</th>\n",
       "      <th>degree_raw</th>\n",
       "      <th>field_raw</th>\n",
       "      <th>university_raw</th>\n",
       "      <th>university_country</th>\n",
       "      <th>ed_startdate</th>\n",
       "      <th>ed_enddate</th>\n",
       "      <th>user_id</th>\n",
       "    </tr>\n",
       "  </thead>\n",
       "  <tbody>\n",
       "    <tr>\n",
       "      <th>298</th>\n",
       "      <td>Di Li</td>\n",
       "      <td>1990.0</td>\n",
       "      <td>RF/EMC Engineer</td>\n",
       "      <td>electronics engineer</td>\n",
       "      <td>2017-08-01</td>\n",
       "      <td>2019-03-01</td>\n",
       "      <td>California</td>\n",
       "      <td>san jose metropolitan area (california)</td>\n",
       "      <td>Bachelor's degree</td>\n",
       "      <td>Communication Engineering</td>\n",
       "      <td>Harbin Institute of Technology</td>\n",
       "      <td>China</td>\n",
       "      <td>2008-01-01</td>\n",
       "      <td>2012-01-01</td>\n",
       "      <td>633586358.0</td>\n",
       "    </tr>\n",
       "    <tr>\n",
       "      <th>299</th>\n",
       "      <td>Di Li</td>\n",
       "      <td>1990.0</td>\n",
       "      <td>RF/EMC Engineer</td>\n",
       "      <td>electronics engineer</td>\n",
       "      <td>2017-08-01</td>\n",
       "      <td>2019-03-01</td>\n",
       "      <td>California</td>\n",
       "      <td>san jose metropolitan area (california)</td>\n",
       "      <td>Master's degree</td>\n",
       "      <td>Electrical</td>\n",
       "      <td>University of Massachusetts Dartmouth</td>\n",
       "      <td>United States</td>\n",
       "      <td>2013-01-01</td>\n",
       "      <td>2016-01-01</td>\n",
       "      <td>633586358.0</td>\n",
       "    </tr>\n",
       "  </tbody>\n",
       "</table>\n",
       "</div>"
      ],
      "text/plain": [
       "    fullname  est_yob        title_raw            role_k1500 pos_startdate  \\\n",
       "298    Di Li   1990.0  RF/EMC Engineer  electronics engineer    2017-08-01   \n",
       "299    Di Li   1990.0  RF/EMC Engineer  electronics engineer    2017-08-01   \n",
       "\n",
       "    pos_enddate       state                               metro_area  \\\n",
       "298  2019-03-01  California  san jose metropolitan area (california)   \n",
       "299  2019-03-01  California  san jose metropolitan area (california)   \n",
       "\n",
       "            degree_raw                  field_raw  \\\n",
       "298  Bachelor's degree  Communication Engineering   \n",
       "299    Master's degree                 Electrical   \n",
       "\n",
       "                            university_raw university_country ed_startdate  \\\n",
       "298         Harbin Institute of Technology              China   2008-01-01   \n",
       "299  University of Massachusetts Dartmouth      United States   2013-01-01   \n",
       "\n",
       "     ed_enddate      user_id  \n",
       "298  2012-01-01  633586358.0  \n",
       "299  2016-01-01  633586358.0  "
      ]
     },
     "execution_count": 110,
     "metadata": {},
     "output_type": "execute_result"
    }
   ],
   "source": [
    "\n",
    "test['firststart'] = test.groupby('user_id').transform('min')['pos_startdate']\n",
    "test['hs'] = test['degree_raw'].str.lower().str.contains('high school')\n",
    "test['ed_startyear'] = test.apply(lambda x: None if pd.isnull(x.ed_startdate) or (pd.isnull(x.hs) == 0 and x.hs == 1) else (None if int(x.ed_startdate[:4]) < 1950 else int(x.ed_startdate[:4])), axis = 1)\n",
    "\n",
    "test['est_yob'] = test.groupby('user_id')['ed_startyear'].transform('min') - 18\n",
    "#sns.histplot(data = test, x = 'est_yob')\n",
    "test['firststartyear'] = test['firststart'].apply(lambda x: None if pd.isnull(x) else int(x[:4]))\n",
    "print(test.shape)\n",
    "# test.loc[(test['firststartyear'] >= year_founded)&(test['country']=='United States')].sort_values(['firststart','user_id'])[['fullname', 'est_yob', 'title_raw', 'role_k1500', 'pos_startdate', 'pos_enddate', 'state','metro_area','degree_raw','field_raw','university_raw','university_country','ed_startdate','ed_enddate','user_id']]\n",
    "test.loc[(test['firststartyear'] >= year_founded)&(test['country']=='United States')&(test['fullname'] == \"Di Li\")].sort_values(['firststart','user_id'])[['fullname', 'est_yob', 'title_raw', 'role_k1500', 'pos_startdate', 'pos_enddate', 'state','metro_area','degree_raw','field_raw','university_raw','university_country','ed_startdate','ed_enddate','user_id']]"
   ]
  },
  {
   "cell_type": "code",
   "execution_count": 108,
   "metadata": {},
   "outputs": [
    {
     "data": {
      "application/vnd.microsoft.datawrangler.viewer.v0+json": {
       "columns": [
        {
         "name": "index",
         "rawType": "int64",
         "type": "integer"
        },
        {
         "name": "university_raw",
         "rawType": "string",
         "type": "string"
        },
        {
         "name": "0",
         "rawType": "int64",
         "type": "integer"
        }
       ],
       "conversionMethod": "pd.DataFrame",
       "ref": "7d43c49f-3680-49fa-885e-2e205c8a80ec",
       "rows": [
        [
         "0",
         "Abraham Lincoln High",
         "1"
        ],
        [
         "1",
         "Afghan Institute of Technology",
         "2"
        ],
        [
         "2",
         "Australian International School",
         "1"
        ],
        [
         "3",
         "Balboa High School",
         "1"
        ],
        [
         "4",
         "Beijing Union University",
         "1"
        ],
        [
         "5",
         "Beijing University of Posts and Telecommunications",
         "5"
        ],
        [
         "6",
         "Birmingham City University",
         "1"
        ],
        [
         "7",
         "Bohai University, formerly Jinzhou Teachers' College",
         "1"
        ],
        [
         "8",
         "Boynton High School",
         "1"
        ],
        [
         "9",
         "Brunel University London",
         "1"
        ],
        [
         "10",
         "CSU EAST BAY",
         "2"
        ],
        [
         "11",
         "Cabrillo College",
         "1"
        ],
        [
         "12",
         "Cal Poly San Luis Obispo",
         "1"
        ],
        [
         "13",
         "California Polytechnic State University-San Luis Obispo",
         "4"
        ],
        [
         "14",
         "California State Polytechnic University",
         "1"
        ],
        [
         "15",
         "California State Polytechnic University-Pomona",
         "2"
        ],
        [
         "16",
         "California State University - East Bay",
         "9"
        ],
        [
         "17",
         "California State University, Fullerton",
         "5"
        ],
        [
         "18",
         "California State University, Long Beach",
         "3"
        ],
        [
         "19",
         "California State University, Stanislaus",
         "1"
        ],
        [
         "20",
         "California State University-East Bay",
         "3"
        ],
        [
         "21",
         "California State University-Long Beach",
         "1"
        ],
        [
         "22",
         "California State University-Sacramento",
         "2"
        ],
        [
         "23",
         "Chabot College",
         "2"
        ],
        [
         "24",
         "Charles Sturt University",
         "2"
        ],
        [
         "25",
         "Chengdu University",
         "1"
        ],
        [
         "26",
         "Chengdu university of technology",
         "1"
        ],
        [
         "27",
         "China Agricultural University",
         "1"
        ],
        [
         "28",
         "China Foreign Affaire University",
         "1"
        ],
        [
         "29",
         "China University of Geosciences (Beijing)",
         "1"
        ],
        [
         "30",
         "China University of Geosciences(Beijing)",
         "1"
        ],
        [
         "31",
         "Chinese Culture University",
         "5"
        ],
        [
         "32",
         "City College of San Francisco",
         "1"
        ],
        [
         "33",
         "Civil Aviation University of China",
         "1"
        ],
        [
         "34",
         "Claremont Graduate University",
         "1"
        ],
        [
         "35",
         "College of Information & Business, Zhongyuan University of Technology",
         "1"
        ],
        [
         "36",
         "Concordia University-Portland",
         "5"
        ],
        [
         "37",
         "Dalian University of Foreign Languages",
         "1"
        ],
        [
         "38",
         "De Anza College",
         "9"
        ],
        [
         "39",
         "De La Salle University - Dasmariu00f1as",
         "1"
        ],
        [
         "40",
         "DePaul University - Charles H. Kellstadt Graduate School of Business",
         "1"
        ],
        [
         "41",
         "DeVry University",
         "1"
        ],
        [
         "42",
         "DeVry University-California",
         "2"
        ],
        [
         "43",
         "Del Mar High School",
         "2"
        ],
        [
         "44",
         "Delhi University",
         "1"
        ],
        [
         "45",
         "Devry University",
         "1"
        ],
        [
         "46",
         "Diablo Valley College",
         "2"
        ],
        [
         "47",
         "Duke University",
         "1"
        ],
        [
         "48",
         "East Los Angeles College",
         "1"
        ],
        [
         "49",
         "Eastern Florida State College",
         "1"
        ]
       ],
       "shape": {
        "columns": 2,
        "rows": 220
       }
      },
      "text/html": [
       "<div>\n",
       "<style scoped>\n",
       "    .dataframe tbody tr th:only-of-type {\n",
       "        vertical-align: middle;\n",
       "    }\n",
       "\n",
       "    .dataframe tbody tr th {\n",
       "        vertical-align: top;\n",
       "    }\n",
       "\n",
       "    .dataframe thead th {\n",
       "        text-align: right;\n",
       "    }\n",
       "</style>\n",
       "<table border=\"1\" class=\"dataframe\">\n",
       "  <thead>\n",
       "    <tr style=\"text-align: right;\">\n",
       "      <th></th>\n",
       "      <th>university_raw</th>\n",
       "      <th>0</th>\n",
       "    </tr>\n",
       "  </thead>\n",
       "  <tbody>\n",
       "    <tr>\n",
       "      <th>0</th>\n",
       "      <td>Abraham Lincoln High</td>\n",
       "      <td>1</td>\n",
       "    </tr>\n",
       "    <tr>\n",
       "      <th>1</th>\n",
       "      <td>Afghan Institute of Technology</td>\n",
       "      <td>2</td>\n",
       "    </tr>\n",
       "    <tr>\n",
       "      <th>2</th>\n",
       "      <td>Australian International School</td>\n",
       "      <td>1</td>\n",
       "    </tr>\n",
       "    <tr>\n",
       "      <th>3</th>\n",
       "      <td>Balboa High School</td>\n",
       "      <td>1</td>\n",
       "    </tr>\n",
       "    <tr>\n",
       "      <th>4</th>\n",
       "      <td>Beijing Union University</td>\n",
       "      <td>1</td>\n",
       "    </tr>\n",
       "    <tr>\n",
       "      <th>...</th>\n",
       "      <td>...</td>\n",
       "      <td>...</td>\n",
       "    </tr>\n",
       "    <tr>\n",
       "      <th>215</th>\n",
       "      <td>聖約翰科技大學</td>\n",
       "      <td>1</td>\n",
       "    </tr>\n",
       "    <tr>\n",
       "      <th>216</th>\n",
       "      <td>西安翻译学院</td>\n",
       "      <td>2</td>\n",
       "    </tr>\n",
       "    <tr>\n",
       "      <th>217</th>\n",
       "      <td>长安大学</td>\n",
       "      <td>1</td>\n",
       "    </tr>\n",
       "    <tr>\n",
       "      <th>218</th>\n",
       "      <td>长春理工大学</td>\n",
       "      <td>2</td>\n",
       "    </tr>\n",
       "    <tr>\n",
       "      <th>219</th>\n",
       "      <td>黄冈师范学院</td>\n",
       "      <td>1</td>\n",
       "    </tr>\n",
       "  </tbody>\n",
       "</table>\n",
       "<p>220 rows × 2 columns</p>\n",
       "</div>"
      ],
      "text/plain": [
       "                      university_raw  0\n",
       "0               Abraham Lincoln High  1\n",
       "1     Afghan Institute of Technology  2\n",
       "2    Australian International School  1\n",
       "3                 Balboa High School  1\n",
       "4           Beijing Union University  1\n",
       "..                               ... ..\n",
       "215                          聖約翰科技大學  1\n",
       "216                           西安翻译学院  2\n",
       "217                             长安大学  1\n",
       "218                           长春理工大学  2\n",
       "219                           黄冈师范学院  1\n",
       "\n",
       "[220 rows x 2 columns]"
      ]
     },
     "execution_count": 108,
     "metadata": {},
     "output_type": "execute_result"
    }
   ],
   "source": [
    "test.groupby('university_raw').size().reset_index()"
   ]
  },
  {
   "cell_type": "code",
   "execution_count": null,
   "metadata": {},
   "outputs": [
    {
     "data": {
      "application/vnd.microsoft.datawrangler.viewer.v0+json": {
       "columns": [
        {
         "name": "index",
         "rawType": "int64",
         "type": "integer"
        },
        {
         "name": "country",
         "rawType": "string",
         "type": "string"
        },
        {
         "name": "state",
         "rawType": "string",
         "type": "string"
        },
        {
         "name": "metro_area",
         "rawType": "string",
         "type": "string"
        },
        {
         "name": "title_raw",
         "rawType": "string",
         "type": "string"
        },
        {
         "name": "company",
         "rawType": "string",
         "type": "string"
        },
        {
         "name": "pos_startdate",
         "rawType": "string",
         "type": "string"
        },
        {
         "name": "pos_enddate",
         "rawType": "string",
         "type": "string"
        },
        {
         "name": "salary",
         "rawType": "Float64",
         "type": "float"
        }
       ],
       "conversionMethod": "pd.DataFrame",
       "ref": "4cf88c77-0a9e-4688-8101-263265518eac",
       "rows": [
        [
         "0",
         "United States",
         "Massachusetts",
         "boston metropolitan area",
         "Graduate Research Assistant",
         "The Trustees of Columbia University in The City of New York",
         "2019-08-01",
         "2020-05-01",
         "59380.65"
        ],
        [
         "1",
         "United States",
         "Massachusetts",
         "boston metropolitan area",
         "Graduate Tutor",
         "The Trustees of Columbia University in The City of New York",
         "2019-09-01",
         "2020-04-01",
         "67227.4"
        ],
        [
         "2",
         "United States",
         "Massachusetts",
         "boston metropolitan area",
         "Examinations Proctor",
         "The Trustees of Columbia University in The City of New York",
         "2019-10-01",
         "2020-04-01",
         "67855.35"
        ],
        [
         "3",
         "United States",
         "Massachusetts",
         "boston metropolitan area",
         "Member",
         "The Trustees of Columbia University in The City of New York",
         "2019-10-01",
         "2020-05-01",
         "106178.66"
        ],
        [
         "4",
         "United States",
         "Massachusetts",
         "boston metropolitan area",
         "Communications Lead",
         "The Trustees of Columbia University in The City of New York",
         "2019-10-01",
         "2019-12-01",
         "56374.0"
        ],
        [
         "5",
         "United States",
         "Massachusetts",
         "boston metropolitan area",
         "President: Columbia Engineering Energy Club (CEEC)",
         "The Trustees of Columbia University in The City of New York",
         "2020-01-01",
         "2020-12-01",
         "204810.74"
        ],
        [
         "6",
         "United States",
         "Massachusetts",
         "boston metropolitan area",
         "Member: Omega Chi Epsilon Honor Society",
         "The Trustees of Columbia University in The City of New York",
         "2021-01-01",
         "2022-05-01",
         "103780.21"
        ],
        [
         "7",
         "United States",
         "New York",
         "new york city metropolitan area",
         "Materials Intern",
         "Folia Water, Inc.",
         "2020-05-01",
         "2020-08-01",
         "38654.43"
        ],
        [
         "8",
         "United States",
         "Massachusetts",
         "boston metropolitan area",
         "Chemical Engineer",
         "Folia Water, Inc.",
         "2020-09-01",
         "2020-12-01",
         "96631.74"
        ],
        [
         "9",
         "United States",
         "Massachusetts",
         "boston metropolitan area",
         "Chemical Engineer",
         "Folia Water, Inc.",
         "2021-01-01",
         "2022-05-01",
         "109548.08"
        ],
        [
         "10",
         "India",
         "Karnataka",
         "india nonmetropolitan area",
         "Project Intern",
         "Manipal Institute of Technology",
         "2017-06-01",
         "2017-08-01",
         "4118.49"
        ],
        [
         "11",
         "India",
         "Maharashtra",
         "mumbai metropolitan area",
         "Research Fellow",
         "Indian Institute of Technology Bombay",
         "2019-01-01",
         "2019-06-01",
         "7247.01"
        ],
        [
         "12",
         "India",
         "Rajasthan",
         "jaipur metropolitan area",
         "Summer Intern",
         "Amol Pharmaceuticals Pvt Ltd.",
         "2016-06-01",
         "2016-07-01",
         "2830.35"
        ],
        [
         "13",
         "United States",
         "Massachusetts",
         "boston metropolitan area",
         "Product Development Engineer I",
         "Actnano, Inc.",
         "2022-05-01",
         "2023-01-01",
         "112918.57"
        ],
        [
         "14",
         "United States",
         "Massachusetts",
         "boston metropolitan area",
         "Product Development Engineer II",
         "Actnano, Inc.",
         "2023-01-01",
         "2023-03-01",
         "116061.87"
        ],
        [
         "15",
         "United States",
         "Massachusetts",
         "boston metropolitan area",
         "Process Development Engineer II",
         "Actnano, Inc.",
         "2023-03-01",
         "2024-01-01",
         "118289.44"
        ],
        [
         "16",
         "United States",
         "Massachusetts",
         "boston metropolitan area",
         "Senior Engineer- Manufacturing & Process Development",
         "Actnano, Inc.",
         "2024-01-01",
         null,
         "145001.01"
        ],
        [
         "17",
         "Serbia",
         null,
         "serbia nonmetropolitan area",
         "Research Intern",
         "University of Belgrade",
         "2018-06-01",
         "2018-08-01",
         "20736.1"
        ]
       ],
       "shape": {
        "columns": 8,
        "rows": 18
       }
      },
      "text/html": [
       "<div>\n",
       "<style scoped>\n",
       "    .dataframe tbody tr th:only-of-type {\n",
       "        vertical-align: middle;\n",
       "    }\n",
       "\n",
       "    .dataframe tbody tr th {\n",
       "        vertical-align: top;\n",
       "    }\n",
       "\n",
       "    .dataframe thead th {\n",
       "        text-align: right;\n",
       "    }\n",
       "</style>\n",
       "<table border=\"1\" class=\"dataframe\">\n",
       "  <thead>\n",
       "    <tr style=\"text-align: right;\">\n",
       "      <th></th>\n",
       "      <th>country</th>\n",
       "      <th>state</th>\n",
       "      <th>metro_area</th>\n",
       "      <th>title_raw</th>\n",
       "      <th>company</th>\n",
       "      <th>pos_startdate</th>\n",
       "      <th>pos_enddate</th>\n",
       "      <th>salary</th>\n",
       "    </tr>\n",
       "  </thead>\n",
       "  <tbody>\n",
       "    <tr>\n",
       "      <th>0</th>\n",
       "      <td>United States</td>\n",
       "      <td>Massachusetts</td>\n",
       "      <td>boston metropolitan area</td>\n",
       "      <td>Graduate Research Assistant</td>\n",
       "      <td>The Trustees of Columbia University in The Cit...</td>\n",
       "      <td>2019-08-01</td>\n",
       "      <td>2020-05-01</td>\n",
       "      <td>59380.65</td>\n",
       "    </tr>\n",
       "    <tr>\n",
       "      <th>1</th>\n",
       "      <td>United States</td>\n",
       "      <td>Massachusetts</td>\n",
       "      <td>boston metropolitan area</td>\n",
       "      <td>Graduate Tutor</td>\n",
       "      <td>The Trustees of Columbia University in The Cit...</td>\n",
       "      <td>2019-09-01</td>\n",
       "      <td>2020-04-01</td>\n",
       "      <td>67227.4</td>\n",
       "    </tr>\n",
       "    <tr>\n",
       "      <th>2</th>\n",
       "      <td>United States</td>\n",
       "      <td>Massachusetts</td>\n",
       "      <td>boston metropolitan area</td>\n",
       "      <td>Examinations Proctor</td>\n",
       "      <td>The Trustees of Columbia University in The Cit...</td>\n",
       "      <td>2019-10-01</td>\n",
       "      <td>2020-04-01</td>\n",
       "      <td>67855.35</td>\n",
       "    </tr>\n",
       "    <tr>\n",
       "      <th>3</th>\n",
       "      <td>United States</td>\n",
       "      <td>Massachusetts</td>\n",
       "      <td>boston metropolitan area</td>\n",
       "      <td>Member</td>\n",
       "      <td>The Trustees of Columbia University in The Cit...</td>\n",
       "      <td>2019-10-01</td>\n",
       "      <td>2020-05-01</td>\n",
       "      <td>106178.66</td>\n",
       "    </tr>\n",
       "    <tr>\n",
       "      <th>4</th>\n",
       "      <td>United States</td>\n",
       "      <td>Massachusetts</td>\n",
       "      <td>boston metropolitan area</td>\n",
       "      <td>Communications Lead</td>\n",
       "      <td>The Trustees of Columbia University in The Cit...</td>\n",
       "      <td>2019-10-01</td>\n",
       "      <td>2019-12-01</td>\n",
       "      <td>56374.0</td>\n",
       "    </tr>\n",
       "    <tr>\n",
       "      <th>5</th>\n",
       "      <td>United States</td>\n",
       "      <td>Massachusetts</td>\n",
       "      <td>boston metropolitan area</td>\n",
       "      <td>President: Columbia Engineering Energy Club (C...</td>\n",
       "      <td>The Trustees of Columbia University in The Cit...</td>\n",
       "      <td>2020-01-01</td>\n",
       "      <td>2020-12-01</td>\n",
       "      <td>204810.74</td>\n",
       "    </tr>\n",
       "    <tr>\n",
       "      <th>6</th>\n",
       "      <td>United States</td>\n",
       "      <td>Massachusetts</td>\n",
       "      <td>boston metropolitan area</td>\n",
       "      <td>Member: Omega Chi Epsilon Honor Society</td>\n",
       "      <td>The Trustees of Columbia University in The Cit...</td>\n",
       "      <td>2021-01-01</td>\n",
       "      <td>2022-05-01</td>\n",
       "      <td>103780.21</td>\n",
       "    </tr>\n",
       "    <tr>\n",
       "      <th>7</th>\n",
       "      <td>United States</td>\n",
       "      <td>New York</td>\n",
       "      <td>new york city metropolitan area</td>\n",
       "      <td>Materials Intern</td>\n",
       "      <td>Folia Water, Inc.</td>\n",
       "      <td>2020-05-01</td>\n",
       "      <td>2020-08-01</td>\n",
       "      <td>38654.43</td>\n",
       "    </tr>\n",
       "    <tr>\n",
       "      <th>8</th>\n",
       "      <td>United States</td>\n",
       "      <td>Massachusetts</td>\n",
       "      <td>boston metropolitan area</td>\n",
       "      <td>Chemical Engineer</td>\n",
       "      <td>Folia Water, Inc.</td>\n",
       "      <td>2020-09-01</td>\n",
       "      <td>2020-12-01</td>\n",
       "      <td>96631.74</td>\n",
       "    </tr>\n",
       "    <tr>\n",
       "      <th>9</th>\n",
       "      <td>United States</td>\n",
       "      <td>Massachusetts</td>\n",
       "      <td>boston metropolitan area</td>\n",
       "      <td>Chemical Engineer</td>\n",
       "      <td>Folia Water, Inc.</td>\n",
       "      <td>2021-01-01</td>\n",
       "      <td>2022-05-01</td>\n",
       "      <td>109548.08</td>\n",
       "    </tr>\n",
       "    <tr>\n",
       "      <th>10</th>\n",
       "      <td>India</td>\n",
       "      <td>Karnataka</td>\n",
       "      <td>india nonmetropolitan area</td>\n",
       "      <td>Project Intern</td>\n",
       "      <td>Manipal Institute of Technology</td>\n",
       "      <td>2017-06-01</td>\n",
       "      <td>2017-08-01</td>\n",
       "      <td>4118.49</td>\n",
       "    </tr>\n",
       "    <tr>\n",
       "      <th>11</th>\n",
       "      <td>India</td>\n",
       "      <td>Maharashtra</td>\n",
       "      <td>mumbai metropolitan area</td>\n",
       "      <td>Research Fellow</td>\n",
       "      <td>Indian Institute of Technology Bombay</td>\n",
       "      <td>2019-01-01</td>\n",
       "      <td>2019-06-01</td>\n",
       "      <td>7247.01</td>\n",
       "    </tr>\n",
       "    <tr>\n",
       "      <th>12</th>\n",
       "      <td>India</td>\n",
       "      <td>Rajasthan</td>\n",
       "      <td>jaipur metropolitan area</td>\n",
       "      <td>Summer Intern</td>\n",
       "      <td>Amol Pharmaceuticals Pvt Ltd.</td>\n",
       "      <td>2016-06-01</td>\n",
       "      <td>2016-07-01</td>\n",
       "      <td>2830.35</td>\n",
       "    </tr>\n",
       "    <tr>\n",
       "      <th>13</th>\n",
       "      <td>United States</td>\n",
       "      <td>Massachusetts</td>\n",
       "      <td>boston metropolitan area</td>\n",
       "      <td>Product Development Engineer I</td>\n",
       "      <td>Actnano, Inc.</td>\n",
       "      <td>2022-05-01</td>\n",
       "      <td>2023-01-01</td>\n",
       "      <td>112918.57</td>\n",
       "    </tr>\n",
       "    <tr>\n",
       "      <th>14</th>\n",
       "      <td>United States</td>\n",
       "      <td>Massachusetts</td>\n",
       "      <td>boston metropolitan area</td>\n",
       "      <td>Product Development Engineer II</td>\n",
       "      <td>Actnano, Inc.</td>\n",
       "      <td>2023-01-01</td>\n",
       "      <td>2023-03-01</td>\n",
       "      <td>116061.87</td>\n",
       "    </tr>\n",
       "    <tr>\n",
       "      <th>15</th>\n",
       "      <td>United States</td>\n",
       "      <td>Massachusetts</td>\n",
       "      <td>boston metropolitan area</td>\n",
       "      <td>Process Development Engineer II</td>\n",
       "      <td>Actnano, Inc.</td>\n",
       "      <td>2023-03-01</td>\n",
       "      <td>2024-01-01</td>\n",
       "      <td>118289.44</td>\n",
       "    </tr>\n",
       "    <tr>\n",
       "      <th>16</th>\n",
       "      <td>United States</td>\n",
       "      <td>Massachusetts</td>\n",
       "      <td>boston metropolitan area</td>\n",
       "      <td>Senior Engineer- Manufacturing &amp; Process Devel...</td>\n",
       "      <td>Actnano, Inc.</td>\n",
       "      <td>2024-01-01</td>\n",
       "      <td>&lt;NA&gt;</td>\n",
       "      <td>145001.01</td>\n",
       "    </tr>\n",
       "    <tr>\n",
       "      <th>17</th>\n",
       "      <td>Serbia</td>\n",
       "      <td>&lt;NA&gt;</td>\n",
       "      <td>serbia nonmetropolitan area</td>\n",
       "      <td>Research Intern</td>\n",
       "      <td>University of Belgrade</td>\n",
       "      <td>2018-06-01</td>\n",
       "      <td>2018-08-01</td>\n",
       "      <td>20736.1</td>\n",
       "    </tr>\n",
       "  </tbody>\n",
       "</table>\n",
       "</div>"
      ],
      "text/plain": [
       "          country          state                       metro_area  \\\n",
       "0   United States  Massachusetts         boston metropolitan area   \n",
       "1   United States  Massachusetts         boston metropolitan area   \n",
       "2   United States  Massachusetts         boston metropolitan area   \n",
       "3   United States  Massachusetts         boston metropolitan area   \n",
       "4   United States  Massachusetts         boston metropolitan area   \n",
       "5   United States  Massachusetts         boston metropolitan area   \n",
       "6   United States  Massachusetts         boston metropolitan area   \n",
       "7   United States       New York  new york city metropolitan area   \n",
       "8   United States  Massachusetts         boston metropolitan area   \n",
       "9   United States  Massachusetts         boston metropolitan area   \n",
       "10          India      Karnataka       india nonmetropolitan area   \n",
       "11          India    Maharashtra         mumbai metropolitan area   \n",
       "12          India      Rajasthan         jaipur metropolitan area   \n",
       "13  United States  Massachusetts         boston metropolitan area   \n",
       "14  United States  Massachusetts         boston metropolitan area   \n",
       "15  United States  Massachusetts         boston metropolitan area   \n",
       "16  United States  Massachusetts         boston metropolitan area   \n",
       "17         Serbia           <NA>      serbia nonmetropolitan area   \n",
       "\n",
       "                                            title_raw  \\\n",
       "0                         Graduate Research Assistant   \n",
       "1                                      Graduate Tutor   \n",
       "2                                Examinations Proctor   \n",
       "3                                              Member   \n",
       "4                                 Communications Lead   \n",
       "5   President: Columbia Engineering Energy Club (C...   \n",
       "6             Member: Omega Chi Epsilon Honor Society   \n",
       "7                                    Materials Intern   \n",
       "8                                   Chemical Engineer   \n",
       "9                                   Chemical Engineer   \n",
       "10                                     Project Intern   \n",
       "11                                    Research Fellow   \n",
       "12                                      Summer Intern   \n",
       "13                     Product Development Engineer I   \n",
       "14                    Product Development Engineer II   \n",
       "15                    Process Development Engineer II   \n",
       "16  Senior Engineer- Manufacturing & Process Devel...   \n",
       "17                                    Research Intern   \n",
       "\n",
       "                                              company pos_startdate  \\\n",
       "0   The Trustees of Columbia University in The Cit...    2019-08-01   \n",
       "1   The Trustees of Columbia University in The Cit...    2019-09-01   \n",
       "2   The Trustees of Columbia University in The Cit...    2019-10-01   \n",
       "3   The Trustees of Columbia University in The Cit...    2019-10-01   \n",
       "4   The Trustees of Columbia University in The Cit...    2019-10-01   \n",
       "5   The Trustees of Columbia University in The Cit...    2020-01-01   \n",
       "6   The Trustees of Columbia University in The Cit...    2021-01-01   \n",
       "7                                   Folia Water, Inc.    2020-05-01   \n",
       "8                                   Folia Water, Inc.    2020-09-01   \n",
       "9                                   Folia Water, Inc.    2021-01-01   \n",
       "10                    Manipal Institute of Technology    2017-06-01   \n",
       "11              Indian Institute of Technology Bombay    2019-01-01   \n",
       "12                      Amol Pharmaceuticals Pvt Ltd.    2016-06-01   \n",
       "13                                      Actnano, Inc.    2022-05-01   \n",
       "14                                      Actnano, Inc.    2023-01-01   \n",
       "15                                      Actnano, Inc.    2023-03-01   \n",
       "16                                      Actnano, Inc.    2024-01-01   \n",
       "17                             University of Belgrade    2018-06-01   \n",
       "\n",
       "   pos_enddate     salary  \n",
       "0   2020-05-01   59380.65  \n",
       "1   2020-04-01    67227.4  \n",
       "2   2020-04-01   67855.35  \n",
       "3   2020-05-01  106178.66  \n",
       "4   2019-12-01    56374.0  \n",
       "5   2020-12-01  204810.74  \n",
       "6   2022-05-01  103780.21  \n",
       "7   2020-08-01   38654.43  \n",
       "8   2020-12-01   96631.74  \n",
       "9   2022-05-01  109548.08  \n",
       "10  2017-08-01    4118.49  \n",
       "11  2019-06-01    7247.01  \n",
       "12  2016-07-01    2830.35  \n",
       "13  2023-01-01  112918.57  \n",
       "14  2023-03-01  116061.87  \n",
       "15  2024-01-01  118289.44  \n",
       "16        <NA>  145001.01  \n",
       "17  2018-08-01    20736.1  "
      ]
     },
     "execution_count": 75,
     "metadata": {},
     "output_type": "execute_result"
    }
   ],
   "source": [
    "test_user_id = 4205215.0\n",
    "testuser_positions = db.raw_sql(f\"SELECT a.user_id AS user_id, b.position_id AS pos_id, country, state, metro_area, b.startdate AS pos_startdate, b.enddate AS pos_enddate, role_k1500, weight, start_salary, end_salary, seniority, salary, position_number, b.rcid AS rcid, company, total_compensation, fullname, highest_degree, sex_predicted, ethnicity_predicted, user_location, user_country, updated_dt, title_raw FROM (SELECT * FROM revelio.individual_user WHERE user_id = {test_user_id}) AS a LEFT JOIN (SELECT * FROM revelio.individual_positions) AS b ON a.user_id = b.user_id LEFT JOIN (SELECT position_id, company_raw, location_raw, title_raw, description FROM revelio.individual_positions_raw) AS d ON b.position_id = d.position_id LEFT JOIN (SELECT rcid, company FROM revelio.company_mapping) AS f ON b.rcid = f.rcid\")\n",
    "\n",
    "testuser_positions[['country','state','metro_area','title_raw','company','pos_startdate','pos_enddate','salary']]"
   ]
  },
  {
   "cell_type": "code",
   "execution_count": null,
   "metadata": {},
   "outputs": [
    {
     "data": {
      "application/vnd.microsoft.datawrangler.viewer.v0+json": {
       "columns": [
        {
         "name": "index",
         "rawType": "int64",
         "type": "integer"
        },
        {
         "name": "rcid",
         "rawType": "Float64",
         "type": "float"
        },
        {
         "name": "company",
         "rawType": "string",
         "type": "string"
        },
        {
         "name": "factset_entity_id",
         "rawType": "string",
         "type": "string"
        },
        {
         "name": "year_founded",
         "rawType": "string",
         "type": "string"
        },
        {
         "name": "ticker",
         "rawType": "string",
         "type": "string"
        },
        {
         "name": "exchange_name",
         "rawType": "string",
         "type": "string"
        },
        {
         "name": "sedol",
         "rawType": "string",
         "type": "string"
        },
        {
         "name": "isin",
         "rawType": "string",
         "type": "string"
        },
        {
         "name": "cusip",
         "rawType": "string",
         "type": "string"
        },
        {
         "name": "url",
         "rawType": "string",
         "type": "string"
        },
        {
         "name": "naics_code",
         "rawType": "string",
         "type": "string"
        },
        {
         "name": "cik",
         "rawType": "string",
         "type": "string"
        },
        {
         "name": "lei",
         "rawType": "string",
         "type": "string"
        },
        {
         "name": "linkedin_url",
         "rawType": "string",
         "type": "string"
        },
        {
         "name": "child_rcid",
         "rawType": "Int64",
         "type": "integer"
        },
        {
         "name": "child_company",
         "rawType": "string",
         "type": "string"
        },
        {
         "name": "child_linkedin_url",
         "rawType": "string",
         "type": "string"
        },
        {
         "name": "ultimate_parent_rcid",
         "rawType": "Float64",
         "type": "float"
        },
        {
         "name": "ultimate_parent_company_name",
         "rawType": "string",
         "type": "string"
        },
        {
         "name": "gvkey",
         "rawType": "string",
         "type": "string"
        },
        {
         "name": "ein",
         "rawType": "string",
         "type": "string"
        },
        {
         "name": "hq_street_address",
         "rawType": "string",
         "type": "string"
        },
        {
         "name": "hq_zip_code",
         "rawType": "string",
         "type": "string"
        },
        {
         "name": "hq_city",
         "rawType": "string",
         "type": "string"
        },
        {
         "name": "hq_metro_area",
         "rawType": "string",
         "type": "string"
        },
        {
         "name": "hq_state",
         "rawType": "string",
         "type": "string"
        },
        {
         "name": "hq_country",
         "rawType": "string",
         "type": "string"
        },
        {
         "name": "hq_region",
         "rawType": "string",
         "type": "string"
        },
        {
         "name": "rics_k50",
         "rawType": "string",
         "type": "string"
        },
        {
         "name": "rics_k200",
         "rawType": "string",
         "type": "string"
        },
        {
         "name": "rics_k400",
         "rawType": "string",
         "type": "string"
        },
        {
         "name": "phone_number",
         "rawType": "string",
         "type": "string"
        },
        {
         "name": "slogan",
         "rawType": "string",
         "type": "string"
        },
        {
         "name": "description",
         "rawType": "string",
         "type": "string"
        }
       ],
       "conversionMethod": "pd.DataFrame",
       "ref": "448946f7-5e97-47bc-87d6-e953b87313ef",
       "rows": [
        [
         "0",
         "732750.0",
         "Folia Water, Inc.",
         "0HM5VY-E",
         "2016",
         null,
         null,
         null,
         null,
         null,
         "foliamaterials.com",
         "333310",
         null,
         null,
         "http://linkedin.com/company/folia-materials",
         "732750",
         "Folia Water, Inc.",
         "http://linkedin.com/company/folia-materials",
         "732750.0",
         "Folia Water, Inc.",
         null,
         null,
         "1401 Forbes Avenue",
         "15219",
         "Pittsburgh",
         "pittsburgh metropolitan area",
         "Pennsylvania",
         "United States",
         "Northern America",
         "Wellness Products",
         "Home Goods and Personal Care Products",
         "Home Goods and Personal Care Products",
         null,
         "Folia Materials: advanced materials inside mass market products",
         "Folis is making a safer, cleaner, and healthier world. Our patent-pending silver coating for paper adds anti-viral, anti-microbial, or other advanced functionality to products for pennies. That’s possible because our patented process mass produces advanced paper at the lowest cost possible by using commodity inputs and standard machinery requiring no CapEx.  Product lines: 1. Folia PPE’s anti-viral paper coating makes face masks anti-viral Anti-viral face masks using our anti-viral coating to make a paper outer layer for face masks. FDA approval is pending for our anti-viral 3-ply face masks at $1 MSRP.  2. Folia Packaging: the future of packaging: paper, not plastic, in stealth development with a Fortune 200 food company.  3. Folia Water: the world's first water filter for pennies, not dollars, a mass market grocery staple for South Asia Mission: universal access to clean drinking water The Folia Water Filter is a 20 cent - 20 liter antimicrobial paper water purifier that is the world's first-ever water filter with grocery store pricing. We are creating a new $10B sub-category. Our Unilever-sponsored Bangladesh sales pilot had a 48% repeat purchase rate."
        ]
       ],
       "shape": {
        "columns": 34,
        "rows": 1
       }
      },
      "text/html": [
       "<div>\n",
       "<style scoped>\n",
       "    .dataframe tbody tr th:only-of-type {\n",
       "        vertical-align: middle;\n",
       "    }\n",
       "\n",
       "    .dataframe tbody tr th {\n",
       "        vertical-align: top;\n",
       "    }\n",
       "\n",
       "    .dataframe thead th {\n",
       "        text-align: right;\n",
       "    }\n",
       "</style>\n",
       "<table border=\"1\" class=\"dataframe\">\n",
       "  <thead>\n",
       "    <tr style=\"text-align: right;\">\n",
       "      <th></th>\n",
       "      <th>rcid</th>\n",
       "      <th>company</th>\n",
       "      <th>factset_entity_id</th>\n",
       "      <th>year_founded</th>\n",
       "      <th>ticker</th>\n",
       "      <th>exchange_name</th>\n",
       "      <th>sedol</th>\n",
       "      <th>isin</th>\n",
       "      <th>cusip</th>\n",
       "      <th>url</th>\n",
       "      <th>...</th>\n",
       "      <th>hq_metro_area</th>\n",
       "      <th>hq_state</th>\n",
       "      <th>hq_country</th>\n",
       "      <th>hq_region</th>\n",
       "      <th>rics_k50</th>\n",
       "      <th>rics_k200</th>\n",
       "      <th>rics_k400</th>\n",
       "      <th>phone_number</th>\n",
       "      <th>slogan</th>\n",
       "      <th>description</th>\n",
       "    </tr>\n",
       "  </thead>\n",
       "  <tbody>\n",
       "    <tr>\n",
       "      <th>0</th>\n",
       "      <td>732750.0</td>\n",
       "      <td>Folia Water, Inc.</td>\n",
       "      <td>0HM5VY-E</td>\n",
       "      <td>2016</td>\n",
       "      <td>&lt;NA&gt;</td>\n",
       "      <td>&lt;NA&gt;</td>\n",
       "      <td>&lt;NA&gt;</td>\n",
       "      <td>&lt;NA&gt;</td>\n",
       "      <td>&lt;NA&gt;</td>\n",
       "      <td>foliamaterials.com</td>\n",
       "      <td>...</td>\n",
       "      <td>pittsburgh metropolitan area</td>\n",
       "      <td>Pennsylvania</td>\n",
       "      <td>United States</td>\n",
       "      <td>Northern America</td>\n",
       "      <td>Wellness Products</td>\n",
       "      <td>Home Goods and Personal Care Products</td>\n",
       "      <td>Home Goods and Personal Care Products</td>\n",
       "      <td>&lt;NA&gt;</td>\n",
       "      <td>Folia Materials: advanced materials inside mas...</td>\n",
       "      <td>Folis is making a safer, cleaner, and healthie...</td>\n",
       "    </tr>\n",
       "  </tbody>\n",
       "</table>\n",
       "<p>1 rows × 34 columns</p>\n",
       "</div>"
      ],
      "text/plain": [
       "       rcid            company factset_entity_id year_founded ticker  \\\n",
       "0  732750.0  Folia Water, Inc.          0HM5VY-E         2016   <NA>   \n",
       "\n",
       "  exchange_name sedol  isin cusip                 url  ...  \\\n",
       "0          <NA>  <NA>  <NA>  <NA>  foliamaterials.com  ...   \n",
       "\n",
       "                  hq_metro_area      hq_state     hq_country  \\\n",
       "0  pittsburgh metropolitan area  Pennsylvania  United States   \n",
       "\n",
       "          hq_region           rics_k50                              rics_k200  \\\n",
       "0  Northern America  Wellness Products  Home Goods and Personal Care Products   \n",
       "\n",
       "                               rics_k400  phone_number  \\\n",
       "0  Home Goods and Personal Care Products          <NA>   \n",
       "\n",
       "                                              slogan  \\\n",
       "0  Folia Materials: advanced materials inside mas...   \n",
       "\n",
       "                                         description  \n",
       "0  Folis is making a safer, cleaner, and healthie...  \n",
       "\n",
       "[1 rows x 34 columns]"
      ]
     },
     "execution_count": 66,
     "metadata": {},
     "output_type": "execute_result"
    }
   ],
   "source": [
    "testuser_educ = db.raw_sql(f\"SELECT a.user_id AS user_id, fullname, highest_degree, sex_predicted, ethnicity_predicted, user_location, user_country, updated_dt, university_name, c.education_number, c.startdate AS ed_startdate, c.enddate AS ed_enddate, degree, field, university_country, university_raw, degree_raw, field_raw FROM (SELECT * FROM revelio.individual_user WHERE user_id = {test_user_id}) AS a LEFT JOIN (SELECT * FROM revelio.individual_user_education) AS c ON a.user_id = c.user_id LEFT JOIN (SELECT * FROM revelio.individual_user_education_raw) AS e ON c.user_id = e.user_id AND c.education_number=e.education_number\")\n",
    "\n",
    "testuser_educ[['fullname','']]\n"
   ]
  }
 ],
 "metadata": {
  "kernelspec": {
   "display_name": "base",
   "language": "python",
   "name": "python3"
  },
  "language_info": {
   "codemirror_mode": {
    "name": "ipython",
    "version": 3
   },
   "file_extension": ".py",
   "mimetype": "text/x-python",
   "name": "python",
   "nbconvert_exporter": "python",
   "pygments_lexer": "ipython3",
   "version": "3.12.7"
  }
 },
 "nbformat": 4,
 "nbformat_minor": 2
}
